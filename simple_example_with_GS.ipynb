{
 "cells": [
  {
   "cell_type": "markdown",
   "metadata": {
    "collapsed": true
   },
   "source": [
    "# nolearn/lasagne -> tensorflow"
   ]
  },
  {
   "cell_type": "markdown",
   "metadata": {},
   "source": [
    "## Imports"
   ]
  },
  {
   "cell_type": "code",
   "execution_count": 1,
   "metadata": {
    "collapsed": false
   },
   "outputs": [],
   "source": [
    "import numpy as np\n",
    "from sklearn.grid_search import GridSearchCV\n",
    "import tensorflow as tf\n",
    "import pandas as pd"
   ]
  },
  {
   "cell_type": "code",
   "execution_count": 2,
   "metadata": {
    "collapsed": false
   },
   "outputs": [
    {
     "name": "stderr",
     "output_type": "stream",
     "text": [
      "Using gpu device 0: GeForce GTX 970 (CNMeM is disabled, cuDNN 4007)\n",
      "/home/vinh/work/forks/Theano/theano/tensor/signal/downsample.py:6: UserWarning: downsample module has been moved to the theano.tensor.signal.pool module.\n",
      "  \"downsample module has been moved to the theano.tensor.signal.pool module.\")\n"
     ]
    }
   ],
   "source": [
    "from mink.base import NeuralNet\n",
    "from mink.layers import DenseLayer\n",
    "from mink.layers import InputLayer\n",
    "from mink.inits import InitZeros, InitNormal, InitTruncatedNormal\n",
    "from mink.nonlinearities import Softmax\n",
    "from mink.updates import SGD"
   ]
  },
  {
   "cell_type": "markdown",
   "metadata": {},
   "source": [
    "## Data"
   ]
  },
  {
   "cell_type": "code",
   "execution_count": 3,
   "metadata": {
    "collapsed": true
   },
   "outputs": [],
   "source": [
    "floatX = tf.float32\n",
    "intX = tf.int32"
   ]
  },
  {
   "cell_type": "code",
   "execution_count": 4,
   "metadata": {
    "collapsed": true
   },
   "outputs": [],
   "source": [
    "df = pd.read_csv('../../data/mnist/train.csv')"
   ]
  },
  {
   "cell_type": "code",
   "execution_count": 5,
   "metadata": {
    "collapsed": true
   },
   "outputs": [],
   "source": [
    "y = df.pop('label')"
   ]
  },
  {
   "cell_type": "code",
   "execution_count": 6,
   "metadata": {
    "collapsed": true
   },
   "outputs": [],
   "source": [
    "X = (df.values / 255.).astype(np.float32)"
   ]
  },
  {
   "cell_type": "markdown",
   "metadata": {},
   "source": [
    "## Train"
   ]
  },
  {
   "cell_type": "code",
   "execution_count": 22,
   "metadata": {
    "collapsed": false
   },
   "outputs": [],
   "source": [
    "l0 = InputLayer()\n",
    "l1 = DenseLayer(l0, num_units=100, W_init=InitZeros(), b_init=InitNormal())\n",
    "l2 = DenseLayer(l1, num_units=10, nonlinearity=Softmax(), W_init=InitZeros(), b_init=InitZeros())"
   ]
  },
  {
   "cell_type": "code",
   "execution_count": 23,
   "metadata": {
    "collapsed": false
   },
   "outputs": [],
   "source": [
    "net = NeuralNet(l2, verbose=1)"
   ]
  },
  {
   "cell_type": "code",
   "execution_count": 24,
   "metadata": {
    "collapsed": false
   },
   "outputs": [
    {
     "data": {
      "text/plain": [
       "NeuralNet(Xs=None,\n",
       "     batch_iterator=<nolearn.lasagne.base.BatchIterator object at 0x7fa901d40080>,\n",
       "     binarizer=LabelBinarizer(neg_label=0, pos_label=1, sparse_output=False),\n",
       "     layer=DenseLayer(W_init=InitZeros(), b_init=InitZeros(),\n",
       "      incoming=DenseLayer(W_init=InitZeros(), b_init=InitNormal(mean=0.0, stddev=1.0),\n",
       "      incoming=InputLayer(Xs=None), nonlinearity=Rectify(), num_units=100),\n",
       "      nonlinearity=Softmax(), num_units=10),\n",
       "     max_epochs=10,\n",
       "     objective=Objective(loss_function=<function cross_entropy at 0x7fa90882da60>),\n",
       "     update=SGD(learning_rate=0.5), verbose=1, ys=None)"
      ]
     },
     "execution_count": 24,
     "metadata": {},
     "output_type": "execute_result"
    }
   ],
   "source": [
    "net.set_params(update__learning_rate=0.5)"
   ]
  },
  {
   "cell_type": "code",
   "execution_count": 25,
   "metadata": {
    "collapsed": false
   },
   "outputs": [
    {
     "data": {
      "text/plain": [
       "NeuralNet(Xs=None,\n",
       "     batch_iterator=<nolearn.lasagne.base.BatchIterator object at 0x7fa901d40080>,\n",
       "     binarizer=LabelBinarizer(neg_label=0, pos_label=1, sparse_output=False),\n",
       "     layer=DenseLayer(W_init=InitZeros(), b_init=InitZeros(),\n",
       "      incoming=DenseLayer(W_init=InitZeros(), b_init=InitNormal(mean=0.0, stddev=1.0),\n",
       "      incoming=InputLayer(Xs=None), nonlinearity=Rectify(), num_units=100),\n",
       "      nonlinearity=Softmax(), num_units=10),\n",
       "     max_epochs=10,\n",
       "     objective=Objective(loss_function=<function cross_entropy at 0x7fa90882da60>),\n",
       "     update=SGD(learning_rate=0.5), verbose=1, ys=None)"
      ]
     },
     "execution_count": 25,
     "metadata": {},
     "output_type": "execute_result"
    }
   ],
   "source": [
    "net.fit(X, y, num_epochs=0)"
   ]
  },
  {
   "cell_type": "code",
   "execution_count": 26,
   "metadata": {
    "collapsed": false
   },
   "outputs": [],
   "source": [
    "y_proba = net.predict_proba(X)"
   ]
  },
  {
   "cell_type": "code",
   "execution_count": 27,
   "metadata": {
    "collapsed": false
   },
   "outputs": [
    {
     "data": {
      "text/plain": [
       "0.098380952380952374"
      ]
     },
     "execution_count": 27,
     "metadata": {},
     "output_type": "execute_result"
    }
   ],
   "source": [
    "(np.argmax(y_proba, 1) == y).mean()"
   ]
  },
  {
   "cell_type": "code",
   "execution_count": 28,
   "metadata": {
    "collapsed": false,
    "scrolled": true
   },
   "outputs": [
    {
     "name": "stdout",
     "output_type": "stream",
     "text": [
      "0.944691\n",
      "0.115867\n",
      "0.0167023\n",
      "0.00854465\n",
      "0.00637681\n",
      "0.00498645\n",
      "0.00393794\n",
      "0.00343608\n",
      "0.00313628\n",
      "0.00289213\n",
      "0.00267017\n",
      "0.00255327\n",
      "0.00244526\n",
      "0.00235874\n",
      "0.00222647\n",
      "0.00207051\n",
      "0.00196021\n",
      "0.00177399\n",
      "0.00164982\n",
      "0.00147395\n"
     ]
    },
    {
     "data": {
      "text/plain": [
       "NeuralNet(Xs=None,\n",
       "     batch_iterator=<nolearn.lasagne.base.BatchIterator object at 0x7fa901d40080>,\n",
       "     binarizer=LabelBinarizer(neg_label=0, pos_label=1, sparse_output=False),\n",
       "     layer=DenseLayer(W_init=InitZeros(), b_init=InitZeros(),\n",
       "      incoming=DenseLayer(W_init=InitZeros(), b_init=InitNormal(mean=0.0, stddev=1.0),\n",
       "      incoming=InputLayer(Xs=None), nonlinearity=Rectify(), num_units=100),\n",
       "      nonlinearity=Softmax(), num_units=10),\n",
       "     max_epochs=10,\n",
       "     objective=Objective(loss_function=<function cross_entropy at 0x7fa90882da60>),\n",
       "     update=SGD(learning_rate=0.5), verbose=1, ys=None)"
      ]
     },
     "execution_count": 28,
     "metadata": {},
     "output_type": "execute_result"
    }
   ],
   "source": [
    "net.fit(X, y, num_epochs=20)"
   ]
  },
  {
   "cell_type": "code",
   "execution_count": 29,
   "metadata": {
    "collapsed": false
   },
   "outputs": [],
   "source": [
    "y_proba = net.predict_proba(X)"
   ]
  },
  {
   "cell_type": "code",
   "execution_count": 30,
   "metadata": {
    "collapsed": false
   },
   "outputs": [
    {
     "data": {
      "text/plain": [
       "0.982547619047619"
      ]
     },
     "execution_count": 30,
     "metadata": {},
     "output_type": "execute_result"
    }
   ],
   "source": [
    "(np.argmax(y_proba, 1) == y).mean()"
   ]
  },
  {
   "cell_type": "markdown",
   "metadata": {},
   "source": [
    "## grid search"
   ]
  },
  {
   "cell_type": "code",
   "execution_count": 16,
   "metadata": {
    "collapsed": false
   },
   "outputs": [],
   "source": [
    "l0 = InputLayer()\n",
    "l1 = DenseLayer(l0, num_units=100, W_init=InitZeros(), b_init=InitNormal())\n",
    "l2 = DenseLayer(l1, num_units=10, nonlinearity=Softmax(), W_init=InitZeros(), b_init=InitZeros())"
   ]
  },
  {
   "cell_type": "code",
   "execution_count": 17,
   "metadata": {
    "collapsed": true
   },
   "outputs": [],
   "source": [
    "net = NeuralNet(l2, update=SGD())"
   ]
  },
  {
   "cell_type": "code",
   "execution_count": 18,
   "metadata": {
    "collapsed": true
   },
   "outputs": [],
   "source": [
    "params = {\n",
    "    'update__learning_rate': [0.1, 0.5],\n",
    "    'max_epochs': [10, 20],\n",
    "    'layer__incoming__W_init': [\n",
    "        InitTruncatedNormal(stddev=0.0),\n",
    "        InitTruncatedNormal(stddev=0.1),\n",
    "    ],\n",
    "}"
   ]
  },
  {
   "cell_type": "code",
   "execution_count": 19,
   "metadata": {
    "collapsed": false
   },
   "outputs": [],
   "source": [
    "cv = GridSearchCV(net, params, scoring='accuracy', refit=False, verbose=3, cv=3)"
   ]
  },
  {
   "cell_type": "code",
   "execution_count": 20,
   "metadata": {
    "collapsed": false,
    "scrolled": true
   },
   "outputs": [
    {
     "name": "stdout",
     "output_type": "stream",
     "text": [
      "Fitting 3 folds for each of 8 candidates, totalling 24 fits\n",
      "[CV] max_epochs=10, update__learning_rate=0.1, layer__incoming__W_init=InitTruncatedNormal(mean=0.0, stddev=0.0) \n",
      "[CV]  max_epochs=10, update__learning_rate=0.1, layer__incoming__W_init=InitTruncatedNormal(mean=0.0, stddev=0.0), score=0.894643 -   4.1s\n",
      "[CV] max_epochs=10, update__learning_rate=0.1, layer__incoming__W_init=InitTruncatedNormal(mean=0.0, stddev=0.0) \n",
      "[CV]  max_epochs=10, update__learning_rate=0.1, layer__incoming__W_init=InitTruncatedNormal(mean=0.0, stddev=0.0), score=0.892071 -   4.1s\n",
      "[CV] max_epochs=10, update__learning_rate=0.1, layer__incoming__W_init=InitTruncatedNormal(mean=0.0, stddev=0.0) \n",
      "[CV]  max_epochs=10, update__learning_rate=0.1, layer__incoming__W_init=InitTruncatedNormal(mean=0.0, stddev=0.0), score=0.897857 -   4.0s\n",
      "[CV] max_epochs=10, update__learning_rate=0.5, layer__incoming__W_init=InitTruncatedNormal(mean=0.0, stddev=0.0) \n",
      "[CV]  max_epochs=10, update__learning_rate=0.5, layer__incoming__W_init=InitTruncatedNormal(mean=0.0, stddev=0.0), score=0.939071 -   4.0s\n",
      "[CV] max_epochs=10, update__learning_rate=0.5, layer__incoming__W_init=InitTruncatedNormal(mean=0.0, stddev=0.0) \n",
      "[CV]  max_epochs=10, update__learning_rate=0.5, layer__incoming__W_init=InitTruncatedNormal(mean=0.0, stddev=0.0), score=0.935143 -   4.1s\n",
      "[CV] max_epochs=10, update__learning_rate=0.5, layer__incoming__W_init=InitTruncatedNormal(mean=0.0, stddev=0.0) \n",
      "[CV]  max_epochs=10, update__learning_rate=0.5, layer__incoming__W_init=InitTruncatedNormal(mean=0.0, stddev=0.0), score=0.930500 -   4.0s\n",
      "[CV] max_epochs=20, update__learning_rate=0.1, layer__incoming__W_init=InitTruncatedNormal(mean=0.0, stddev=0.0) \n",
      "[CV]  max_epochs=20, update__learning_rate=0.1, layer__incoming__W_init=InitTruncatedNormal(mean=0.0, stddev=0.0), score=0.918929 -   7.7s\n",
      "[CV] max_epochs=20, update__learning_rate=0.1, layer__incoming__W_init=InitTruncatedNormal(mean=0.0, stddev=0.0) \n",
      "[CV]  max_epochs=20, update__learning_rate=0.1, layer__incoming__W_init=InitTruncatedNormal(mean=0.0, stddev=0.0), score=0.919214 -   7.6s\n",
      "[CV] max_epochs=20, update__learning_rate=0.1, layer__incoming__W_init=InitTruncatedNormal(mean=0.0, stddev=0.0) \n",
      "[CV]  max_epochs=20, update__learning_rate=0.1, layer__incoming__W_init=InitTruncatedNormal(mean=0.0, stddev=0.0), score=0.922643 -   7.7s\n",
      "[CV] max_epochs=20, update__learning_rate=0.5, layer__incoming__W_init=InitTruncatedNormal(mean=0.0, stddev=0.0) \n",
      "[CV]  max_epochs=20, update__learning_rate=0.5, layer__incoming__W_init=InitTruncatedNormal(mean=0.0, stddev=0.0), score=0.951071 -   7.8s\n",
      "[CV] max_epochs=20, update__learning_rate=0.5, layer__incoming__W_init=InitTruncatedNormal(mean=0.0, stddev=0.0) \n",
      "[CV]  max_epochs=20, update__learning_rate=0.5, layer__incoming__W_init=InitTruncatedNormal(mean=0.0, stddev=0.0), score=0.955786 -   7.7s\n",
      "[CV] max_epochs=20, update__learning_rate=0.5, layer__incoming__W_init=InitTruncatedNormal(mean=0.0, stddev=0.0) \n",
      "[CV]  max_epochs=20, update__learning_rate=0.5, layer__incoming__W_init=InitTruncatedNormal(mean=0.0, stddev=0.0), score=0.954786 -   7.7s\n",
      "[CV] max_epochs=10, update__learning_rate=0.1, layer__incoming__W_init=InitTruncatedNormal(mean=0.0, stddev=0.1) \n",
      "[CV]  max_epochs=10, update__learning_rate=0.1, layer__incoming__W_init=InitTruncatedNormal(mean=0.0, stddev=0.1), score=0.919786 -   4.2s\n",
      "[CV] max_epochs=10, update__learning_rate=0.1, layer__incoming__W_init=InitTruncatedNormal(mean=0.0, stddev=0.1) \n",
      "[CV]  max_epochs=10, update__learning_rate=0.1, layer__incoming__W_init=InitTruncatedNormal(mean=0.0, stddev=0.1), score=0.918786 -   4.3s\n",
      "[CV] max_epochs=10, update__learning_rate=0.1, layer__incoming__W_init=InitTruncatedNormal(mean=0.0, stddev=0.1) \n",
      "[CV]  max_epochs=10, update__learning_rate=0.1, layer__incoming__W_init=InitTruncatedNormal(mean=0.0, stddev=0.1), score=0.924929 -   4.4s\n",
      "[CV] max_epochs=10, update__learning_rate=0.5, layer__incoming__W_init=InitTruncatedNormal(mean=0.0, stddev=0.1) \n",
      "[CV]  max_epochs=10, update__learning_rate=0.5, layer__incoming__W_init=InitTruncatedNormal(mean=0.0, stddev=0.1), score=0.959500 -   4.3s\n",
      "[CV] max_epochs=10, update__learning_rate=0.5, layer__incoming__W_init=InitTruncatedNormal(mean=0.0, stddev=0.1) \n",
      "[CV]  max_epochs=10, update__learning_rate=0.5, layer__incoming__W_init=InitTruncatedNormal(mean=0.0, stddev=0.1), score=0.959857 -   4.3s\n",
      "[CV] max_epochs=10, update__learning_rate=0.5, layer__incoming__W_init=InitTruncatedNormal(mean=0.0, stddev=0.1) \n",
      "[CV]  max_epochs=10, update__learning_rate=0.5, layer__incoming__W_init=InitTruncatedNormal(mean=0.0, stddev=0.1), score=0.962571 -   4.4s\n",
      "[CV] max_epochs=20, update__learning_rate=0.1, layer__incoming__W_init=InitTruncatedNormal(mean=0.0, stddev=0.1) \n",
      "[CV]  max_epochs=20, update__learning_rate=0.1, layer__incoming__W_init=InitTruncatedNormal(mean=0.0, stddev=0.1), score=0.937571 -   7.9s\n",
      "[CV] max_epochs=20, update__learning_rate=0.1, layer__incoming__W_init=InitTruncatedNormal(mean=0.0, stddev=0.1) \n",
      "[CV]  max_epochs=20, update__learning_rate=0.1, layer__incoming__W_init=InitTruncatedNormal(mean=0.0, stddev=0.1), score=0.939500 -   7.9s\n",
      "[CV] max_epochs=20, update__learning_rate=0.1, layer__incoming__W_init=InitTruncatedNormal(mean=0.0, stddev=0.1) \n",
      "[CV]  max_epochs=20, update__learning_rate=0.1, layer__incoming__W_init=InitTruncatedNormal(mean=0.0, stddev=0.1), score=0.946857 -   7.9s\n",
      "[CV] max_epochs=20, update__learning_rate=0.5, layer__incoming__W_init=InitTruncatedNormal(mean=0.0, stddev=0.1) \n",
      "[CV]  max_epochs=20, update__learning_rate=0.5, layer__incoming__W_init=InitTruncatedNormal(mean=0.0, stddev=0.1), score=0.963929 -   8.0s\n",
      "[CV] max_epochs=20, update__learning_rate=0.5, layer__incoming__W_init=InitTruncatedNormal(mean=0.0, stddev=0.1) \n",
      "[CV]  max_epochs=20, update__learning_rate=0.5, layer__incoming__W_init=InitTruncatedNormal(mean=0.0, stddev=0.1), score=0.966143 -   8.0s\n",
      "[CV] max_epochs=20, update__learning_rate=0.5, layer__incoming__W_init=InitTruncatedNormal(mean=0.0, stddev=0.1) \n",
      "[CV]  max_epochs=20, update__learning_rate=0.5, layer__incoming__W_init=InitTruncatedNormal(mean=0.0, stddev=0.1), score=0.965929 -   8.1s\n"
     ]
    },
    {
     "name": "stderr",
     "output_type": "stream",
     "text": [
      "[Parallel(n_jobs=1)]: Done  24 out of  24 | elapsed:  2.4min finished\n"
     ]
    },
    {
     "data": {
      "text/plain": [
       "GridSearchCV(cv=3, error_score='raise',\n",
       "       estimator=NeuralNet(Xs=None,\n",
       "     batch_iterator=<nolearn.lasagne.base.BatchIterator object at 0x7fa901d40080>,\n",
       "     binarizer=LabelBinarizer(neg_label=0, pos_label=1, sparse_output=False),\n",
       "     layer=DenseLayer(W_init=InitZeros(), b_init=InitZeros(),\n",
       "      incoming=DenseLayer(W_init=InitZeros(), b_...function cross_entropy at 0x7fa90882da60>),\n",
       "     update=SGD(learning_rate=0.01), verbose=0, ys=None),\n",
       "       fit_params={}, iid=True, n_jobs=1,\n",
       "       param_grid={'max_epochs': [10, 20], 'update__learning_rate': [0.1, 0.5], 'layer__incoming__W_init': [InitTruncatedNormal(mean=0.0, stddev=0.0), InitTruncatedNormal(mean=0.0, stddev=0.1)]},\n",
       "       pre_dispatch='2*n_jobs', refit=False, scoring='accuracy', verbose=3)"
      ]
     },
     "execution_count": 20,
     "metadata": {},
     "output_type": "execute_result"
    }
   ],
   "source": [
    "cv.fit(X, y)"
   ]
  },
  {
   "cell_type": "code",
   "execution_count": 21,
   "metadata": {
    "collapsed": false
   },
   "outputs": [
    {
     "data": {
      "text/plain": [
       "({'layer__incoming__W_init': InitTruncatedNormal(mean=0.0, stddev=0.1),\n",
       "  'max_epochs': 20,\n",
       "  'update__learning_rate': 0.5},\n",
       " 0.96533333333333338)"
      ]
     },
     "execution_count": 21,
     "metadata": {},
     "output_type": "execute_result"
    }
   ],
   "source": [
    "cv.best_params_, cv.best_score_"
   ]
  },
  {
   "cell_type": "code",
   "execution_count": null,
   "metadata": {
    "collapsed": true
   },
   "outputs": [],
   "source": []
  }
 ],
 "metadata": {
  "kernelspec": {
   "display_name": "Python 3",
   "language": "python",
   "name": "python3"
  },
  "language_info": {
   "codemirror_mode": {
    "name": "ipython",
    "version": 3
   },
   "file_extension": ".py",
   "mimetype": "text/x-python",
   "name": "python",
   "nbconvert_exporter": "python",
   "pygments_lexer": "ipython3",
   "version": "3.4.4"
  }
 },
 "nbformat": 4,
 "nbformat_minor": 0
}
