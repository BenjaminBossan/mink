{
 "cells": [
  {
   "cell_type": "markdown",
   "metadata": {
    "collapsed": true
   },
   "source": [
    "# nolearn/lasagne -> tensorflow"
   ]
  },
  {
   "cell_type": "markdown",
   "metadata": {},
   "source": [
    "## Imports"
   ]
  },
  {
   "cell_type": "code",
   "execution_count": 1,
   "metadata": {
    "collapsed": false
   },
   "outputs": [],
   "source": [
    "import numpy as np\n",
    "from sklearn.grid_search import GridSearchCV\n",
    "import tensorflow as tf\n",
    "import pandas as pd"
   ]
  },
  {
   "cell_type": "code",
   "execution_count": 2,
   "metadata": {
    "collapsed": false
   },
   "outputs": [],
   "source": [
    "from mink import NeuralNetClassifier\n",
    "from mink.layers import DenseLayer\n",
    "from mink.layers import InputLayer\n",
    "from mink.inits import InitZeros, InitNormal, InitTruncatedNormal\n",
    "from mink.nonlinearities import Softmax\n",
    "from mink.updates import SGD"
   ]
  },
  {
   "cell_type": "markdown",
   "metadata": {},
   "source": [
    "## Data"
   ]
  },
  {
   "cell_type": "code",
   "execution_count": 3,
   "metadata": {
    "collapsed": true
   },
   "outputs": [],
   "source": [
    "floatX = tf.float32\n",
    "intX = tf.int32"
   ]
  },
  {
   "cell_type": "code",
   "execution_count": 4,
   "metadata": {
    "collapsed": false
   },
   "outputs": [],
   "source": [
    "df = pd.read_csv('../data/mnist/train.csv')"
   ]
  },
  {
   "cell_type": "code",
   "execution_count": 5,
   "metadata": {
    "collapsed": true
   },
   "outputs": [],
   "source": [
    "y = df.pop('label')"
   ]
  },
  {
   "cell_type": "code",
   "execution_count": 6,
   "metadata": {
    "collapsed": true
   },
   "outputs": [],
   "source": [
    "X = (df.values / 255.).astype(np.float32)"
   ]
  },
  {
   "cell_type": "markdown",
   "metadata": {},
   "source": [
    "## Train"
   ]
  },
  {
   "cell_type": "code",
   "execution_count": 7,
   "metadata": {
    "collapsed": false
   },
   "outputs": [],
   "source": [
    "l0 = InputLayer()\n",
    "l1 = DenseLayer(l0, num_units=100, W_init=InitZeros(), b_init=InitNormal())\n",
    "l2 = DenseLayer(l1, num_units=10, nonlinearity=Softmax(), W_init=InitZeros(), b_init=InitZeros())"
   ]
  },
  {
   "cell_type": "code",
   "execution_count": 8,
   "metadata": {
    "collapsed": false
   },
   "outputs": [],
   "source": [
    "net = NeuralNetClassifier(l2, verbose=1)"
   ]
  },
  {
   "cell_type": "code",
   "execution_count": 9,
   "metadata": {
    "collapsed": false
   },
   "outputs": [
    {
     "data": {
      "text/plain": [
       "NeuralNetClassifier(Xs=None,\n",
       "          batch_iterator=<mink.nolearn.BatchIterator object at 0x7f44b32f63c8>,\n",
       "          binarizer=LabelBinarizer(neg_label=0, pos_label=1, sparse_output=False),\n",
       "          layer=DenseLayer(W_init=InitZeros(), b_init=InitZeros(),\n",
       "      incoming=DenseLayer(W_init=InitZeros(), b_init=InitNormal(mean=0.0, stddev=1.0),\n",
       "      incoming=InputLayer(Xs=None, name=None), name=None,\n",
       "      nonlinearity=Rectify(), num_units=100),\n",
       "      name=None, nonlinearity=Softmax(), num_units=10),\n",
       "          max_epochs=10,\n",
       "          objective=Objective(loss_function=<function cross_entropy at 0x7f44b9e7d950>),\n",
       "          update=SGD(learning_rate=0.5), verbose=1, ys=None)"
      ]
     },
     "execution_count": 9,
     "metadata": {},
     "output_type": "execute_result"
    }
   ],
   "source": [
    "net.set_params(update__learning_rate=0.5)"
   ]
  },
  {
   "cell_type": "code",
   "execution_count": 10,
   "metadata": {
    "collapsed": false
   },
   "outputs": [
    {
     "data": {
      "text/plain": [
       "NeuralNetClassifier(Xs=None,\n",
       "          batch_iterator=<mink.nolearn.BatchIterator object at 0x7f44b32f63c8>,\n",
       "          binarizer=LabelBinarizer(neg_label=0, pos_label=1, sparse_output=False),\n",
       "          layer=DenseLayer(W_init=InitZeros(), b_init=InitZeros(),\n",
       "      incoming=DenseLayer(W_init=InitZeros(), b_init=InitNormal(mean=0.0, stddev=1.0),\n",
       "      incoming=InputLayer(Xs=None, name=None), name=None,\n",
       "      nonlinearity=Rectify(), num_units=100),\n",
       "      name=None, nonlinearity=Softmax(), num_units=10),\n",
       "          max_epochs=10,\n",
       "          objective=Objective(loss_function=<function cross_entropy at 0x7f44b9e7d950>),\n",
       "          update=SGD(learning_rate=0.5), verbose=1, ys=None)"
      ]
     },
     "execution_count": 10,
     "metadata": {},
     "output_type": "execute_result"
    }
   ],
   "source": [
    "net.fit(X, y, num_epochs=0)"
   ]
  },
  {
   "cell_type": "code",
   "execution_count": 11,
   "metadata": {
    "collapsed": false
   },
   "outputs": [],
   "source": [
    "y_proba = net.predict_proba(X)"
   ]
  },
  {
   "cell_type": "code",
   "execution_count": 12,
   "metadata": {
    "collapsed": false
   },
   "outputs": [
    {
     "data": {
      "text/plain": [
       "0.098380952380952374"
      ]
     },
     "execution_count": 12,
     "metadata": {},
     "output_type": "execute_result"
    }
   ],
   "source": [
    "(np.argmax(y_proba, 1) == y).mean()"
   ]
  },
  {
   "cell_type": "code",
   "execution_count": 13,
   "metadata": {
    "collapsed": false,
    "scrolled": true
   },
   "outputs": [
    {
     "name": "stdout",
     "output_type": "stream",
     "text": [
      "0.798769\n",
      "0.0234555\n",
      "0.0111672\n",
      "0.00854001\n",
      "0.00699857\n",
      "0.00618998\n",
      "0.00546837\n",
      "0.00493991\n",
      "0.00442467\n",
      "0.0040445\n",
      "0.00349808\n",
      "0.00302457\n",
      "0.00270166\n",
      "0.00233897\n",
      "0.0020752\n",
      "0.00182445\n",
      "0.00165576\n",
      "0.00150644\n",
      "0.00133099\n",
      "0.00119019\n"
     ]
    },
    {
     "data": {
      "text/plain": [
       "NeuralNetClassifier(Xs=None,\n",
       "          batch_iterator=<mink.nolearn.BatchIterator object at 0x7f44b32f63c8>,\n",
       "          binarizer=LabelBinarizer(neg_label=0, pos_label=1, sparse_output=False),\n",
       "          layer=DenseLayer(W_init=InitZeros(), b_init=InitZeros(),\n",
       "      incoming=DenseLayer(W_init=InitZeros(), b_init=InitNormal(mean=0.0, stddev=1.0),\n",
       "      incoming=InputLayer(Xs=None, name=None), name=None,\n",
       "      nonlinearity=Rectify(), num_units=100),\n",
       "      name=None, nonlinearity=Softmax(), num_units=10),\n",
       "          max_epochs=10,\n",
       "          objective=Objective(loss_function=<function cross_entropy at 0x7f44b9e7d950>),\n",
       "          update=SGD(learning_rate=0.5), verbose=1, ys=None)"
      ]
     },
     "execution_count": 13,
     "metadata": {},
     "output_type": "execute_result"
    }
   ],
   "source": [
    "net.fit(X, y, num_epochs=20)"
   ]
  },
  {
   "cell_type": "code",
   "execution_count": 14,
   "metadata": {
    "collapsed": false
   },
   "outputs": [],
   "source": [
    "y_proba = net.predict_proba(X)"
   ]
  },
  {
   "cell_type": "code",
   "execution_count": 15,
   "metadata": {
    "collapsed": false
   },
   "outputs": [
    {
     "data": {
      "text/plain": [
       "0.98245238095238097"
      ]
     },
     "execution_count": 15,
     "metadata": {},
     "output_type": "execute_result"
    }
   ],
   "source": [
    "(np.argmax(y_proba, 1) == y).mean()"
   ]
  },
  {
   "cell_type": "markdown",
   "metadata": {},
   "source": [
    "## grid search"
   ]
  },
  {
   "cell_type": "code",
   "execution_count": 16,
   "metadata": {
    "collapsed": false
   },
   "outputs": [],
   "source": [
    "l0 = InputLayer()\n",
    "l1 = DenseLayer(l0, num_units=100, W_init=InitZeros(), b_init=InitNormal(), name='hidden')\n",
    "l2 = DenseLayer(l1, num_units=10, nonlinearity=Softmax(), W_init=InitZeros(), b_init=InitZeros())"
   ]
  },
  {
   "cell_type": "code",
   "execution_count": 17,
   "metadata": {
    "collapsed": true
   },
   "outputs": [],
   "source": [
    "net = NeuralNetClassifier(l2, update=SGD())"
   ]
  },
  {
   "cell_type": "code",
   "execution_count": 18,
   "metadata": {
    "collapsed": true
   },
   "outputs": [],
   "source": [
    "params = {\n",
    "    'update__learning_rate': [0.1, 0.5],\n",
    "    'max_epochs': [5, 10],\n",
    "    'hidden__num_units': [50, 100],\n",
    "}"
   ]
  },
  {
   "cell_type": "code",
   "execution_count": 19,
   "metadata": {
    "collapsed": false
   },
   "outputs": [],
   "source": [
    "cv = GridSearchCV(net, params, scoring='accuracy', refit=False, verbose=3, cv=2)"
   ]
  },
  {
   "cell_type": "code",
   "execution_count": 20,
   "metadata": {
    "collapsed": false,
    "scrolled": true
   },
   "outputs": [
    {
     "name": "stdout",
     "output_type": "stream",
     "text": [
      "Fitting 2 folds for each of 8 candidates, totalling 16 fits\n",
      "[CV] hidden__num_units=50, max_epochs=5, update__learning_rate=0.1 ...\n",
      "[CV]  hidden__num_units=50, max_epochs=5, update__learning_rate=0.1, score=0.395857 -   4.0s\n",
      "[CV] hidden__num_units=50, max_epochs=5, update__learning_rate=0.1 ...\n",
      "[CV]  hidden__num_units=50, max_epochs=5, update__learning_rate=0.1, score=0.391238 -   4.0s\n",
      "[CV] hidden__num_units=50, max_epochs=5, update__learning_rate=0.5 ...\n",
      "[CV]  hidden__num_units=50, max_epochs=5, update__learning_rate=0.5, score=0.901667 -   4.0s\n",
      "[CV] hidden__num_units=50, max_epochs=5, update__learning_rate=0.5 ...\n",
      "[CV]  hidden__num_units=50, max_epochs=5, update__learning_rate=0.5, score=0.911714 -   4.1s\n",
      "[CV] hidden__num_units=50, max_epochs=10, update__learning_rate=0.1 ..\n",
      "[CV]  hidden__num_units=50, max_epochs=10, update__learning_rate=0.1, score=0.859429 -   7.4s\n",
      "[CV] hidden__num_units=50, max_epochs=10, update__learning_rate=0.1 ..\n",
      "[CV]  hidden__num_units=50, max_epochs=10, update__learning_rate=0.1, score=0.852095 -   7.4s\n",
      "[CV] hidden__num_units=50, max_epochs=10, update__learning_rate=0.5 ..\n",
      "[CV]  hidden__num_units=50, max_epochs=10, update__learning_rate=0.5, score=0.925714 -   7.5s\n",
      "[CV] hidden__num_units=50, max_epochs=10, update__learning_rate=0.5 ..\n",
      "[CV]  hidden__num_units=50, max_epochs=10, update__learning_rate=0.5, score=0.925190 -   6.7s\n",
      "[CV] hidden__num_units=100, max_epochs=5, update__learning_rate=0.1 ..\n",
      "[CV]  hidden__num_units=100, max_epochs=5, update__learning_rate=0.1, score=0.404476 -   4.9s\n",
      "[CV] hidden__num_units=100, max_epochs=5, update__learning_rate=0.1 ..\n",
      "[CV]  hidden__num_units=100, max_epochs=5, update__learning_rate=0.1, score=0.395762 -   4.7s\n",
      "[CV] hidden__num_units=100, max_epochs=5, update__learning_rate=0.5 ..\n",
      "[CV]  hidden__num_units=100, max_epochs=5, update__learning_rate=0.5, score=0.895714 -   4.5s\n",
      "[CV] hidden__num_units=100, max_epochs=5, update__learning_rate=0.5 ..\n",
      "[CV]  hidden__num_units=100, max_epochs=5, update__learning_rate=0.5, score=0.912143 -   5.4s\n",
      "[CV] hidden__num_units=100, max_epochs=10, update__learning_rate=0.1 .\n",
      "[CV]  hidden__num_units=100, max_epochs=10, update__learning_rate=0.1, score=0.866286 -   8.3s\n",
      "[CV] hidden__num_units=100, max_epochs=10, update__learning_rate=0.1 .\n",
      "[CV]  hidden__num_units=100, max_epochs=10, update__learning_rate=0.1, score=0.863571 -  10.2s\n",
      "[CV] hidden__num_units=100, max_epochs=10, update__learning_rate=0.5 .\n",
      "[CV]  hidden__num_units=100, max_epochs=10, update__learning_rate=0.5, score=0.931238 -  10.1s\n",
      "[CV] hidden__num_units=100, max_epochs=10, update__learning_rate=0.5 .\n",
      "[CV]  hidden__num_units=100, max_epochs=10, update__learning_rate=0.5, score=0.939048 -  10.2s\n"
     ]
    },
    {
     "name": "stderr",
     "output_type": "stream",
     "text": [
      "[Parallel(n_jobs=1)]: Done  16 out of  16 | elapsed:  1.7min finished\n"
     ]
    },
    {
     "data": {
      "text/plain": [
       "GridSearchCV(cv=2, error_score='raise',\n",
       "       estimator=NeuralNetClassifier(Xs=None,\n",
       "          batch_iterator=<mink.nolearn.BatchIterator object at 0x7f44b32f63c8>,\n",
       "          binarizer=LabelBinarizer(neg_label=0, pos_label=1, sparse_output=False),\n",
       "          layer=DenseLayer(W_init=InitZeros(), b_init=InitZeros(),\n",
       "      incoming=DenseLayer(W_ini...ion cross_entropy at 0x7f44b9e7d950>),\n",
       "          update=SGD(learning_rate=0.01), verbose=0, ys=None),\n",
       "       fit_params={}, iid=True, n_jobs=1,\n",
       "       param_grid={'hidden__num_units': [50, 100], 'max_epochs': [5, 10], 'update__learning_rate': [0.1, 0.5]},\n",
       "       pre_dispatch='2*n_jobs', refit=False, scoring='accuracy', verbose=3)"
      ]
     },
     "execution_count": 20,
     "metadata": {},
     "output_type": "execute_result"
    }
   ],
   "source": [
    "cv.fit(X, y)"
   ]
  },
  {
   "cell_type": "code",
   "execution_count": 21,
   "metadata": {
    "collapsed": false
   },
   "outputs": [
    {
     "data": {
      "text/plain": [
       "({'hidden__num_units': 100, 'max_epochs': 10, 'update__learning_rate': 0.5},\n",
       " 0.93514285714285716)"
      ]
     },
     "execution_count": 21,
     "metadata": {},
     "output_type": "execute_result"
    }
   ],
   "source": [
    "cv.best_params_, cv.best_score_"
   ]
  },
  {
   "cell_type": "code",
   "execution_count": null,
   "metadata": {
    "collapsed": true
   },
   "outputs": [],
   "source": []
  }
 ],
 "metadata": {
  "kernelspec": {
   "display_name": "Python 3",
   "language": "python",
   "name": "python3"
  },
  "language_info": {
   "codemirror_mode": {
    "name": "ipython",
    "version": 3
   },
   "file_extension": ".py",
   "mimetype": "text/x-python",
   "name": "python",
   "nbconvert_exporter": "python",
   "pygments_lexer": "ipython3",
   "version": "3.5.1"
  }
 },
 "nbformat": 4,
 "nbformat_minor": 0
}
