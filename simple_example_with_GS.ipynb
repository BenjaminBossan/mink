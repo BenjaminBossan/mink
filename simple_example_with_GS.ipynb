{
 "cells": [
  {
   "cell_type": "markdown",
   "metadata": {
    "collapsed": true
   },
   "source": [
    "# Mink usage examples"
   ]
  },
  {
   "cell_type": "markdown",
   "metadata": {},
   "source": [
    "This notebook demonstrates some examples of using mink and how it interacts with sklearn."
   ]
  },
  {
   "cell_type": "markdown",
   "metadata": {},
   "source": [
    "## Imports"
   ]
  },
  {
   "cell_type": "code",
   "execution_count": 1,
   "metadata": {
    "collapsed": false
   },
   "outputs": [],
   "source": [
    "import numpy as np\n",
    "from sklearn.grid_search import GridSearchCV\n",
    "from sklearn.datasets import make_classification\n",
    "from sklearn.datasets import make_regression\n",
    "import tensorflow as tf\n",
    "import pandas as pd"
   ]
  },
  {
   "cell_type": "code",
   "execution_count": 2,
   "metadata": {
    "collapsed": false
   },
   "outputs": [],
   "source": [
    "from mink import NeuralNetClassifier\n",
    "from mink import NeuralNetRegressor\n",
    "from mink.layers import DenseLayer\n",
    "from mink.layers import InputLayer\n",
    "from mink.updates import SGD"
   ]
  },
  {
   "cell_type": "markdown",
   "metadata": {},
   "source": [
    "## MNIST classification task"
   ]
  },
  {
   "cell_type": "markdown",
   "metadata": {},
   "source": [
    "### Data"
   ]
  },
  {
   "cell_type": "code",
   "execution_count": 3,
   "metadata": {
    "collapsed": false
   },
   "outputs": [],
   "source": [
    "X, y = make_classification(n_samples=5000)"
   ]
  },
  {
   "cell_type": "markdown",
   "metadata": {},
   "source": [
    "### Define neural net"
   ]
  },
  {
   "cell_type": "markdown",
   "metadata": {},
   "source": [
    "Note: No need to specify the shape of the training data, number of classes, or to set softmax nonlinearity. The `NeuralNetClassifier` class takes care of all of that, as is expected from an sklearn estimator."
   ]
  },
  {
   "cell_type": "code",
   "execution_count": 5,
   "metadata": {
    "collapsed": false
   },
   "outputs": [],
   "source": [
    "l0 = InputLayer()\n",
    "l1 = DenseLayer(l0, num_units=200)\n",
    "l2 = DenseLayer(l1)"
   ]
  },
  {
   "cell_type": "code",
   "execution_count": 6,
   "metadata": {
    "collapsed": false
   },
   "outputs": [],
   "source": [
    "net = NeuralNetClassifier(l2, verbose=1)"
   ]
  },
  {
   "cell_type": "markdown",
   "metadata": {},
   "source": [
    "If we want to change certain parameters after initialization, just use the `set_params` method and the double-underscore notation known from sklearn."
   ]
  },
  {
   "cell_type": "code",
   "execution_count": 7,
   "metadata": {
    "collapsed": false
   },
   "outputs": [
    {
     "data": {
      "text/plain": [
       "NeuralNetClassifier(batch_iterator=<mink.nolearn.BatchIterator object at 0x7fa44c724e48>,\n",
       "          encoder=LabelBinarizer(neg_label=0, pos_label=1, sparse_output=False),\n",
       "          layer=DenseLayer(W=GlorotUniform(c01b=False, gain=1.0), b=Constant(val=0.0),\n",
       "      incoming=DenseLayer(W=GlorotUniform(c01b=False, gain=1.0), b=Constant(val=0.0),\n",
       "      incoming=InputLayer(Xs=None, name=None, ys=None), name=None,\n",
       "      nonlinearity=None, num_units=200),\n",
       "      name=None, nonlinearity=None, num_units=None),\n",
       "          max_epochs=10, objective=CrossEntropy(eps=1e-12),\n",
       "          session_kwargs=None, update=SGD(learning_rate=0.5), verbose=1)"
      ]
     },
     "execution_count": 7,
     "metadata": {},
     "output_type": "execute_result"
    }
   ],
   "source": [
    "net.set_params(update__learning_rate=0.5)"
   ]
  },
  {
   "cell_type": "markdown",
   "metadata": {},
   "source": [
    "### Train"
   ]
  },
  {
   "cell_type": "code",
   "execution_count": 8,
   "metadata": {
    "collapsed": false
   },
   "outputs": [
    {
     "data": {
      "text/plain": [
       "NeuralNetClassifier(batch_iterator=<mink.nolearn.BatchIterator object at 0x7fa44c724e48>,\n",
       "          encoder=LabelBinarizer(neg_label=0, pos_label=1, sparse_output=False),\n",
       "          layer=DenseLayer(W=GlorotUniform(c01b=False, gain=1.0), b=Constant(val=0.0),\n",
       "      incoming=DenseLayer(W=GlorotUniform(c01b=False, gain=1.0), b=Constant(val=0.0),\n",
       "      incoming=InputLayer(Xs=None, name=None, ys=None), name=None,\n",
       "      nonlinearity=None, num_units=200),\n",
       "      name=None, nonlinearity=Softmax(), num_units=2),\n",
       "          max_epochs=10, objective=CrossEntropy(eps=1e-12),\n",
       "          session_kwargs=None, update=SGD(learning_rate=0.5), verbose=1)"
      ]
     },
     "execution_count": 8,
     "metadata": {},
     "output_type": "execute_result"
    }
   ],
   "source": [
    "net.fit(X, y, num_epochs=0)"
   ]
  },
  {
   "cell_type": "code",
   "execution_count": 9,
   "metadata": {
    "collapsed": false
   },
   "outputs": [],
   "source": [
    "y_proba = net.predict_proba(X)"
   ]
  },
  {
   "cell_type": "code",
   "execution_count": 10,
   "metadata": {
    "collapsed": false
   },
   "outputs": [
    {
     "data": {
      "text/plain": [
       "0.52700000000000002"
      ]
     },
     "execution_count": 10,
     "metadata": {},
     "output_type": "execute_result"
    }
   ],
   "source": [
    "(np.argmax(y_proba, 1) == y).mean()"
   ]
  },
  {
   "cell_type": "code",
   "execution_count": 11,
   "metadata": {
    "collapsed": false
   },
   "outputs": [
    {
     "name": "stdout",
     "output_type": "stream",
     "text": [
      "Automatic pdb calling has been turned ON\n"
     ]
    }
   ],
   "source": [
    "pdb on"
   ]
  },
  {
   "cell_type": "code",
   "execution_count": 12,
   "metadata": {
    "collapsed": false,
    "scrolled": true
   },
   "outputs": [
    {
     "name": "stdout",
     "output_type": "stream",
     "text": [
      "epochs:    1 | loss: 0.42709\n",
      "epochs:    2 | loss: 0.41273\n",
      "epochs:    3 | loss: 0.40178\n",
      "epochs:    4 | loss: 0.39372\n",
      "epochs:    5 | loss: 0.38829\n",
      "epochs:    6 | loss: 0.38415\n",
      "epochs:    7 | loss: 0.38011\n",
      "epochs:    8 | loss: 0.37595\n",
      "epochs:    9 | loss: 0.37180\n",
      "epochs:   10 | loss: 0.36706\n",
      "epochs:   11 | loss: 0.36050\n",
      "epochs:   12 | loss: 0.35401\n",
      "epochs:   13 | loss: 0.34827\n",
      "epochs:   14 | loss: 0.34199\n",
      "epochs:   15 | loss: 0.33549\n",
      "epochs:   16 | loss: 0.33029\n",
      "epochs:   17 | loss: 0.32476\n",
      "epochs:   18 | loss: 0.31914\n",
      "epochs:   19 | loss: 0.31401\n",
      "epochs:   20 | loss: 0.30976\n"
     ]
    },
    {
     "data": {
      "text/plain": [
       "NeuralNetClassifier(batch_iterator=<mink.nolearn.BatchIterator object at 0x7fa44c724e48>,\n",
       "          encoder=LabelBinarizer(neg_label=0, pos_label=1, sparse_output=False),\n",
       "          layer=DenseLayer(W=GlorotUniform(c01b=False, gain=1.0), b=Constant(val=0.0),\n",
       "      incoming=DenseLayer(W=GlorotUniform(c01b=False, gain=1.0), b=Constant(val=0.0),\n",
       "      incoming=InputLayer(Xs=None, name=None, ys=None), name=None,\n",
       "      nonlinearity=None, num_units=200),\n",
       "      name=None, nonlinearity=Softmax(), num_units=2),\n",
       "          max_epochs=10, objective=CrossEntropy(eps=1e-12),\n",
       "          session_kwargs=None, update=SGD(learning_rate=0.5), verbose=1)"
      ]
     },
     "execution_count": 12,
     "metadata": {},
     "output_type": "execute_result"
    }
   ],
   "source": [
    "net.fit(X, y, num_epochs=20)"
   ]
  },
  {
   "cell_type": "code",
   "execution_count": 13,
   "metadata": {
    "collapsed": false
   },
   "outputs": [
    {
     "data": {
      "text/plain": [
       "array([[ 0.37726831,  0.62273169],\n",
       "       [ 0.29548568,  0.70451432],\n",
       "       [ 0.37938896,  0.62061101],\n",
       "       ..., \n",
       "       [ 0.41983604,  0.58016396],\n",
       "       [ 0.41554657,  0.5844534 ],\n",
       "       [ 0.48238996,  0.51761007]], dtype=float32)"
      ]
     },
     "execution_count": 13,
     "metadata": {},
     "output_type": "execute_result"
    }
   ],
   "source": [
    "y_proba"
   ]
  },
  {
   "cell_type": "code",
   "execution_count": 14,
   "metadata": {
    "collapsed": false
   },
   "outputs": [
    {
     "data": {
      "text/plain": [
       "array([1, 1, 1, 0, 1, 1, 1, 1, 0, 0])"
      ]
     },
     "execution_count": 14,
     "metadata": {},
     "output_type": "execute_result"
    }
   ],
   "source": [
    "np.argmax(y_proba, 1)[:10]"
   ]
  },
  {
   "cell_type": "code",
   "execution_count": 15,
   "metadata": {
    "collapsed": false
   },
   "outputs": [],
   "source": [
    "y_proba = net.predict_proba(X)"
   ]
  },
  {
   "cell_type": "code",
   "execution_count": 16,
   "metadata": {
    "collapsed": false
   },
   "outputs": [
    {
     "data": {
      "text/plain": [
       "0.89219999999999999"
      ]
     },
     "execution_count": 16,
     "metadata": {},
     "output_type": "execute_result"
    }
   ],
   "source": [
    "(np.argmax(y_proba, 1) == y.flatten()).mean()"
   ]
  },
  {
   "cell_type": "markdown",
   "metadata": {},
   "source": [
    "### Grid search"
   ]
  },
  {
   "cell_type": "markdown",
   "metadata": {},
   "source": [
    "The neural net estimators can be used in conjunction with other sklearn features, such as `GridSearchCV`."
   ]
  },
  {
   "cell_type": "code",
   "execution_count": 17,
   "metadata": {
    "collapsed": false
   },
   "outputs": [],
   "source": [
    "l0 = InputLayer()\n",
    "l1 = DenseLayer(l0, name='hidden')\n",
    "l2 = DenseLayer(l1)"
   ]
  },
  {
   "cell_type": "code",
   "execution_count": 18,
   "metadata": {
    "collapsed": false
   },
   "outputs": [],
   "source": [
    "net = NeuralNetClassifier(l2, update=SGD())"
   ]
  },
  {
   "cell_type": "markdown",
   "metadata": {},
   "source": [
    "Parameters are set using the known double-underscore notation, e.g.\n",
    "\n",
    "`'update__learning_rate': [0.1, 0.5]`.\n",
    "\n",
    "Note: Instead of having to write\n",
    "\n",
    "`'layer__incoming__num_units': [50, 100]`\n",
    "\n",
    "we can just write\n",
    "\n",
    "`'hidden__num_units': [50, 100]`\n",
    "\n",
    "because we have given the hidden layer a name, \"hidden\". This may safe a lot of writing and confusion."
   ]
  },
  {
   "cell_type": "code",
   "execution_count": 19,
   "metadata": {
    "collapsed": true
   },
   "outputs": [],
   "source": [
    "params = {\n",
    "    'update__learning_rate': [0.1, 0.5],\n",
    "    'max_epochs': [5, 10],\n",
    "    'hidden__num_units': [50, 100],\n",
    "}"
   ]
  },
  {
   "cell_type": "code",
   "execution_count": 20,
   "metadata": {
    "collapsed": false
   },
   "outputs": [],
   "source": [
    "cv = GridSearchCV(net, params, scoring='accuracy', refit=False, verbose=3)"
   ]
  },
  {
   "cell_type": "code",
   "execution_count": 21,
   "metadata": {
    "collapsed": false,
    "scrolled": true
   },
   "outputs": [
    {
     "name": "stdout",
     "output_type": "stream",
     "text": [
      "Fitting 3 folds for each of 8 candidates, totalling 24 fits\n",
      "[CV] update__learning_rate=0.1, max_epochs=5, hidden__num_units=50 ...\n",
      "[CV]  update__learning_rate=0.1, max_epochs=5, hidden__num_units=50, score=0.850630 -   0.2s\n",
      "[CV] update__learning_rate=0.1, max_epochs=5, hidden__num_units=50 ...\n",
      "[CV]  update__learning_rate=0.1, max_epochs=5, hidden__num_units=50, score=0.832633 -   0.3s\n",
      "[CV] update__learning_rate=0.1, max_epochs=5, hidden__num_units=50 ...\n",
      "[CV]  update__learning_rate=0.1, max_epochs=5, hidden__num_units=50, score=0.827731 -   0.4s\n",
      "[CV] update__learning_rate=0.5, max_epochs=5, hidden__num_units=50 ...\n",
      "[CV]  update__learning_rate=0.5, max_epochs=5, hidden__num_units=50, score=0.855429 -   0.3s\n",
      "[CV] update__learning_rate=0.5, max_epochs=5, hidden__num_units=50 ...\n",
      "[CV]  update__learning_rate=0.5, max_epochs=5, hidden__num_units=50, score=0.840432 -   0.4s\n",
      "[CV] update__learning_rate=0.5, max_epochs=5, hidden__num_units=50 ...\n",
      "[CV]  update__learning_rate=0.5, max_epochs=5, hidden__num_units=50, score=0.842737 -   0.4s\n",
      "[CV] update__learning_rate=0.1, max_epochs=10, hidden__num_units=50 ..\n",
      "[CV]  update__learning_rate=0.1, max_epochs=10, hidden__num_units=50, score=0.847031 -   0.5s\n",
      "[CV] update__learning_rate=0.1, max_epochs=10, hidden__num_units=50 ..\n",
      "[CV]  update__learning_rate=0.1, max_epochs=10, hidden__num_units=50, score=0.830834 -   0.6s\n",
      "[CV] update__learning_rate=0.1, max_epochs=10, hidden__num_units=50 ..\n",
      "[CV]  update__learning_rate=0.1, max_epochs=10, hidden__num_units=50, score=0.831933 -   0.6s\n",
      "[CV] update__learning_rate=0.5, max_epochs=10, hidden__num_units=50 ..\n",
      "[CV]  update__learning_rate=0.5, max_epochs=10, hidden__num_units=50, score=0.856029 -   0.7s\n",
      "[CV] update__learning_rate=0.5, max_epochs=10, hidden__num_units=50 ..\n",
      "[CV]  update__learning_rate=0.5, max_epochs=10, hidden__num_units=50, score=0.843431 -   0.7s\n",
      "[CV] update__learning_rate=0.5, max_epochs=10, hidden__num_units=50 ..\n",
      "[CV]  update__learning_rate=0.5, max_epochs=10, hidden__num_units=50, score=0.842137 -   0.7s\n",
      "[CV] update__learning_rate=0.1, max_epochs=5, hidden__num_units=100 ..\n",
      "[CV]  update__learning_rate=0.1, max_epochs=5, hidden__num_units=100, score=0.856629 -   0.7s\n",
      "[CV] update__learning_rate=0.1, max_epochs=5, hidden__num_units=100 ..\n",
      "[CV]  update__learning_rate=0.1, max_epochs=5, hidden__num_units=100, score=0.830834 -   0.6s\n",
      "[CV] update__learning_rate=0.1, max_epochs=5, hidden__num_units=100 ..\n",
      "[CV]  update__learning_rate=0.1, max_epochs=5, hidden__num_units=100, score=0.833133 -   0.7s\n",
      "[CV] update__learning_rate=0.5, max_epochs=5, hidden__num_units=100 ..\n",
      "[CV]  update__learning_rate=0.5, max_epochs=5, hidden__num_units=100, score=0.853029 -   0.8s\n",
      "[CV] update__learning_rate=0.5, max_epochs=5, hidden__num_units=100 ..\n",
      "[CV]  update__learning_rate=0.5, max_epochs=5, hidden__num_units=100, score=0.839832 -   0.8s\n",
      "[CV] update__learning_rate=0.5, max_epochs=5, hidden__num_units=100 ..\n",
      "[CV]  update__learning_rate=0.5, max_epochs=5, hidden__num_units=100, score=0.836735 -   0.8s\n",
      "[CV] update__learning_rate=0.1, max_epochs=10, hidden__num_units=100 .\n",
      "[CV]  update__learning_rate=0.1, max_epochs=10, hidden__num_units=100, score=0.852430 -   1.1s\n",
      "[CV] update__learning_rate=0.1, max_epochs=10, hidden__num_units=100 .\n",
      "[CV]  update__learning_rate=0.1, max_epochs=10, hidden__num_units=100, score=0.845231 -   1.0s\n",
      "[CV] update__learning_rate=0.1, max_epochs=10, hidden__num_units=100 .\n",
      "[CV]  update__learning_rate=0.1, max_epochs=10, hidden__num_units=100, score=0.838535 -   0.9s\n",
      "[CV] update__learning_rate=0.5, max_epochs=10, hidden__num_units=100 .\n",
      "[CV]  update__learning_rate=0.5, max_epochs=10, hidden__num_units=100, score=0.853629 -   1.1s\n",
      "[CV] update__learning_rate=0.5, max_epochs=10, hidden__num_units=100 .\n",
      "[CV]  update__learning_rate=0.5, max_epochs=10, hidden__num_units=100, score=0.844031 -   1.1s\n",
      "[CV] update__learning_rate=0.5, max_epochs=10, hidden__num_units=100 .\n",
      "[CV]  update__learning_rate=0.5, max_epochs=10, hidden__num_units=100, score=0.837935 -   1.1s\n"
     ]
    },
    {
     "name": "stderr",
     "output_type": "stream",
     "text": [
      "[Parallel(n_jobs=1)]: Done  24 out of  24 | elapsed:   16.7s finished\n"
     ]
    },
    {
     "data": {
      "text/plain": [
       "GridSearchCV(cv=None, error_score='raise',\n",
       "       estimator=NeuralNetClassifier(batch_iterator=<mink.nolearn.BatchIterator object at 0x7fa44c724e48>,\n",
       "          encoder=LabelBinarizer(neg_label=0, pos_label=1, sparse_output=False),\n",
       "          layer=DenseLayer(W=GlorotUniform(c01b=False, gain=1.0), b=Constant(val=0.0),\n",
       "      incoming=DenseLayer(W=Glor...e=CrossEntropy(eps=1e-12),\n",
       "          session_kwargs=None, update=SGD(learning_rate=0.01), verbose=0),\n",
       "       fit_params={}, iid=True, n_jobs=1,\n",
       "       param_grid={'update__learning_rate': [0.1, 0.5], 'max_epochs': [5, 10], 'hidden__num_units': [50, 100]},\n",
       "       pre_dispatch='2*n_jobs', refit=False, scoring='accuracy', verbose=3)"
      ]
     },
     "execution_count": 21,
     "metadata": {},
     "output_type": "execute_result"
    }
   ],
   "source": [
    "cv.fit(X, y)"
   ]
  },
  {
   "cell_type": "code",
   "execution_count": 22,
   "metadata": {
    "collapsed": false
   },
   "outputs": [
    {
     "data": {
      "text/plain": [
       "({'hidden__num_units': 50, 'max_epochs': 10, 'update__learning_rate': 0.5},\n",
       " 0.84719999999999995)"
      ]
     },
     "execution_count": 22,
     "metadata": {},
     "output_type": "execute_result"
    }
   ],
   "source": [
    "cv.best_params_, cv.best_score_"
   ]
  },
  {
   "cell_type": "markdown",
   "metadata": {
    "collapsed": true
   },
   "source": [
    "## Regression task"
   ]
  },
  {
   "cell_type": "markdown",
   "metadata": {},
   "source": [
    "As is known from sklearn, we have separate estimators for classification and regression."
   ]
  },
  {
   "cell_type": "markdown",
   "metadata": {},
   "source": [
    "### Data"
   ]
  },
  {
   "cell_type": "code",
   "execution_count": 23,
   "metadata": {
    "collapsed": true
   },
   "outputs": [],
   "source": [
    "X, y = make_regression(n_samples=5000)"
   ]
  },
  {
   "cell_type": "markdown",
   "metadata": {},
   "source": [
    "Note that apart from using `NeuralNetRegressor` instead of `NeuralNetClassifier`, everything is the same. No need to adjust output nonlinearity or objective."
   ]
  },
  {
   "cell_type": "markdown",
   "metadata": {},
   "source": [
    "### Define neural network"
   ]
  },
  {
   "cell_type": "code",
   "execution_count": 25,
   "metadata": {
    "collapsed": false
   },
   "outputs": [],
   "source": [
    "l0 = InputLayer()\n",
    "l1 = DenseLayer(l0, num_units=200)\n",
    "l2 = DenseLayer(l1)"
   ]
  },
  {
   "cell_type": "code",
   "execution_count": 26,
   "metadata": {
    "collapsed": false
   },
   "outputs": [],
   "source": [
    "net = NeuralNetRegressor(l2, verbose=1)"
   ]
  },
  {
   "cell_type": "code",
   "execution_count": 27,
   "metadata": {
    "collapsed": false
   },
   "outputs": [
    {
     "data": {
      "text/plain": [
       "NeuralNetRegressor(batch_iterator=<mink.nolearn.BatchIterator object at 0x7fa44c72a278>,\n",
       "          encoder=None,\n",
       "          layer=DenseLayer(W=GlorotUniform(c01b=False, gain=1.0), b=Constant(val=0.0),\n",
       "      incoming=DenseLayer(W=GlorotUniform(c01b=False, gain=1.0), b=Constant(val=0.0),\n",
       "      incoming=InputLayer(Xs=None, name=None, ys=None), name=None,\n",
       "      nonlinearity=None, num_units=200),\n",
       "      name=None, nonlinearity=None, num_units=None),\n",
       "          max_epochs=10, objective=MeanSquaredError(), session_kwargs=None,\n",
       "          update=SGD(learning_rate=0.001), verbose=1)"
      ]
     },
     "execution_count": 27,
     "metadata": {},
     "output_type": "execute_result"
    }
   ],
   "source": [
    "net.set_params(update__learning_rate=0.001)"
   ]
  },
  {
   "cell_type": "markdown",
   "metadata": {},
   "source": [
    "### Train"
   ]
  },
  {
   "cell_type": "code",
   "execution_count": 28,
   "metadata": {
    "collapsed": false
   },
   "outputs": [
    {
     "name": "stdout",
     "output_type": "stream",
     "text": [
      "epochs:    1 | loss: 3603.20703\n",
      "epochs:    2 | loss: 240.22165\n",
      "epochs:    3 | loss: 178.11111\n",
      "epochs:    4 | loss: 135.71141\n",
      "epochs:    5 | loss: 103.19876\n",
      "epochs:    6 | loss: 78.38826\n",
      "epochs:    7 | loss: 59.37325\n",
      "epochs:    8 | loss: 45.04291\n",
      "epochs:    9 | loss: 34.18863\n",
      "epochs:   10 | loss: 26.17146\n",
      "epochs:   11 | loss: 20.21072\n",
      "epochs:   12 | loss: 15.72537\n",
      "epochs:   13 | loss: 12.32325\n",
      "epochs:   14 | loss: 9.71921\n",
      "epochs:   15 | loss: 7.76906\n",
      "epochs:   16 | loss: 6.31207\n",
      "epochs:   17 | loss: 5.21556\n",
      "epochs:   18 | loss: 4.37478\n",
      "epochs:   19 | loss: 3.72983\n",
      "epochs:   20 | loss: 3.22991\n"
     ]
    },
    {
     "data": {
      "text/plain": [
       "NeuralNetRegressor(batch_iterator=<mink.nolearn.BatchIterator object at 0x7fa44c72a278>,\n",
       "          encoder=None,\n",
       "          layer=DenseLayer(W=GlorotUniform(c01b=False, gain=1.0), b=Constant(val=0.0),\n",
       "      incoming=DenseLayer(W=GlorotUniform(c01b=False, gain=1.0), b=Constant(val=0.0),\n",
       "      incoming=InputLayer(Xs=None, name=None, ys=None), name=None,\n",
       "      nonlinearity=None, num_units=200),\n",
       "      name=None, nonlinearity=Linear(), num_units=1),\n",
       "          max_epochs=10, objective=MeanSquaredError(), session_kwargs=None,\n",
       "          update=SGD(learning_rate=0.001), verbose=1)"
      ]
     },
     "execution_count": 28,
     "metadata": {},
     "output_type": "execute_result"
    }
   ],
   "source": [
    "net.fit(X, y, num_epochs=20)"
   ]
  },
  {
   "cell_type": "code",
   "execution_count": null,
   "metadata": {
    "collapsed": true
   },
   "outputs": [],
   "source": []
  }
 ],
 "metadata": {
  "kernelspec": {
   "display_name": "Python 3",
   "language": "python",
   "name": "python3"
  },
  "language_info": {
   "codemirror_mode": {
    "name": "ipython",
    "version": 3
   },
   "file_extension": ".py",
   "mimetype": "text/x-python",
   "name": "python",
   "nbconvert_exporter": "python",
   "pygments_lexer": "ipython3",
   "version": "3.4.4"
  }
 },
 "nbformat": 4,
 "nbformat_minor": 0
}
