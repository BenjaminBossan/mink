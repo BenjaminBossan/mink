{
 "cells": [
  {
   "cell_type": "markdown",
   "metadata": {
    "collapsed": true
   },
   "source": [
    "# Mink usage examples"
   ]
  },
  {
   "cell_type": "markdown",
   "metadata": {},
   "source": [
    "This notebook demonstrates some examples of using mink and how it interacts with sklearn."
   ]
  },
  {
   "cell_type": "markdown",
   "metadata": {},
   "source": [
    "## Imports"
   ]
  },
  {
   "cell_type": "code",
   "execution_count": 1,
   "metadata": {
    "collapsed": true
   },
   "outputs": [],
   "source": [
    "import pickle"
   ]
  },
  {
   "cell_type": "code",
   "execution_count": 2,
   "metadata": {
    "collapsed": false
   },
   "outputs": [],
   "source": [
    "import numpy as np\n",
    "from sklearn.grid_search import GridSearchCV\n",
    "from sklearn.datasets import make_classification\n",
    "from sklearn.datasets import make_regression\n",
    "from sklearn.metrics import mean_squared_error\n",
    "import tensorflow as tf"
   ]
  },
  {
   "cell_type": "code",
   "execution_count": 3,
   "metadata": {
    "collapsed": false
   },
   "outputs": [],
   "source": [
    "from mink import NeuralNetClassifier\n",
    "from mink import NeuralNetRegressor\n",
    "from mink.layers import DenseLayer\n",
    "from mink.layers import InputLayer\n",
    "from mink.updates import SGD"
   ]
  },
  {
   "cell_type": "markdown",
   "metadata": {},
   "source": [
    "## MNIST classification task"
   ]
  },
  {
   "cell_type": "markdown",
   "metadata": {},
   "source": [
    "### Data"
   ]
  },
  {
   "cell_type": "code",
   "execution_count": 4,
   "metadata": {
    "collapsed": false
   },
   "outputs": [],
   "source": [
    "X, y = make_classification(n_samples=5000, random_state=0)"
   ]
  },
  {
   "cell_type": "markdown",
   "metadata": {},
   "source": [
    "### Define neural net"
   ]
  },
  {
   "cell_type": "markdown",
   "metadata": {},
   "source": [
    "Note: No need to specify the shape of the training data, number of classes, or to set softmax nonlinearity. The `NeuralNetClassifier` class takes care of all of that, as is expected from an sklearn estimator."
   ]
  },
  {
   "cell_type": "code",
   "execution_count": 5,
   "metadata": {
    "collapsed": false
   },
   "outputs": [],
   "source": [
    "l0 = InputLayer()\n",
    "l1 = DenseLayer(l0, num_units=200)\n",
    "l2 = DenseLayer(l1)"
   ]
  },
  {
   "cell_type": "code",
   "execution_count": 6,
   "metadata": {
    "collapsed": false
   },
   "outputs": [],
   "source": [
    "net = NeuralNetClassifier(l2, verbose=1)"
   ]
  },
  {
   "cell_type": "markdown",
   "metadata": {},
   "source": [
    "If we want to change certain parameters after initialization, just use the `set_params` method and the double-underscore notation known from sklearn."
   ]
  },
  {
   "cell_type": "code",
   "execution_count": 7,
   "metadata": {
    "collapsed": false
   },
   "outputs": [
    {
     "data": {
      "text/plain": [
       "NeuralNetClassifier(batch_iterator_test=128, batch_iterator_train=128,\n",
       "          encoder=LabelBinarizer(neg_label=0, pos_label=1, sparse_output=False),\n",
       "          layer=DenseLayer(W=GlorotUniform(c01b=False, gain=1.0), b=Constant(value=0.0),\n",
       "      incoming=DenseLayer(W=GlorotUniform(c01b=False, gain=1.0), b=Constant(value=0.0),\n",
       "      incoming=InputLayer(Xs=None, make_logs=False, name=None, ys=None),\n",
       "      make_logs=False, name=None, nonlinearity=None, num_units=200),\n",
       "      make_logs=False, name=None, nonlinearity=None, num_units=None),\n",
       "          max_epochs=10, objective=CrossEntropy(eps=1e-12),\n",
       "          on_epoch_finished=(<mink.handlers.PrintTrainProgress object at 0x7f900e758e48>,),\n",
       "          on_training_started=(<mink.handlers.PrintLayerInfo object at 0x7f900e826710>,),\n",
       "          session_kwargs=None, update=SGD(learning_rate=0.5), verbose=1)"
      ]
     },
     "execution_count": 7,
     "metadata": {},
     "output_type": "execute_result"
    }
   ],
   "source": [
    "net.set_params(update__learning_rate=0.5)"
   ]
  },
  {
   "cell_type": "markdown",
   "metadata": {},
   "source": [
    "### Train"
   ]
  },
  {
   "cell_type": "code",
   "execution_count": 8,
   "metadata": {
    "collapsed": false
   },
   "outputs": [
    {
     "name": "stdout",
     "output_type": "stream",
     "text": [
      "# Neural Network with 4602 learnable parameters\n",
      "\n",
      "## Layer information\n",
      "\n",
      "|   # | name   |   size |\n",
      "|----:|:-------|-------:|\n",
      "|   0 | input  |     20 |\n",
      "|   1 | dense  |    200 |\n",
      "|   2 | dense  |      2 |\n",
      "\n"
     ]
    },
    {
     "data": {
      "text/plain": [
       "NeuralNetClassifier(batch_iterator_test=128, batch_iterator_train=128,\n",
       "          encoder=LabelBinarizer(neg_label=0, pos_label=1, sparse_output=False),\n",
       "          layer=DenseLayer(W=GlorotUniform(c01b=False, gain=1.0), b=Constant(value=0.0),\n",
       "      incoming=DenseLayer(W=GlorotUniform(c01b=False, gain=1.0), b=Constant(value=0.0),\n",
       "      incoming=InputLayer(Xs=None, make_logs=False, name=None, ys=None),\n",
       "      make_logs=False, name=None, nonlinearity=None, num_units=200),\n",
       "      make_logs=False, name=None, nonlinearity=Softmax(), num_units=2),\n",
       "          max_epochs=10, objective=CrossEntropy(eps=1e-12),\n",
       "          on_epoch_finished=(<mink.handlers.PrintTrainProgress object at 0x7f900e758e48>,),\n",
       "          on_training_started=(<mink.handlers.PrintLayerInfo object at 0x7f900e826710>,),\n",
       "          session_kwargs=None, update=SGD(learning_rate=0.5), verbose=1)"
      ]
     },
     "execution_count": 8,
     "metadata": {},
     "output_type": "execute_result"
    }
   ],
   "source": [
    "net.fit(X, y, epochs=0)"
   ]
  },
  {
   "cell_type": "code",
   "execution_count": 9,
   "metadata": {
    "collapsed": false
   },
   "outputs": [],
   "source": [
    "y_proba = net.predict_proba(X)"
   ]
  },
  {
   "cell_type": "code",
   "execution_count": 10,
   "metadata": {
    "collapsed": false
   },
   "outputs": [
    {
     "data": {
      "text/plain": [
       "0.40060000000000001"
      ]
     },
     "execution_count": 10,
     "metadata": {},
     "output_type": "execute_result"
    }
   ],
   "source": [
    "(np.argmax(y_proba, 1) == y).mean()"
   ]
  },
  {
   "cell_type": "code",
   "execution_count": 11,
   "metadata": {
    "collapsed": false,
    "scrolled": true
   },
   "outputs": [
    {
     "name": "stdout",
     "output_type": "stream",
     "text": [
      "# Neural Network with 4602 learnable parameters\n",
      "\n",
      "## Layer information\n",
      "\n",
      "|   # | name   |   size |\n",
      "|----:|:-------|-------:|\n",
      "|   0 | input  |     20 |\n",
      "|   1 | dense  |    200 |\n",
      "|   2 | dense  |      2 |\n",
      "\n",
      "|   epoch |   train loss |     dur |\n",
      "|--------:|-------------:|--------:|\n",
      "|       1 |      \u001b[36m0.17884\u001b[0m | 0.04433 |\n",
      "|       2 |      \u001b[36m0.12588\u001b[0m | 0.03878 |\n",
      "|       3 |      \u001b[36m0.11474\u001b[0m | 0.03564 |\n",
      "|       4 |      \u001b[36m0.10970\u001b[0m | 0.03639 |\n",
      "|       5 |      \u001b[36m0.10618\u001b[0m | 0.03578 |\n",
      "|       6 |      \u001b[36m0.10345\u001b[0m | 0.03739 |\n",
      "|       7 |      \u001b[36m0.10096\u001b[0m | 0.03449 |\n",
      "|       8 |      \u001b[36m0.09875\u001b[0m | 0.03641 |\n",
      "|       9 |      \u001b[36m0.09683\u001b[0m | 0.03886 |\n",
      "|      10 |      \u001b[36m0.09497\u001b[0m | 0.03637 |\n",
      "|      11 |      \u001b[36m0.09321\u001b[0m | 0.04120 |\n",
      "|      12 |      \u001b[36m0.09151\u001b[0m | 0.03713 |\n",
      "|      13 |      \u001b[36m0.08991\u001b[0m | 0.03788 |\n",
      "|      14 |      \u001b[36m0.08840\u001b[0m | 0.03666 |\n",
      "|      15 |      \u001b[36m0.08697\u001b[0m | 0.03804 |\n",
      "|      16 |      \u001b[36m0.08563\u001b[0m | 0.03762 |\n",
      "|      17 |      \u001b[36m0.08423\u001b[0m | 0.03622 |\n",
      "|      18 |      \u001b[36m0.08293\u001b[0m | 0.03661 |\n",
      "|      19 |      \u001b[36m0.08158\u001b[0m | 0.03711 |\n",
      "|      20 |      \u001b[36m0.08016\u001b[0m | 0.03978 |\n"
     ]
    },
    {
     "data": {
      "text/plain": [
       "NeuralNetClassifier(batch_iterator_test=128, batch_iterator_train=128,\n",
       "          encoder=LabelBinarizer(neg_label=0, pos_label=1, sparse_output=False),\n",
       "          layer=DenseLayer(W=GlorotUniform(c01b=False, gain=1.0), b=Constant(value=0.0),\n",
       "      incoming=DenseLayer(W=GlorotUniform(c01b=False, gain=1.0), b=Constant(value=0.0),\n",
       "      incoming=InputLayer(Xs=None, make_logs=False, name=None, ys=None),\n",
       "      make_logs=False, name=None, nonlinearity=None, num_units=200),\n",
       "      make_logs=False, name=None, nonlinearity=Softmax(), num_units=2),\n",
       "          max_epochs=10, objective=CrossEntropy(eps=1e-12),\n",
       "          on_epoch_finished=(<mink.handlers.PrintTrainProgress object at 0x7f900e758e48>,),\n",
       "          on_training_started=(<mink.handlers.PrintLayerInfo object at 0x7f900e826710>,),\n",
       "          session_kwargs=None, update=SGD(learning_rate=0.5), verbose=1)"
      ]
     },
     "execution_count": 11,
     "metadata": {},
     "output_type": "execute_result"
    }
   ],
   "source": [
    "net.fit(X, y, epochs=20)"
   ]
  },
  {
   "cell_type": "code",
   "execution_count": 12,
   "metadata": {
    "collapsed": false
   },
   "outputs": [],
   "source": [
    "y_proba = net.predict_proba(X)"
   ]
  },
  {
   "cell_type": "code",
   "execution_count": 13,
   "metadata": {
    "collapsed": false
   },
   "outputs": [
    {
     "data": {
      "text/plain": [
       "0.98040000000000005"
      ]
     },
     "execution_count": 13,
     "metadata": {},
     "output_type": "execute_result"
    }
   ],
   "source": [
    "(np.argmax(y_proba, 1) == y.flatten()).mean()"
   ]
  },
  {
   "cell_type": "markdown",
   "metadata": {},
   "source": [
    "### Grid search"
   ]
  },
  {
   "cell_type": "markdown",
   "metadata": {},
   "source": [
    "The neural net estimators can be used in conjunction with other sklearn features, such as `GridSearchCV`."
   ]
  },
  {
   "cell_type": "code",
   "execution_count": 14,
   "metadata": {
    "collapsed": false
   },
   "outputs": [],
   "source": [
    "l0 = InputLayer()\n",
    "l1 = DenseLayer(l0, name='hidden')\n",
    "l2 = DenseLayer(l1)"
   ]
  },
  {
   "cell_type": "code",
   "execution_count": 15,
   "metadata": {
    "collapsed": false
   },
   "outputs": [],
   "source": [
    "net = NeuralNetClassifier(l2, update=SGD())"
   ]
  },
  {
   "cell_type": "markdown",
   "metadata": {},
   "source": [
    "Parameters are set using the known double-underscore notation, e.g.\n",
    "\n",
    "`'update__learning_rate': [0.1, 0.5]`.\n",
    "\n",
    "Note: Instead of having to write\n",
    "\n",
    "`'layer__incoming__num_units': [50, 100]`\n",
    "\n",
    "we can just write\n",
    "\n",
    "`'hidden__num_units': [50, 100]`\n",
    "\n",
    "because we have given the hidden layer a name, \"hidden\". This may safe a lot of writing and confusion."
   ]
  },
  {
   "cell_type": "code",
   "execution_count": 16,
   "metadata": {
    "collapsed": true
   },
   "outputs": [],
   "source": [
    "params = {\n",
    "    'update__learning_rate': [0.1, 0.5],\n",
    "    'max_epochs': [5, 10],\n",
    "    'hidden__num_units': [50, 100],\n",
    "}"
   ]
  },
  {
   "cell_type": "code",
   "execution_count": 17,
   "metadata": {
    "collapsed": false
   },
   "outputs": [],
   "source": [
    "cv = GridSearchCV(net, params, scoring='accuracy', refit=False, verbose=3)"
   ]
  },
  {
   "cell_type": "code",
   "execution_count": 18,
   "metadata": {
    "collapsed": false,
    "scrolled": true
   },
   "outputs": [
    {
     "name": "stdout",
     "output_type": "stream",
     "text": [
      "Fitting 3 folds for each of 8 candidates, totalling 24 fits\n",
      "[CV] hidden__num_units=50, max_epochs=5, update__learning_rate=0.1 ...\n",
      "[CV]  hidden__num_units=50, max_epochs=5, update__learning_rate=0.1, score=0.947211 -   0.3s\n",
      "[CV] hidden__num_units=50, max_epochs=5, update__learning_rate=0.1 ...\n",
      "[CV]  hidden__num_units=50, max_epochs=5, update__learning_rate=0.1, score=0.944811 -   0.3s\n",
      "[CV] hidden__num_units=50, max_epochs=5, update__learning_rate=0.1 ...\n",
      "[CV]  hidden__num_units=50, max_epochs=5, update__learning_rate=0.1, score=0.962185 -   0.4s\n",
      "[CV] hidden__num_units=50, max_epochs=5, update__learning_rate=0.5 ...\n",
      "[CV]  hidden__num_units=50, max_epochs=5, update__learning_rate=0.5, score=0.960408 -   0.4s\n",
      "[CV] hidden__num_units=50, max_epochs=5, update__learning_rate=0.5 ...\n",
      "[CV]  hidden__num_units=50, max_epochs=5, update__learning_rate=0.5, score=0.955009 -   0.4s\n",
      "[CV] hidden__num_units=50, max_epochs=5, update__learning_rate=0.5 ...\n",
      "[CV]  hidden__num_units=50, max_epochs=5, update__learning_rate=0.5, score=0.964586 -   0.4s\n",
      "[CV] hidden__num_units=50, max_epochs=10, update__learning_rate=0.1 ..\n",
      "[CV]  hidden__num_units=50, max_epochs=10, update__learning_rate=0.1, score=0.953809 -   0.6s\n",
      "[CV] hidden__num_units=50, max_epochs=10, update__learning_rate=0.1 ..\n",
      "[CV]  hidden__num_units=50, max_epochs=10, update__learning_rate=0.1, score=0.951410 -   0.6s\n",
      "[CV] hidden__num_units=50, max_epochs=10, update__learning_rate=0.1 ..\n",
      "[CV]  hidden__num_units=50, max_epochs=10, update__learning_rate=0.1, score=0.965186 -   0.7s\n",
      "[CV] hidden__num_units=50, max_epochs=10, update__learning_rate=0.5 ..\n",
      "[CV]  hidden__num_units=50, max_epochs=10, update__learning_rate=0.5, score=0.956209 -   0.7s\n",
      "[CV] hidden__num_units=50, max_epochs=10, update__learning_rate=0.5 ..\n",
      "[CV]  hidden__num_units=50, max_epochs=10, update__learning_rate=0.5, score=0.961008 -   0.8s\n",
      "[CV] hidden__num_units=50, max_epochs=10, update__learning_rate=0.5 ..\n",
      "[CV]  hidden__num_units=50, max_epochs=10, update__learning_rate=0.5, score=0.964586 -   0.8s\n",
      "[CV] hidden__num_units=100, max_epochs=5, update__learning_rate=0.1 ..\n",
      "[CV]  hidden__num_units=100, max_epochs=5, update__learning_rate=0.1, score=0.950810 -   0.6s\n",
      "[CV] hidden__num_units=100, max_epochs=5, update__learning_rate=0.1 ..\n",
      "[CV]  hidden__num_units=100, max_epochs=5, update__learning_rate=0.1, score=0.951410 -   0.7s\n",
      "[CV] hidden__num_units=100, max_epochs=5, update__learning_rate=0.1 ..\n",
      "[CV]  hidden__num_units=100, max_epochs=5, update__learning_rate=0.1, score=0.963986 -   0.8s\n",
      "[CV] hidden__num_units=100, max_epochs=5, update__learning_rate=0.5 ..\n",
      "[CV]  hidden__num_units=100, max_epochs=5, update__learning_rate=0.5, score=0.956209 -   0.8s\n",
      "[CV] hidden__num_units=100, max_epochs=5, update__learning_rate=0.5 ..\n",
      "[CV]  hidden__num_units=100, max_epochs=5, update__learning_rate=0.5, score=0.959208 -   0.8s\n",
      "[CV] hidden__num_units=100, max_epochs=5, update__learning_rate=0.5 ..\n",
      "[CV]  hidden__num_units=100, max_epochs=5, update__learning_rate=0.5, score=0.962185 -   0.8s\n",
      "[CV] hidden__num_units=100, max_epochs=10, update__learning_rate=0.1 .\n",
      "[CV]  hidden__num_units=100, max_epochs=10, update__learning_rate=0.1, score=0.949610 -   1.0s\n",
      "[CV] hidden__num_units=100, max_epochs=10, update__learning_rate=0.1 .\n",
      "[CV]  hidden__num_units=100, max_epochs=10, update__learning_rate=0.1, score=0.950810 -   1.0s\n",
      "[CV] hidden__num_units=100, max_epochs=10, update__learning_rate=0.1 .\n",
      "[CV]  hidden__num_units=100, max_epochs=10, update__learning_rate=0.1, score=0.963986 -   1.1s\n",
      "[CV] hidden__num_units=100, max_epochs=10, update__learning_rate=0.5 .\n",
      "[CV]  hidden__num_units=100, max_epochs=10, update__learning_rate=0.5, score=0.960408 -   1.1s\n",
      "[CV] hidden__num_units=100, max_epochs=10, update__learning_rate=0.5 .\n",
      "[CV]  hidden__num_units=100, max_epochs=10, update__learning_rate=0.5, score=0.959208 -   1.2s\n",
      "[CV] hidden__num_units=100, max_epochs=10, update__learning_rate=0.5 .\n",
      "[CV]  hidden__num_units=100, max_epochs=10, update__learning_rate=0.5, score=0.960384 -   1.2s\n"
     ]
    },
    {
     "name": "stderr",
     "output_type": "stream",
     "text": [
      "[Parallel(n_jobs=1)]: Done  24 out of  24 | elapsed:   18.0s finished\n"
     ]
    },
    {
     "data": {
      "text/plain": [
       "GridSearchCV(cv=None, error_score='raise',\n",
       "       estimator=NeuralNetClassifier(batch_iterator_test=128, batch_iterator_train=128,\n",
       "          encoder=LabelBinarizer(neg_label=0, pos_label=1, sparse_output=False),\n",
       "          layer=DenseLayer(W=GlorotUniform(c01b=False, gain=1.0), b=Constant(value=0.0),\n",
       "      incoming=DenseLayer(W=GlorotUniform(c01b=Fa...ject at 0x7f900e826710>,),\n",
       "          session_kwargs=None, update=SGD(learning_rate=0.01), verbose=0),\n",
       "       fit_params={}, iid=True, n_jobs=1,\n",
       "       param_grid={'hidden__num_units': [50, 100], 'max_epochs': [5, 10], 'update__learning_rate': [0.1, 0.5]},\n",
       "       pre_dispatch='2*n_jobs', refit=False, scoring='accuracy', verbose=3)"
      ]
     },
     "execution_count": 18,
     "metadata": {},
     "output_type": "execute_result"
    }
   ],
   "source": [
    "cv.fit(X, y)"
   ]
  },
  {
   "cell_type": "code",
   "execution_count": 19,
   "metadata": {
    "collapsed": false
   },
   "outputs": [
    {
     "data": {
      "text/plain": [
       "({'hidden__num_units': 50, 'max_epochs': 10, 'update__learning_rate': 0.5},\n",
       " 0.96060000000000001)"
      ]
     },
     "execution_count": 19,
     "metadata": {},
     "output_type": "execute_result"
    }
   ],
   "source": [
    "cv.best_params_, cv.best_score_"
   ]
  },
  {
   "cell_type": "markdown",
   "metadata": {
    "collapsed": true
   },
   "source": [
    "## Regression task"
   ]
  },
  {
   "cell_type": "markdown",
   "metadata": {},
   "source": [
    "As is known from sklearn, we have separate estimators for classification and regression."
   ]
  },
  {
   "cell_type": "markdown",
   "metadata": {},
   "source": [
    "### Data"
   ]
  },
  {
   "cell_type": "code",
   "execution_count": 20,
   "metadata": {
    "collapsed": true
   },
   "outputs": [],
   "source": [
    "X, y = make_regression(n_samples=5000, random_state=0)"
   ]
  },
  {
   "cell_type": "markdown",
   "metadata": {},
   "source": [
    "Note that apart from using `NeuralNetRegressor` instead of `NeuralNetClassifier`, everything is the same. No need to adjust output nonlinearity or objective."
   ]
  },
  {
   "cell_type": "markdown",
   "metadata": {},
   "source": [
    "### Define neural network"
   ]
  },
  {
   "cell_type": "code",
   "execution_count": 21,
   "metadata": {
    "collapsed": false
   },
   "outputs": [],
   "source": [
    "l0 = InputLayer()\n",
    "l1 = DenseLayer(l0, num_units=200)\n",
    "l2 = DenseLayer(l1)"
   ]
  },
  {
   "cell_type": "code",
   "execution_count": 22,
   "metadata": {
    "collapsed": false
   },
   "outputs": [],
   "source": [
    "net = NeuralNetRegressor(l2, verbose=1)"
   ]
  },
  {
   "cell_type": "code",
   "execution_count": 23,
   "metadata": {
    "collapsed": false
   },
   "outputs": [
    {
     "data": {
      "text/plain": [
       "NeuralNetRegressor(batch_iterator_test=128, batch_iterator_train=128,\n",
       "          encoder=None,\n",
       "          layer=DenseLayer(W=GlorotUniform(c01b=False, gain=1.0), b=Constant(value=0.0),\n",
       "      incoming=DenseLayer(W=GlorotUniform(c01b=False, gain=1.0), b=Constant(value=0.0),\n",
       "      incoming=InputLayer(Xs=None, make_logs=False, name=None, ys=None),\n",
       "      make_logs=False, name=None, nonlinearity=None, num_units=200),\n",
       "      make_logs=False, name=None, nonlinearity=None, num_units=None),\n",
       "          max_epochs=10, objective=MeanSquaredError(),\n",
       "          on_epoch_finished=(<mink.handlers.PrintTrainProgress object at 0x7f900e76d128>,),\n",
       "          on_training_started=(<mink.handlers.PrintLayerInfo object at 0x7f900e76d0f0>,),\n",
       "          session_kwargs=None, update=SGD(learning_rate=0.0001), verbose=1)"
      ]
     },
     "execution_count": 23,
     "metadata": {},
     "output_type": "execute_result"
    }
   ],
   "source": [
    "net.set_params(update__learning_rate=0.0001)"
   ]
  },
  {
   "cell_type": "markdown",
   "metadata": {},
   "source": [
    "### Train"
   ]
  },
  {
   "cell_type": "code",
   "execution_count": 24,
   "metadata": {
    "collapsed": false
   },
   "outputs": [
    {
     "name": "stdout",
     "output_type": "stream",
     "text": [
      "# Neural Network with 20401 learnable parameters\n",
      "\n",
      "## Layer information\n",
      "\n",
      "|   # | name   |   size |\n",
      "|----:|:-------|-------:|\n",
      "|   0 | input  |    100 |\n",
      "|   1 | dense  |    200 |\n",
      "|   2 | dense  |      1 |\n",
      "\n",
      "|   epoch |   train loss |     dur |\n",
      "|--------:|-------------:|--------:|\n",
      "|       1 |  \u001b[36m30585.94141\u001b[0m | 0.05749 |\n",
      "|       2 |  \u001b[36m29499.32422\u001b[0m | 0.02741 |\n",
      "|       3 |  \u001b[36m25286.44727\u001b[0m | 0.02820 |\n",
      "|       4 |  \u001b[36m13752.04688\u001b[0m | 0.02866 |\n",
      "|       5 |   \u001b[36m3010.52661\u001b[0m | 0.02850 |\n",
      "|       6 |    \u001b[36m534.34149\u001b[0m | 0.02807 |\n",
      "|       7 |    \u001b[36m304.34503\u001b[0m | 0.02792 |\n",
      "|       8 |    \u001b[36m264.94580\u001b[0m | 0.02905 |\n",
      "|       9 |    \u001b[36m244.89995\u001b[0m | 0.02767 |\n",
      "|      10 |    \u001b[36m229.84749\u001b[0m | 0.02902 |\n",
      "|      11 |    \u001b[36m217.19238\u001b[0m | 0.02862 |\n",
      "|      12 |    \u001b[36m205.98453\u001b[0m | 0.02843 |\n",
      "|      13 |    \u001b[36m195.79178\u001b[0m | 0.02809 |\n",
      "|      14 |    \u001b[36m186.34044\u001b[0m | 0.02901 |\n",
      "|      15 |    \u001b[36m177.48831\u001b[0m | 0.02880 |\n",
      "|      16 |    \u001b[36m169.15683\u001b[0m | 0.02940 |\n",
      "|      17 |    \u001b[36m161.28592\u001b[0m | 0.02819 |\n",
      "|      18 |    \u001b[36m153.81575\u001b[0m | 0.02825 |\n",
      "|      19 |    \u001b[36m146.70276\u001b[0m | 0.03063 |\n",
      "|      20 |    \u001b[36m139.91817\u001b[0m | 0.02846 |\n"
     ]
    },
    {
     "data": {
      "text/plain": [
       "NeuralNetRegressor(batch_iterator_test=128, batch_iterator_train=128,\n",
       "          encoder=None,\n",
       "          layer=DenseLayer(W=GlorotUniform(c01b=False, gain=1.0), b=Constant(value=0.0),\n",
       "      incoming=DenseLayer(W=GlorotUniform(c01b=False, gain=1.0), b=Constant(value=0.0),\n",
       "      incoming=InputLayer(Xs=None, make_logs=False, name=None, ys=None),\n",
       "      make_logs=False, name=None, nonlinearity=None, num_units=200),\n",
       "      make_logs=False, name=None, nonlinearity=Linear(), num_units=1),\n",
       "          max_epochs=10, objective=MeanSquaredError(),\n",
       "          on_epoch_finished=(<mink.handlers.PrintTrainProgress object at 0x7f900e76d128>,),\n",
       "          on_training_started=(<mink.handlers.PrintLayerInfo object at 0x7f900e76d0f0>,),\n",
       "          session_kwargs=None, update=SGD(learning_rate=0.0001), verbose=1)"
      ]
     },
     "execution_count": 24,
     "metadata": {},
     "output_type": "execute_result"
    }
   ],
   "source": [
    "net.fit(X, y, epochs=20)"
   ]
  },
  {
   "cell_type": "markdown",
   "metadata": {
    "collapsed": true
   },
   "source": [
    "## Saving and restoring"
   ]
  },
  {
   "cell_type": "markdown",
   "metadata": {},
   "source": [
    "### Save previous net"
   ]
  },
  {
   "cell_type": "code",
   "execution_count": 25,
   "metadata": {
    "collapsed": false,
    "scrolled": true
   },
   "outputs": [
    {
     "name": "stdout",
     "output_type": "stream",
     "text": [
      "136.255227\n"
     ]
    }
   ],
   "source": [
    "score_before = mean_squared_error(y, net.predict(X))\n",
    "print(score_before)"
   ]
  },
  {
   "cell_type": "code",
   "execution_count": 26,
   "metadata": {
    "collapsed": false
   },
   "outputs": [],
   "source": [
    "with open('mynet.pkl', 'wb') as f:\n",
    "    pickle.dump(net, f)"
   ]
  },
  {
   "cell_type": "markdown",
   "metadata": {},
   "source": [
    "### Create a new net with same architecture"
   ]
  },
  {
   "cell_type": "code",
   "execution_count": 27,
   "metadata": {
    "collapsed": true
   },
   "outputs": [],
   "source": [
    "with open('mynet.pkl', 'rb') as f:\n",
    "    new_net = pickle.load(f)"
   ]
  },
  {
   "cell_type": "code",
   "execution_count": 28,
   "metadata": {
    "collapsed": false,
    "scrolled": true
   },
   "outputs": [
    {
     "name": "stdout",
     "output_type": "stream",
     "text": [
      "136.255227\n"
     ]
    }
   ],
   "source": [
    "score_after = mean_squared_error(y, new_net.predict(X))\n",
    "print(score_after)\n",
    "assert np.isclose(score_before, score_after)"
   ]
  },
  {
   "cell_type": "code",
   "execution_count": null,
   "metadata": {
    "collapsed": true
   },
   "outputs": [],
   "source": []
  }
 ],
 "metadata": {
  "kernelspec": {
   "display_name": "Python 3",
   "language": "python",
   "name": "python3"
  },
  "language_info": {
   "codemirror_mode": {
    "name": "ipython",
    "version": 3
   },
   "file_extension": ".py",
   "mimetype": "text/x-python",
   "name": "python",
   "nbconvert_exporter": "python",
   "pygments_lexer": "ipython3",
   "version": "3.4.4"
  }
 },
 "nbformat": 4,
 "nbformat_minor": 0
}
