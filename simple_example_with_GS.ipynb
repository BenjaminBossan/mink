{
 "cells": [
  {
   "cell_type": "markdown",
   "metadata": {
    "collapsed": true
   },
   "source": [
    "# nolearn/lasagne -> tensorflow"
   ]
  },
  {
   "cell_type": "markdown",
   "metadata": {},
   "source": [
    "## Imports"
   ]
  },
  {
   "cell_type": "code",
   "execution_count": 1,
   "metadata": {
    "collapsed": false
   },
   "outputs": [],
   "source": [
    "import numpy as np\n",
    "from sklearn.grid_search import GridSearchCV\n",
    "import tensorflow as tf\n",
    "import pandas as pd"
   ]
  },
  {
   "cell_type": "code",
   "execution_count": 2,
   "metadata": {
    "collapsed": false
   },
   "outputs": [],
   "source": [
    "from mink import NeuralNetClassifier\n",
    "from mink.layers import DenseLayer\n",
    "from mink.layers import InputLayer\n",
    "from mink.updates import SGD"
   ]
  },
  {
   "cell_type": "markdown",
   "metadata": {},
   "source": [
    "## Data"
   ]
  },
  {
   "cell_type": "code",
   "execution_count": 3,
   "metadata": {
    "collapsed": false
   },
   "outputs": [],
   "source": [
    "df = pd.read_csv('../../data/mnist/train.csv')"
   ]
  },
  {
   "cell_type": "code",
   "execution_count": 4,
   "metadata": {
    "collapsed": true
   },
   "outputs": [],
   "source": [
    "y = df.pop('label')"
   ]
  },
  {
   "cell_type": "code",
   "execution_count": 5,
   "metadata": {
    "collapsed": true
   },
   "outputs": [],
   "source": [
    "X = (df.values / 255.).astype(np.float32)"
   ]
  },
  {
   "cell_type": "markdown",
   "metadata": {},
   "source": [
    "## Train"
   ]
  },
  {
   "cell_type": "code",
   "execution_count": 6,
   "metadata": {
    "collapsed": false
   },
   "outputs": [],
   "source": [
    "l0 = InputLayer()\n",
    "l1 = DenseLayer(l0, num_units=200)\n",
    "l2 = DenseLayer(l1)"
   ]
  },
  {
   "cell_type": "code",
   "execution_count": 7,
   "metadata": {
    "collapsed": false
   },
   "outputs": [],
   "source": [
    "net = NeuralNetClassifier(l2, verbose=1)"
   ]
  },
  {
   "cell_type": "code",
   "execution_count": 8,
   "metadata": {
    "collapsed": false
   },
   "outputs": [
    {
     "data": {
      "text/plain": [
       "NeuralNetClassifier(batch_iterator=<mink.nolearn.BatchIterator object at 0x7fc262154d68>,\n",
       "          binarizer=LabelBinarizer(neg_label=0, pos_label=1, sparse_output=False),\n",
       "          layer=DenseLayer(W=GlorotUniform(c01b=False, gain=1.0), b=Constant(val=0.0),\n",
       "      incoming=DenseLayer(W=GlorotUniform(c01b=False, gain=1.0), b=Constant(val=0.0),\n",
       "      incoming=InputLayer(Xs=None, name=None, ys=None), name=None,\n",
       "      nonlinearity=None, num_units=200),\n",
       "      name=None, nonlinearity=None, num_units=None),\n",
       "          max_epochs=10,\n",
       "          objective=Objective(loss_function=<function cross_entropy at 0x7fc262147d90>),\n",
       "          session=None, update=SGD(learning_rate=0.5), verbose=1)"
      ]
     },
     "execution_count": 8,
     "metadata": {},
     "output_type": "execute_result"
    }
   ],
   "source": [
    "net.set_params(update__learning_rate=0.5)"
   ]
  },
  {
   "cell_type": "code",
   "execution_count": 9,
   "metadata": {
    "collapsed": false
   },
   "outputs": [
    {
     "data": {
      "text/plain": [
       "NeuralNetClassifier(batch_iterator=<mink.nolearn.BatchIterator object at 0x7fc262154d68>,\n",
       "          binarizer=LabelBinarizer(neg_label=0, pos_label=1, sparse_output=False),\n",
       "          layer=DenseLayer(W=GlorotUniform(c01b=False, gain=1.0), b=Constant(val=0.0),\n",
       "      incoming=DenseLayer(W=GlorotUniform(c01b=False, gain=1.0), b=Constant(val=0.0),\n",
       "      incoming=InputLayer(Xs=None, name=None, ys=None), name=None,\n",
       "      nonlinearity=None, num_units=200),\n",
       "      name=None, nonlinearity=Softmax(), num_units=10),\n",
       "          max_epochs=10,\n",
       "          objective=Objective(loss_function=<function cross_entropy at 0x7fc262147d90>),\n",
       "          session=None, update=SGD(learning_rate=0.5), verbose=1)"
      ]
     },
     "execution_count": 9,
     "metadata": {},
     "output_type": "execute_result"
    }
   ],
   "source": [
    "net.fit(X, y, num_epochs=0)"
   ]
  },
  {
   "cell_type": "code",
   "execution_count": 10,
   "metadata": {
    "collapsed": false
   },
   "outputs": [],
   "source": [
    "y_proba = net.predict_proba(X)"
   ]
  },
  {
   "cell_type": "code",
   "execution_count": 11,
   "metadata": {
    "collapsed": false
   },
   "outputs": [
    {
     "data": {
      "text/plain": [
       "0.090214285714285719"
      ]
     },
     "execution_count": 11,
     "metadata": {},
     "output_type": "execute_result"
    }
   ],
   "source": [
    "(np.argmax(y_proba, 1) == y).mean()"
   ]
  },
  {
   "cell_type": "code",
   "execution_count": 12,
   "metadata": {
    "collapsed": false,
    "scrolled": true
   },
   "outputs": [
    {
     "name": "stdout",
     "output_type": "stream",
     "text": [
      "1 0.0360823\n",
      "2 0.0139737\n",
      "3 0.0101837\n",
      "4 0.00864578\n",
      "5 0.00749796\n",
      "6 0.00628371\n",
      "7 0.00557443\n",
      "8 0.00516118\n",
      "9 0.0050706\n",
      "10 0.00463762\n",
      "11 0.00415346\n",
      "12 0.00394714\n",
      "13 0.00335372\n",
      "14 0.00314245\n",
      "15 0.00265193\n",
      "16 0.00241661\n",
      "17 0.00201387\n",
      "18 0.00183335\n",
      "19 0.00162036\n",
      "20 0.00137823\n"
     ]
    },
    {
     "data": {
      "text/plain": [
       "NeuralNetClassifier(batch_iterator=<mink.nolearn.BatchIterator object at 0x7fc262154d68>,\n",
       "          binarizer=LabelBinarizer(neg_label=0, pos_label=1, sparse_output=False),\n",
       "          layer=DenseLayer(W=GlorotUniform(c01b=False, gain=1.0), b=Constant(val=0.0),\n",
       "      incoming=DenseLayer(W=GlorotUniform(c01b=False, gain=1.0), b=Constant(val=0.0),\n",
       "      incoming=InputLayer(Xs=None, name=None, ys=None), name=None,\n",
       "      nonlinearity=None, num_units=200),\n",
       "      name=None, nonlinearity=Softmax(), num_units=10),\n",
       "          max_epochs=10,\n",
       "          objective=Objective(loss_function=<function cross_entropy at 0x7fc262147d90>),\n",
       "          session=None, update=SGD(learning_rate=0.5), verbose=1)"
      ]
     },
     "execution_count": 12,
     "metadata": {},
     "output_type": "execute_result"
    }
   ],
   "source": [
    "net.fit(X, y, num_epochs=20)"
   ]
  },
  {
   "cell_type": "code",
   "execution_count": 13,
   "metadata": {
    "collapsed": false
   },
   "outputs": [],
   "source": [
    "y_proba = net.predict_proba(X)"
   ]
  },
  {
   "cell_type": "code",
   "execution_count": 14,
   "metadata": {
    "collapsed": false
   },
   "outputs": [
    {
     "data": {
      "text/plain": [
       "0.99733333333333329"
      ]
     },
     "execution_count": 14,
     "metadata": {},
     "output_type": "execute_result"
    }
   ],
   "source": [
    "(np.argmax(y_proba, 1) == y).mean()"
   ]
  },
  {
   "cell_type": "markdown",
   "metadata": {},
   "source": [
    "## grid search"
   ]
  },
  {
   "cell_type": "code",
   "execution_count": 20,
   "metadata": {
    "collapsed": false
   },
   "outputs": [],
   "source": [
    "l0 = InputLayer()\n",
    "l1 = DenseLayer(l0, name='hidden')\n",
    "l2 = DenseLayer(l1)"
   ]
  },
  {
   "cell_type": "code",
   "execution_count": 21,
   "metadata": {
    "collapsed": true
   },
   "outputs": [],
   "source": [
    "net = NeuralNetClassifier(l2, update=SGD())"
   ]
  },
  {
   "cell_type": "code",
   "execution_count": 22,
   "metadata": {
    "collapsed": true
   },
   "outputs": [],
   "source": [
    "params = {\n",
    "    'update__learning_rate': [0.1, 0.5],\n",
    "    'max_epochs': [5, 10],\n",
    "    'hidden__num_units': [50, 100],\n",
    "}"
   ]
  },
  {
   "cell_type": "code",
   "execution_count": 23,
   "metadata": {
    "collapsed": false
   },
   "outputs": [],
   "source": [
    "cv = GridSearchCV(net, params, scoring='accuracy', refit=False, verbose=3, cv=2)"
   ]
  },
  {
   "cell_type": "code",
   "execution_count": 24,
   "metadata": {
    "collapsed": false,
    "scrolled": true
   },
   "outputs": [
    {
     "name": "stdout",
     "output_type": "stream",
     "text": [
      "Fitting 2 folds for each of 8 candidates, totalling 16 fits\n",
      "[CV] max_epochs=5, hidden__num_units=50, update__learning_rate=0.1 ...\n",
      "[CV]  max_epochs=5, hidden__num_units=50, update__learning_rate=0.1, score=0.907524 -   0.9s\n",
      "[CV] max_epochs=5, hidden__num_units=50, update__learning_rate=0.1 ...\n",
      "[CV]  max_epochs=5, hidden__num_units=50, update__learning_rate=0.1, score=0.908476 -   0.9s\n",
      "[CV] max_epochs=5, hidden__num_units=50, update__learning_rate=0.5 ...\n",
      "[CV]  max_epochs=5, hidden__num_units=50, update__learning_rate=0.5, score=0.944524 -   1.0s\n",
      "[CV] max_epochs=5, hidden__num_units=50, update__learning_rate=0.5 ...\n",
      "[CV]  max_epochs=5, hidden__num_units=50, update__learning_rate=0.5, score=0.945571 -   1.0s\n",
      "[CV] max_epochs=10, hidden__num_units=50, update__learning_rate=0.1 ..\n",
      "[CV]  max_epochs=10, hidden__num_units=50, update__learning_rate=0.1, score=0.926429 -   1.6s\n",
      "[CV] max_epochs=10, hidden__num_units=50, update__learning_rate=0.1 ..\n",
      "[CV]  max_epochs=10, hidden__num_units=50, update__learning_rate=0.1, score=0.925048 -   1.5s\n",
      "[CV] max_epochs=10, hidden__num_units=50, update__learning_rate=0.5 ..\n",
      "[CV]  max_epochs=10, hidden__num_units=50, update__learning_rate=0.5, score=0.954095 -   1.6s\n",
      "[CV] max_epochs=10, hidden__num_units=50, update__learning_rate=0.5 ..\n",
      "[CV]  max_epochs=10, hidden__num_units=50, update__learning_rate=0.5, score=0.956810 -   1.7s\n",
      "[CV] max_epochs=5, hidden__num_units=100, update__learning_rate=0.1 ..\n",
      "[CV]  max_epochs=5, hidden__num_units=100, update__learning_rate=0.1, score=0.910952 -   1.1s\n",
      "[CV] max_epochs=5, hidden__num_units=100, update__learning_rate=0.1 ..\n",
      "[CV]  max_epochs=5, hidden__num_units=100, update__learning_rate=0.1, score=0.915048 -   1.2s\n",
      "[CV] max_epochs=5, hidden__num_units=100, update__learning_rate=0.5 ..\n",
      "[CV]  max_epochs=5, hidden__num_units=100, update__learning_rate=0.5, score=0.948952 -   1.3s\n",
      "[CV] max_epochs=5, hidden__num_units=100, update__learning_rate=0.5 ..\n",
      "[CV]  max_epochs=5, hidden__num_units=100, update__learning_rate=0.5, score=0.951667 -   1.3s\n",
      "[CV] max_epochs=10, hidden__num_units=100, update__learning_rate=0.1 .\n",
      "[CV]  max_epochs=10, hidden__num_units=100, update__learning_rate=0.1, score=0.926810 -   1.8s\n",
      "[CV] max_epochs=10, hidden__num_units=100, update__learning_rate=0.1 .\n",
      "[CV]  max_epochs=10, hidden__num_units=100, update__learning_rate=0.1, score=0.925952 -   1.7s\n",
      "[CV] max_epochs=10, hidden__num_units=100, update__learning_rate=0.5 .\n",
      "[CV]  max_epochs=10, hidden__num_units=100, update__learning_rate=0.5, score=0.961333 -   1.8s\n",
      "[CV] max_epochs=10, hidden__num_units=100, update__learning_rate=0.5 .\n",
      "[CV]  max_epochs=10, hidden__num_units=100, update__learning_rate=0.5, score=0.962095 -   1.9s\n"
     ]
    },
    {
     "name": "stderr",
     "output_type": "stream",
     "text": [
      "[Parallel(n_jobs=1)]: Done  16 out of  16 | elapsed:   22.2s finished\n"
     ]
    },
    {
     "data": {
      "text/plain": [
       "GridSearchCV(cv=2, error_score='raise',\n",
       "       estimator=NeuralNetClassifier(batch_iterator=<mink.nolearn.BatchIterator object at 0x7fc262154d68>,\n",
       "          binarizer=LabelBinarizer(neg_label=0, pos_label=1, sparse_output=False),\n",
       "          layer=DenseLayer(W=GlorotUniform(c01b=False, gain=1.0), b=Constant(val=0.0),\n",
       "      incoming=DenseLayer(W=Gl...ross_entropy at 0x7fc262147d90>),\n",
       "          session=None, update=SGD(learning_rate=0.01), verbose=0),\n",
       "       fit_params={}, iid=True, n_jobs=1,\n",
       "       param_grid={'max_epochs': [5, 10], 'hidden__num_units': [50, 100], 'update__learning_rate': [0.1, 0.5]},\n",
       "       pre_dispatch='2*n_jobs', refit=False, scoring='accuracy', verbose=3)"
      ]
     },
     "execution_count": 24,
     "metadata": {},
     "output_type": "execute_result"
    }
   ],
   "source": [
    "cv.fit(X, y)"
   ]
  },
  {
   "cell_type": "code",
   "execution_count": 25,
   "metadata": {
    "collapsed": false
   },
   "outputs": [
    {
     "data": {
      "text/plain": [
       "({'hidden__num_units': 100, 'max_epochs': 10, 'update__learning_rate': 0.5},\n",
       " 0.96171428571428574)"
      ]
     },
     "execution_count": 25,
     "metadata": {},
     "output_type": "execute_result"
    }
   ],
   "source": [
    "cv.best_params_, cv.best_score_"
   ]
  },
  {
   "cell_type": "code",
   "execution_count": null,
   "metadata": {
    "collapsed": true
   },
   "outputs": [],
   "source": []
  }
 ],
 "metadata": {
  "kernelspec": {
   "display_name": "Python 3",
   "language": "python",
   "name": "python3"
  },
  "language_info": {
   "codemirror_mode": {
    "name": "ipython",
    "version": 3
   },
   "file_extension": ".py",
   "mimetype": "text/x-python",
   "name": "python",
   "nbconvert_exporter": "python",
   "pygments_lexer": "ipython3",
   "version": "3.4.4"
  }
 },
 "nbformat": 4,
 "nbformat_minor": 0
}
