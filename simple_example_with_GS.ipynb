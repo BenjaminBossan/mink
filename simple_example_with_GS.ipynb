{
 "cells": [
  {
   "cell_type": "markdown",
   "metadata": {
    "collapsed": true
   },
   "source": [
    "# Mink usage examples"
   ]
  },
  {
   "cell_type": "markdown",
   "metadata": {},
   "source": [
    "This notebook demonstrates some examples of using mink and how it interacts with sklearn."
   ]
  },
  {
   "cell_type": "markdown",
   "metadata": {},
   "source": [
    "## Imports"
   ]
  },
  {
   "cell_type": "code",
   "execution_count": 1,
   "metadata": {
    "collapsed": false
   },
   "outputs": [],
   "source": [
    "import numpy as np\n",
    "from sklearn.grid_search import GridSearchCV\n",
    "from sklearn.datasets import make_classification\n",
    "from sklearn.datasets import make_regression\n",
    "from sklearn.metrics import mean_squared_error\n",
    "import tensorflow as tf\n",
    "import pandas as pd"
   ]
  },
  {
   "cell_type": "code",
   "execution_count": 2,
   "metadata": {
    "collapsed": false
   },
   "outputs": [],
   "source": [
    "from mink import NeuralNetClassifier\n",
    "from mink import NeuralNetRegressor\n",
    "from mink.layers import DenseLayer\n",
    "from mink.layers import InputLayer\n",
    "from mink.updates import SGD"
   ]
  },
  {
   "cell_type": "markdown",
   "metadata": {},
   "source": [
    "## MNIST classification task"
   ]
  },
  {
   "cell_type": "markdown",
   "metadata": {},
   "source": [
    "### Data"
   ]
  },
  {
   "cell_type": "code",
   "execution_count": 3,
   "metadata": {
    "collapsed": false
   },
   "outputs": [],
   "source": [
    "X, y = make_classification(n_samples=5000)"
   ]
  },
  {
   "cell_type": "markdown",
   "metadata": {},
   "source": [
    "### Define neural net"
   ]
  },
  {
   "cell_type": "markdown",
   "metadata": {},
   "source": [
    "Note: No need to specify the shape of the training data, number of classes, or to set softmax nonlinearity. The `NeuralNetClassifier` class takes care of all of that, as is expected from an sklearn estimator."
   ]
  },
  {
   "cell_type": "code",
   "execution_count": 4,
   "metadata": {
    "collapsed": false
   },
   "outputs": [],
   "source": [
    "l0 = InputLayer()\n",
    "l1 = DenseLayer(l0, num_units=200)\n",
    "l2 = DenseLayer(l1)"
   ]
  },
  {
   "cell_type": "code",
   "execution_count": 5,
   "metadata": {
    "collapsed": false
   },
   "outputs": [],
   "source": [
    "net = NeuralNetClassifier(l2, verbose=1)"
   ]
  },
  {
   "cell_type": "markdown",
   "metadata": {},
   "source": [
    "If we want to change certain parameters after initialization, just use the `set_params` method and the double-underscore notation known from sklearn."
   ]
  },
  {
   "cell_type": "code",
   "execution_count": 6,
   "metadata": {
    "collapsed": false
   },
   "outputs": [
    {
     "data": {
      "text/plain": [
       "NeuralNetClassifier(batch_iterator=<mink.nolearn.BatchIterator object at 0x7facf9ab5fd0>,\n",
       "          encoder=LabelBinarizer(neg_label=0, pos_label=1, sparse_output=False),\n",
       "          layer=DenseLayer(W=GlorotUniform(c01b=False, gain=1.0), b=Constant(val=0.0),\n",
       "      incoming=DenseLayer(W=GlorotUniform(c01b=False, gain=1.0), b=Constant(val=0.0),\n",
       "      incoming=InputLayer(Xs=None, name=None, ys=None), name=None,\n",
       "      nonlinearity=None, num_units=200),\n",
       "      name=None, nonlinearity=None, num_units=None),\n",
       "          max_epochs=10, objective=CrossEntropy(eps=1e-12),\n",
       "          session_kwargs=None, update=SGD(learning_rate=0.5), verbose=1)"
      ]
     },
     "execution_count": 6,
     "metadata": {},
     "output_type": "execute_result"
    }
   ],
   "source": [
    "net.set_params(update__learning_rate=0.5)"
   ]
  },
  {
   "cell_type": "markdown",
   "metadata": {},
   "source": [
    "### Train"
   ]
  },
  {
   "cell_type": "code",
   "execution_count": 7,
   "metadata": {
    "collapsed": false
   },
   "outputs": [
    {
     "data": {
      "text/plain": [
       "NeuralNetClassifier(batch_iterator=<mink.nolearn.BatchIterator object at 0x7facf9ab5fd0>,\n",
       "          encoder=LabelBinarizer(neg_label=0, pos_label=1, sparse_output=False),\n",
       "          layer=DenseLayer(W=GlorotUniform(c01b=False, gain=1.0), b=Constant(val=0.0),\n",
       "      incoming=DenseLayer(W=GlorotUniform(c01b=False, gain=1.0), b=Constant(val=0.0),\n",
       "      incoming=InputLayer(Xs=None, name=None, ys=None), name=None,\n",
       "      nonlinearity=None, num_units=200),\n",
       "      name=None, nonlinearity=Softmax(), num_units=2),\n",
       "          max_epochs=10, objective=CrossEntropy(eps=1e-12),\n",
       "          session_kwargs=None, update=SGD(learning_rate=0.5), verbose=1)"
      ]
     },
     "execution_count": 7,
     "metadata": {},
     "output_type": "execute_result"
    }
   ],
   "source": [
    "net.fit(X, y, num_epochs=0)"
   ]
  },
  {
   "cell_type": "code",
   "execution_count": 8,
   "metadata": {
    "collapsed": false
   },
   "outputs": [],
   "source": [
    "y_proba = net.predict_proba(X)"
   ]
  },
  {
   "cell_type": "code",
   "execution_count": 9,
   "metadata": {
    "collapsed": false
   },
   "outputs": [
    {
     "data": {
      "text/plain": [
       "0.54379999999999995"
      ]
     },
     "execution_count": 9,
     "metadata": {},
     "output_type": "execute_result"
    }
   ],
   "source": [
    "(np.argmax(y_proba, 1) == y).mean()"
   ]
  },
  {
   "cell_type": "code",
   "execution_count": 10,
   "metadata": {
    "collapsed": false
   },
   "outputs": [
    {
     "name": "stdout",
     "output_type": "stream",
     "text": [
      "Automatic pdb calling has been turned ON\n"
     ]
    }
   ],
   "source": [
    "pdb on"
   ]
  },
  {
   "cell_type": "code",
   "execution_count": 11,
   "metadata": {
    "collapsed": false,
    "scrolled": true
   },
   "outputs": [
    {
     "name": "stdout",
     "output_type": "stream",
     "text": [
      "epochs:    1 | loss: 0.34726\n",
      "epochs:    2 | loss: 0.33814\n",
      "epochs:    3 | loss: 0.33034\n",
      "epochs:    4 | loss: 0.32314\n",
      "epochs:    5 | loss: 0.31696\n",
      "epochs:    6 | loss: 0.31145\n",
      "epochs:    7 | loss: 0.30663\n",
      "epochs:    8 | loss: 0.30156\n",
      "epochs:    9 | loss: 0.29680\n",
      "epochs:   10 | loss: 0.29266\n",
      "epochs:   11 | loss: 0.28831\n",
      "epochs:   12 | loss: 0.28442\n",
      "epochs:   13 | loss: 0.28018\n",
      "epochs:   14 | loss: 0.27589\n",
      "epochs:   15 | loss: 0.27102\n",
      "epochs:   16 | loss: 0.26418\n",
      "epochs:   17 | loss: 0.25604\n",
      "epochs:   18 | loss: 0.24715\n",
      "epochs:   19 | loss: 0.23719\n",
      "epochs:   20 | loss: 0.22657\n"
     ]
    },
    {
     "data": {
      "text/plain": [
       "NeuralNetClassifier(batch_iterator=<mink.nolearn.BatchIterator object at 0x7facf9ab5fd0>,\n",
       "          encoder=LabelBinarizer(neg_label=0, pos_label=1, sparse_output=False),\n",
       "          layer=DenseLayer(W=GlorotUniform(c01b=False, gain=1.0), b=Constant(val=0.0),\n",
       "      incoming=DenseLayer(W=GlorotUniform(c01b=False, gain=1.0), b=Constant(val=0.0),\n",
       "      incoming=InputLayer(Xs=None, name=None, ys=None), name=None,\n",
       "      nonlinearity=None, num_units=200),\n",
       "      name=None, nonlinearity=Softmax(), num_units=2),\n",
       "          max_epochs=10, objective=CrossEntropy(eps=1e-12),\n",
       "          session_kwargs=None, update=SGD(learning_rate=0.5), verbose=1)"
      ]
     },
     "execution_count": 11,
     "metadata": {},
     "output_type": "execute_result"
    }
   ],
   "source": [
    "net.fit(X, y, num_epochs=20)"
   ]
  },
  {
   "cell_type": "code",
   "execution_count": 12,
   "metadata": {
    "collapsed": false
   },
   "outputs": [
    {
     "data": {
      "text/plain": [
       "array([[ 0.37983435,  0.62016571],\n",
       "       [ 0.68942523,  0.31057471],\n",
       "       [ 0.63028896,  0.36971098],\n",
       "       ..., \n",
       "       [ 0.4139069 ,  0.58609313],\n",
       "       [ 0.54321432,  0.45678568],\n",
       "       [ 0.59157926,  0.40842071]], dtype=float32)"
      ]
     },
     "execution_count": 12,
     "metadata": {},
     "output_type": "execute_result"
    }
   ],
   "source": [
    "y_proba"
   ]
  },
  {
   "cell_type": "code",
   "execution_count": 13,
   "metadata": {
    "collapsed": false
   },
   "outputs": [
    {
     "data": {
      "text/plain": [
       "array([1, 0, 0, 0, 1, 0, 0, 1, 0, 0])"
      ]
     },
     "execution_count": 13,
     "metadata": {},
     "output_type": "execute_result"
    }
   ],
   "source": [
    "np.argmax(y_proba, 1)[:10]"
   ]
  },
  {
   "cell_type": "code",
   "execution_count": 14,
   "metadata": {
    "collapsed": false
   },
   "outputs": [],
   "source": [
    "y_proba = net.predict_proba(X)"
   ]
  },
  {
   "cell_type": "code",
   "execution_count": 15,
   "metadata": {
    "collapsed": false
   },
   "outputs": [
    {
     "data": {
      "text/plain": [
       "0.92659999999999998"
      ]
     },
     "execution_count": 15,
     "metadata": {},
     "output_type": "execute_result"
    }
   ],
   "source": [
    "(np.argmax(y_proba, 1) == y.flatten()).mean()"
   ]
  },
  {
   "cell_type": "markdown",
   "metadata": {},
   "source": [
    "### Grid search"
   ]
  },
  {
   "cell_type": "markdown",
   "metadata": {},
   "source": [
    "The neural net estimators can be used in conjunction with other sklearn features, such as `GridSearchCV`."
   ]
  },
  {
   "cell_type": "code",
   "execution_count": 16,
   "metadata": {
    "collapsed": false
   },
   "outputs": [],
   "source": [
    "l0 = InputLayer()\n",
    "l1 = DenseLayer(l0, name='hidden')\n",
    "l2 = DenseLayer(l1)"
   ]
  },
  {
   "cell_type": "code",
   "execution_count": 17,
   "metadata": {
    "collapsed": false
   },
   "outputs": [],
   "source": [
    "net = NeuralNetClassifier(l2, update=SGD())"
   ]
  },
  {
   "cell_type": "markdown",
   "metadata": {},
   "source": [
    "Parameters are set using the known double-underscore notation, e.g.\n",
    "\n",
    "`'update__learning_rate': [0.1, 0.5]`.\n",
    "\n",
    "Note: Instead of having to write\n",
    "\n",
    "`'layer__incoming__num_units': [50, 100]`\n",
    "\n",
    "we can just write\n",
    "\n",
    "`'hidden__num_units': [50, 100]`\n",
    "\n",
    "because we have given the hidden layer a name, \"hidden\". This may safe a lot of writing and confusion."
   ]
  },
  {
   "cell_type": "code",
   "execution_count": 18,
   "metadata": {
    "collapsed": true
   },
   "outputs": [],
   "source": [
    "params = {\n",
    "    'update__learning_rate': [0.1, 0.5],\n",
    "    'max_epochs': [5, 10],\n",
    "    'hidden__num_units': [50, 100],\n",
    "}"
   ]
  },
  {
   "cell_type": "code",
   "execution_count": 19,
   "metadata": {
    "collapsed": false
   },
   "outputs": [],
   "source": [
    "cv = GridSearchCV(net, params, scoring='accuracy', refit=False, verbose=3)"
   ]
  },
  {
   "cell_type": "code",
   "execution_count": 20,
   "metadata": {
    "collapsed": false,
    "scrolled": true
   },
   "outputs": [
    {
     "name": "stdout",
     "output_type": "stream",
     "text": [
      "Fitting 3 folds for each of 8 candidates, totalling 24 fits\n",
      "[CV] max_epochs=5, hidden__num_units=50, update__learning_rate=0.1 ...\n",
      "[CV]  max_epochs=5, hidden__num_units=50, update__learning_rate=0.1, score=0.886623 -   0.3s\n",
      "[CV] max_epochs=5, hidden__num_units=50, update__learning_rate=0.1 ...\n",
      "[CV]  max_epochs=5, hidden__num_units=50, update__learning_rate=0.1, score=0.886623 -   0.3s\n",
      "[CV] max_epochs=5, hidden__num_units=50, update__learning_rate=0.1 ...\n",
      "[CV]  max_epochs=5, hidden__num_units=50, update__learning_rate=0.1, score=0.881152 -   0.4s\n",
      "[CV] max_epochs=5, hidden__num_units=50, update__learning_rate=0.5 ...\n",
      "[CV]  max_epochs=5, hidden__num_units=50, update__learning_rate=0.5, score=0.893221 -   0.3s\n",
      "[CV] max_epochs=5, hidden__num_units=50, update__learning_rate=0.5 ...\n",
      "[CV]  max_epochs=5, hidden__num_units=50, update__learning_rate=0.5, score=0.883023 -   0.4s\n",
      "[CV] max_epochs=5, hidden__num_units=50, update__learning_rate=0.5 ...\n",
      "[CV]  max_epochs=5, hidden__num_units=50, update__learning_rate=0.5, score=0.891357 -   0.4s\n",
      "[CV] max_epochs=10, hidden__num_units=50, update__learning_rate=0.1 ..\n",
      "[CV]  max_epochs=10, hidden__num_units=50, update__learning_rate=0.1, score=0.883623 -   0.6s\n",
      "[CV] max_epochs=10, hidden__num_units=50, update__learning_rate=0.1 ..\n",
      "[CV]  max_epochs=10, hidden__num_units=50, update__learning_rate=0.1, score=0.889622 -   0.6s\n",
      "[CV] max_epochs=10, hidden__num_units=50, update__learning_rate=0.1 ..\n",
      "[CV]  max_epochs=10, hidden__num_units=50, update__learning_rate=0.1, score=0.888355 -   0.6s\n",
      "[CV] max_epochs=10, hidden__num_units=50, update__learning_rate=0.5 ..\n",
      "[CV]  max_epochs=10, hidden__num_units=50, update__learning_rate=0.5, score=0.897421 -   0.7s\n",
      "[CV] max_epochs=10, hidden__num_units=50, update__learning_rate=0.5 ..\n",
      "[CV]  max_epochs=10, hidden__num_units=50, update__learning_rate=0.5, score=0.881824 -   0.7s\n",
      "[CV] max_epochs=10, hidden__num_units=50, update__learning_rate=0.5 ..\n",
      "[CV]  max_epochs=10, hidden__num_units=50, update__learning_rate=0.5, score=0.891957 -   0.7s\n",
      "[CV] max_epochs=5, hidden__num_units=100, update__learning_rate=0.1 ..\n",
      "[CV]  max_epochs=5, hidden__num_units=100, update__learning_rate=0.1, score=0.892621 -   0.7s\n",
      "[CV] max_epochs=5, hidden__num_units=100, update__learning_rate=0.1 ..\n",
      "[CV]  max_epochs=5, hidden__num_units=100, update__learning_rate=0.1, score=0.880624 -   0.6s\n",
      "[CV] max_epochs=5, hidden__num_units=100, update__learning_rate=0.1 ..\n",
      "[CV]  max_epochs=5, hidden__num_units=100, update__learning_rate=0.1, score=0.890156 -   0.7s\n",
      "[CV] max_epochs=5, hidden__num_units=100, update__learning_rate=0.5 ..\n",
      "[CV]  max_epochs=5, hidden__num_units=100, update__learning_rate=0.5, score=0.893821 -   0.8s\n",
      "[CV] max_epochs=5, hidden__num_units=100, update__learning_rate=0.5 ..\n",
      "[CV]  max_epochs=5, hidden__num_units=100, update__learning_rate=0.5, score=0.888422 -   0.8s\n",
      "[CV] max_epochs=5, hidden__num_units=100, update__learning_rate=0.5 ..\n",
      "[CV]  max_epochs=5, hidden__num_units=100, update__learning_rate=0.5, score=0.890156 -   0.9s\n",
      "[CV] max_epochs=10, hidden__num_units=100, update__learning_rate=0.1 .\n",
      "[CV]  max_epochs=10, hidden__num_units=100, update__learning_rate=0.1, score=0.904619 -   1.0s\n",
      "[CV] max_epochs=10, hidden__num_units=100, update__learning_rate=0.1 .\n",
      "[CV]  max_epochs=10, hidden__num_units=100, update__learning_rate=0.1, score=0.889022 -   1.0s\n",
      "[CV] max_epochs=10, hidden__num_units=100, update__learning_rate=0.1 .\n",
      "[CV]  max_epochs=10, hidden__num_units=100, update__learning_rate=0.1, score=0.887755 -   1.0s\n",
      "[CV] max_epochs=10, hidden__num_units=100, update__learning_rate=0.5 .\n",
      "[CV]  max_epochs=10, hidden__num_units=100, update__learning_rate=0.5, score=0.892621 -   1.0s\n",
      "[CV] max_epochs=10, hidden__num_units=100, update__learning_rate=0.5 .\n",
      "[CV]  max_epochs=10, hidden__num_units=100, update__learning_rate=0.5, score=0.884223 -   1.1s\n",
      "[CV] max_epochs=10, hidden__num_units=100, update__learning_rate=0.5 .\n",
      "[CV]  max_epochs=10, hidden__num_units=100, update__learning_rate=0.5, score=0.892557 -   1.1s\n"
     ]
    },
    {
     "name": "stderr",
     "output_type": "stream",
     "text": [
      "[Parallel(n_jobs=1)]: Done  24 out of  24 | elapsed:   16.9s finished\n"
     ]
    },
    {
     "data": {
      "text/plain": [
       "GridSearchCV(cv=None, error_score='raise',\n",
       "       estimator=NeuralNetClassifier(batch_iterator=<mink.nolearn.BatchIterator object at 0x7facf9ab5fd0>,\n",
       "          encoder=LabelBinarizer(neg_label=0, pos_label=1, sparse_output=False),\n",
       "          layer=DenseLayer(W=GlorotUniform(c01b=False, gain=1.0), b=Constant(val=0.0),\n",
       "      incoming=DenseLayer(W=Glor...e=CrossEntropy(eps=1e-12),\n",
       "          session_kwargs=None, update=SGD(learning_rate=0.01), verbose=0),\n",
       "       fit_params={}, iid=True, n_jobs=1,\n",
       "       param_grid={'max_epochs': [5, 10], 'hidden__num_units': [50, 100], 'update__learning_rate': [0.1, 0.5]},\n",
       "       pre_dispatch='2*n_jobs', refit=False, scoring='accuracy', verbose=3)"
      ]
     },
     "execution_count": 20,
     "metadata": {},
     "output_type": "execute_result"
    }
   ],
   "source": [
    "cv.fit(X, y)"
   ]
  },
  {
   "cell_type": "code",
   "execution_count": 21,
   "metadata": {
    "collapsed": false
   },
   "outputs": [
    {
     "data": {
      "text/plain": [
       "({'hidden__num_units': 100, 'max_epochs': 10, 'update__learning_rate': 0.1},\n",
       " 0.89380000000000004)"
      ]
     },
     "execution_count": 21,
     "metadata": {},
     "output_type": "execute_result"
    }
   ],
   "source": [
    "cv.best_params_, cv.best_score_"
   ]
  },
  {
   "cell_type": "markdown",
   "metadata": {
    "collapsed": true
   },
   "source": [
    "## Regression task"
   ]
  },
  {
   "cell_type": "markdown",
   "metadata": {},
   "source": [
    "As is known from sklearn, we have separate estimators for classification and regression."
   ]
  },
  {
   "cell_type": "markdown",
   "metadata": {},
   "source": [
    "### Data"
   ]
  },
  {
   "cell_type": "code",
   "execution_count": 22,
   "metadata": {
    "collapsed": true
   },
   "outputs": [],
   "source": [
    "X, y = make_regression(n_samples=5000)"
   ]
  },
  {
   "cell_type": "markdown",
   "metadata": {},
   "source": [
    "Note that apart from using `NeuralNetRegressor` instead of `NeuralNetClassifier`, everything is the same. No need to adjust output nonlinearity or objective."
   ]
  },
  {
   "cell_type": "markdown",
   "metadata": {},
   "source": [
    "### Define neural network"
   ]
  },
  {
   "cell_type": "code",
   "execution_count": 23,
   "metadata": {
    "collapsed": false
   },
   "outputs": [],
   "source": [
    "l0 = InputLayer()\n",
    "l1 = DenseLayer(l0, num_units=200)\n",
    "l2 = DenseLayer(l1)"
   ]
  },
  {
   "cell_type": "code",
   "execution_count": 24,
   "metadata": {
    "collapsed": false
   },
   "outputs": [],
   "source": [
    "net = NeuralNetRegressor(l2, verbose=1)"
   ]
  },
  {
   "cell_type": "code",
   "execution_count": 25,
   "metadata": {
    "collapsed": false
   },
   "outputs": [
    {
     "data": {
      "text/plain": [
       "NeuralNetRegressor(batch_iterator=<mink.nolearn.BatchIterator object at 0x7facf9aba400>,\n",
       "          encoder=None,\n",
       "          layer=DenseLayer(W=GlorotUniform(c01b=False, gain=1.0), b=Constant(val=0.0),\n",
       "      incoming=DenseLayer(W=GlorotUniform(c01b=False, gain=1.0), b=Constant(val=0.0),\n",
       "      incoming=InputLayer(Xs=None, name=None, ys=None), name=None,\n",
       "      nonlinearity=None, num_units=200),\n",
       "      name=None, nonlinearity=None, num_units=None),\n",
       "          max_epochs=10, objective=MeanSquaredError(), session_kwargs=None,\n",
       "          update=SGD(learning_rate=0.001), verbose=1)"
      ]
     },
     "execution_count": 25,
     "metadata": {},
     "output_type": "execute_result"
    }
   ],
   "source": [
    "net.set_params(update__learning_rate=0.001)"
   ]
  },
  {
   "cell_type": "markdown",
   "metadata": {},
   "source": [
    "### Train"
   ]
  },
  {
   "cell_type": "code",
   "execution_count": 26,
   "metadata": {
    "collapsed": false
   },
   "outputs": [
    {
     "name": "stdout",
     "output_type": "stream",
     "text": [
      "epochs:    1 | loss: 5004.92871\n",
      "epochs:    2 | loss: 224.35101\n",
      "epochs:    3 | loss: 165.94629\n",
      "epochs:    4 | loss: 129.34683\n",
      "epochs:    5 | loss: 101.52975\n",
      "epochs:    6 | loss: 79.79655\n",
      "epochs:    7 | loss: 62.96289\n",
      "epochs:    8 | loss: 49.60880\n",
      "epochs:    9 | loss: 39.12626\n",
      "epochs:   10 | loss: 30.97226\n",
      "epochs:   11 | loss: 24.63676\n",
      "epochs:   12 | loss: 19.71872\n",
      "epochs:   13 | loss: 15.88611\n",
      "epochs:   14 | loss: 12.88352\n",
      "epochs:   15 | loss: 10.56583\n",
      "epochs:   16 | loss: 8.74349\n",
      "epochs:   17 | loss: 7.31655\n",
      "epochs:   18 | loss: 6.17346\n",
      "epochs:   19 | loss: 5.25926\n",
      "epochs:   20 | loss: 4.52662\n"
     ]
    },
    {
     "data": {
      "text/plain": [
       "NeuralNetRegressor(batch_iterator=<mink.nolearn.BatchIterator object at 0x7facf9aba400>,\n",
       "          encoder=None,\n",
       "          layer=DenseLayer(W=GlorotUniform(c01b=False, gain=1.0), b=Constant(val=0.0),\n",
       "      incoming=DenseLayer(W=GlorotUniform(c01b=False, gain=1.0), b=Constant(val=0.0),\n",
       "      incoming=InputLayer(Xs=None, name=None, ys=None), name=None,\n",
       "      nonlinearity=None, num_units=200),\n",
       "      name=None, nonlinearity=Linear(), num_units=1),\n",
       "          max_epochs=10, objective=MeanSquaredError(), session_kwargs=None,\n",
       "          update=SGD(learning_rate=0.001), verbose=1)"
      ]
     },
     "execution_count": 26,
     "metadata": {},
     "output_type": "execute_result"
    }
   ],
   "source": [
    "net.fit(X, y, num_epochs=20)"
   ]
  },
  {
   "cell_type": "markdown",
   "metadata": {
    "collapsed": true
   },
   "source": [
    "## Saving and restoring"
   ]
  },
  {
   "cell_type": "markdown",
   "metadata": {},
   "source": [
    "### Save previous net"
   ]
  },
  {
   "cell_type": "code",
   "execution_count": 27,
   "metadata": {
    "collapsed": false,
    "scrolled": true
   },
   "outputs": [
    {
     "data": {
      "text/plain": [
       "6.0573683828896554"
      ]
     },
     "execution_count": 27,
     "metadata": {},
     "output_type": "execute_result"
    }
   ],
   "source": [
    "mean_squared_error(y, net.predict(X))"
   ]
  },
  {
   "cell_type": "code",
   "execution_count": 28,
   "metadata": {
    "collapsed": false
   },
   "outputs": [],
   "source": [
    "net.save_params('mynet.pkl')"
   ]
  },
  {
   "cell_type": "markdown",
   "metadata": {},
   "source": [
    "### Create a new net with same architecture"
   ]
  },
  {
   "cell_type": "code",
   "execution_count": 29,
   "metadata": {
    "collapsed": false
   },
   "outputs": [],
   "source": [
    "l0 = InputLayer()\n",
    "l1 = DenseLayer(l0, num_units=200)\n",
    "l2 = DenseLayer(l1)"
   ]
  },
  {
   "cell_type": "code",
   "execution_count": 30,
   "metadata": {
    "collapsed": true
   },
   "outputs": [],
   "source": [
    "new_net = NeuralNetRegressor(l2)"
   ]
  },
  {
   "cell_type": "code",
   "execution_count": 31,
   "metadata": {
    "collapsed": true
   },
   "outputs": [],
   "source": [
    "new_net.initialize(X, y)"
   ]
  },
  {
   "cell_type": "markdown",
   "metadata": {},
   "source": [
    "#### score before loading"
   ]
  },
  {
   "cell_type": "code",
   "execution_count": 32,
   "metadata": {
    "collapsed": false,
    "scrolled": true
   },
   "outputs": [
    {
     "data": {
      "text/plain": [
       "26386.368839208244"
      ]
     },
     "execution_count": 32,
     "metadata": {},
     "output_type": "execute_result"
    }
   ],
   "source": [
    "mean_squared_error(y, new_net.predict(X))"
   ]
  },
  {
   "cell_type": "code",
   "execution_count": 33,
   "metadata": {
    "collapsed": false
   },
   "outputs": [],
   "source": [
    "new_net.load_params('mynet.pkl')"
   ]
  },
  {
   "cell_type": "markdown",
   "metadata": {},
   "source": [
    "#### score after loading, the same as saved net"
   ]
  },
  {
   "cell_type": "code",
   "execution_count": 34,
   "metadata": {
    "collapsed": false,
    "scrolled": true
   },
   "outputs": [
    {
     "data": {
      "text/plain": [
       "6.0573683828896554"
      ]
     },
     "execution_count": 34,
     "metadata": {},
     "output_type": "execute_result"
    }
   ],
   "source": [
    "mean_squared_error(y, new_net.predict(X))"
   ]
  },
  {
   "cell_type": "code",
   "execution_count": null,
   "metadata": {
    "collapsed": true
   },
   "outputs": [],
   "source": []
  }
 ],
 "metadata": {
  "kernelspec": {
   "display_name": "Python 3",
   "language": "python",
   "name": "python3"
  },
  "language_info": {
   "codemirror_mode": {
    "name": "ipython",
    "version": 3
   },
   "file_extension": ".py",
   "mimetype": "text/x-python",
   "name": "python",
   "nbconvert_exporter": "python",
   "pygments_lexer": "ipython3",
   "version": "3.4.4"
  }
 },
 "nbformat": 4,
 "nbformat_minor": 0
}
