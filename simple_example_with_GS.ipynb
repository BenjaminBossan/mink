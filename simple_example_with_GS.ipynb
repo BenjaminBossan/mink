{
 "cells": [
  {
   "cell_type": "markdown",
   "metadata": {
    "collapsed": true
   },
   "source": [
    "# Mink usage examples"
   ]
  },
  {
   "cell_type": "markdown",
   "metadata": {},
   "source": [
    "This notebook demonstrates some examples of using mink and how it interacts with sklearn."
   ]
  },
  {
   "cell_type": "markdown",
   "metadata": {},
   "source": [
    "## Imports"
   ]
  },
  {
   "cell_type": "code",
   "execution_count": 1,
   "metadata": {
    "collapsed": false
   },
   "outputs": [],
   "source": [
    "import numpy as np\n",
    "from sklearn.grid_search import GridSearchCV\n",
    "from sklearn.datasets import make_classification\n",
    "from sklearn.datasets import make_regression\n",
    "import tensorflow as tf\n",
    "import pandas as pd"
   ]
  },
  {
   "cell_type": "code",
   "execution_count": 2,
   "metadata": {
    "collapsed": false
   },
   "outputs": [],
   "source": [
    "from mink import NeuralNetClassifier\n",
    "from mink import NeuralNetRegressor\n",
    "from mink.layers import DenseLayer\n",
    "from mink.layers import InputLayer\n",
    "from mink.updates import SGD"
   ]
  },
  {
   "cell_type": "markdown",
   "metadata": {},
   "source": [
    "## MNIST classification task"
   ]
  },
  {
   "cell_type": "markdown",
   "metadata": {},
   "source": [
    "### Data"
   ]
  },
  {
   "cell_type": "code",
   "execution_count": 3,
   "metadata": {
    "collapsed": false
   },
   "outputs": [],
   "source": [
    "X, y = make_classification(n_samples=5000)"
   ]
  },
  {
   "cell_type": "code",
   "execution_count": 4,
   "metadata": {
    "collapsed": true
   },
   "outputs": [],
   "source": [
    "y = y.reshape(-1, 1)  # should always be 2D"
   ]
  },
  {
   "cell_type": "markdown",
   "metadata": {},
   "source": [
    "### Define neural net"
   ]
  },
  {
   "cell_type": "markdown",
   "metadata": {},
   "source": [
    "Note: No need to specify the shape of the training data, number of classes, or to set softmax nonlinearity. The `NeuralNetClassifier` class takes care of all of that, as is expected from an sklearn estimator."
   ]
  },
  {
   "cell_type": "code",
   "execution_count": 5,
   "metadata": {
    "collapsed": false
   },
   "outputs": [],
   "source": [
    "l0 = InputLayer()\n",
    "l1 = DenseLayer(l0, num_units=200)\n",
    "l2 = DenseLayer(l1)"
   ]
  },
  {
   "cell_type": "code",
   "execution_count": 6,
   "metadata": {
    "collapsed": false
   },
   "outputs": [],
   "source": [
    "net = NeuralNetClassifier(l2, verbose=1)"
   ]
  },
  {
   "cell_type": "markdown",
   "metadata": {},
   "source": [
    "If we want to change certain parameters after initialization, just use the `set_params` method and the double-underscore notation known from sklearn."
   ]
  },
  {
   "cell_type": "code",
   "execution_count": 7,
   "metadata": {
    "collapsed": false
   },
   "outputs": [
    {
     "data": {
      "text/plain": [
       "NeuralNetClassifier(batch_iterator=<mink.nolearn.BatchIterator object at 0x7f6c74915940>,\n",
       "          encoder=LabelBinarizer(neg_label=0, pos_label=1, sparse_output=False),\n",
       "          layer=DenseLayer(W=GlorotUniform(c01b=False, gain=1.0), b=Constant(val=0.0),\n",
       "      incoming=DenseLayer(W=GlorotUniform(c01b=False, gain=1.0), b=Constant(val=0.0),\n",
       "      incoming=InputLayer(Xs=None, name=None, ys=None), name=None,\n",
       "      nonlinearity=None, num_units=200),\n",
       "      name=None, nonlinearity=None, num_units=None),\n",
       "          max_epochs=10, objective=CrossEntropy(eps=1e-12), session=None,\n",
       "          update=SGD(learning_rate=0.5), verbose=1)"
      ]
     },
     "execution_count": 7,
     "metadata": {},
     "output_type": "execute_result"
    }
   ],
   "source": [
    "net.set_params(update__learning_rate=0.5)"
   ]
  },
  {
   "cell_type": "markdown",
   "metadata": {},
   "source": [
    "### Train"
   ]
  },
  {
   "cell_type": "code",
   "execution_count": 8,
   "metadata": {
    "collapsed": false
   },
   "outputs": [
    {
     "data": {
      "text/plain": [
       "NeuralNetClassifier(batch_iterator=<mink.nolearn.BatchIterator object at 0x7f6c74915940>,\n",
       "          encoder=LabelBinarizer(neg_label=0, pos_label=1, sparse_output=False),\n",
       "          layer=DenseLayer(W=GlorotUniform(c01b=False, gain=1.0), b=Constant(val=0.0),\n",
       "      incoming=DenseLayer(W=GlorotUniform(c01b=False, gain=1.0), b=Constant(val=0.0),\n",
       "      incoming=InputLayer(Xs=None, name=None, ys=None), name=None,\n",
       "      nonlinearity=None, num_units=200),\n",
       "      name=None, nonlinearity=Softmax(), num_units=2),\n",
       "          max_epochs=10, objective=CrossEntropy(eps=1e-12), session=None,\n",
       "          update=SGD(learning_rate=0.5), verbose=1)"
      ]
     },
     "execution_count": 8,
     "metadata": {},
     "output_type": "execute_result"
    }
   ],
   "source": [
    "net.fit(X, y, num_epochs=0)"
   ]
  },
  {
   "cell_type": "code",
   "execution_count": 9,
   "metadata": {
    "collapsed": false
   },
   "outputs": [],
   "source": [
    "y_proba = net.predict_proba(X)"
   ]
  },
  {
   "cell_type": "code",
   "execution_count": 10,
   "metadata": {
    "collapsed": false
   },
   "outputs": [
    {
     "data": {
      "text/plain": [
       "0.49999399999999999"
      ]
     },
     "execution_count": 10,
     "metadata": {},
     "output_type": "execute_result"
    }
   ],
   "source": [
    "(np.argmax(y_proba, 1) == y).mean()"
   ]
  },
  {
   "cell_type": "code",
   "execution_count": 11,
   "metadata": {
    "collapsed": false
   },
   "outputs": [
    {
     "name": "stdout",
     "output_type": "stream",
     "text": [
      "Automatic pdb calling has been turned ON\n"
     ]
    }
   ],
   "source": [
    "pdb on"
   ]
  },
  {
   "cell_type": "code",
   "execution_count": 12,
   "metadata": {
    "collapsed": false,
    "scrolled": true
   },
   "outputs": [
    {
     "name": "stdout",
     "output_type": "stream",
     "text": [
      "epochs:    1 | loss: 0.29358\n",
      "epochs:    2 | loss: 0.26525\n",
      "epochs:    3 | loss: 0.24609\n",
      "epochs:    4 | loss: 0.23205\n",
      "epochs:    5 | loss: 0.22061\n",
      "epochs:    6 | loss: 0.21174\n",
      "epochs:    7 | loss: 0.20454\n",
      "epochs:    8 | loss: 0.19854\n",
      "epochs:    9 | loss: 0.19316\n",
      "epochs:   10 | loss: 0.18838\n",
      "epochs:   11 | loss: 0.18406\n",
      "epochs:   12 | loss: 0.18045\n",
      "epochs:   13 | loss: 0.17677\n",
      "epochs:   14 | loss: 0.17347\n",
      "epochs:   15 | loss: 0.17074\n",
      "epochs:   16 | loss: 0.16828\n",
      "epochs:   17 | loss: 0.16553\n",
      "epochs:   18 | loss: 0.16287\n",
      "epochs:   19 | loss: 0.16075\n",
      "epochs:   20 | loss: 0.15847\n"
     ]
    },
    {
     "data": {
      "text/plain": [
       "NeuralNetClassifier(batch_iterator=<mink.nolearn.BatchIterator object at 0x7f6c74915940>,\n",
       "          encoder=LabelBinarizer(neg_label=0, pos_label=1, sparse_output=False),\n",
       "          layer=DenseLayer(W=GlorotUniform(c01b=False, gain=1.0), b=Constant(val=0.0),\n",
       "      incoming=DenseLayer(W=GlorotUniform(c01b=False, gain=1.0), b=Constant(val=0.0),\n",
       "      incoming=InputLayer(Xs=None, name=None, ys=None), name=None,\n",
       "      nonlinearity=None, num_units=200),\n",
       "      name=None, nonlinearity=Softmax(), num_units=2),\n",
       "          max_epochs=10, objective=CrossEntropy(eps=1e-12), session=None,\n",
       "          update=SGD(learning_rate=0.5), verbose=1)"
      ]
     },
     "execution_count": 12,
     "metadata": {},
     "output_type": "execute_result"
    }
   ],
   "source": [
    "net.fit(X, y, num_epochs=20)"
   ]
  },
  {
   "cell_type": "code",
   "execution_count": 13,
   "metadata": {
    "collapsed": false
   },
   "outputs": [
    {
     "data": {
      "text/plain": [
       "array([[ 0.58986157,  0.41013846],\n",
       "       [ 0.61597109,  0.38402891],\n",
       "       [ 0.3824439 ,  0.6175561 ],\n",
       "       ..., \n",
       "       [ 0.30513164,  0.69486839],\n",
       "       [ 0.49141669,  0.50858325],\n",
       "       [ 0.35470551,  0.64529449]], dtype=float32)"
      ]
     },
     "execution_count": 13,
     "metadata": {},
     "output_type": "execute_result"
    }
   ],
   "source": [
    "y_proba"
   ]
  },
  {
   "cell_type": "code",
   "execution_count": 14,
   "metadata": {
    "collapsed": false
   },
   "outputs": [
    {
     "data": {
      "text/plain": [
       "array([0, 0, 1, 0, 0, 1, 1, 1, 1, 0])"
      ]
     },
     "execution_count": 14,
     "metadata": {},
     "output_type": "execute_result"
    }
   ],
   "source": [
    "np.argmax(y_proba, 1)[:10]"
   ]
  },
  {
   "cell_type": "code",
   "execution_count": 15,
   "metadata": {
    "collapsed": false
   },
   "outputs": [],
   "source": [
    "y_proba = net.predict_proba(X)"
   ]
  },
  {
   "cell_type": "code",
   "execution_count": 16,
   "metadata": {
    "collapsed": false
   },
   "outputs": [
    {
     "data": {
      "text/plain": [
       "0.90920000000000001"
      ]
     },
     "execution_count": 16,
     "metadata": {},
     "output_type": "execute_result"
    }
   ],
   "source": [
    "(np.argmax(y_proba, 1) == y.flatten()).mean()"
   ]
  },
  {
   "cell_type": "markdown",
   "metadata": {},
   "source": [
    "### Grid search"
   ]
  },
  {
   "cell_type": "markdown",
   "metadata": {},
   "source": [
    "The neural net estimators can be used in conjunction with other sklearn features, such as `GridSearchCV`."
   ]
  },
  {
   "cell_type": "code",
   "execution_count": 17,
   "metadata": {
    "collapsed": false
   },
   "outputs": [],
   "source": [
    "l0 = InputLayer()\n",
    "l1 = DenseLayer(l0, name='hidden')\n",
    "l2 = DenseLayer(l1)"
   ]
  },
  {
   "cell_type": "code",
   "execution_count": 18,
   "metadata": {
    "collapsed": false
   },
   "outputs": [],
   "source": [
    "net = NeuralNetClassifier(l2, update=SGD())"
   ]
  },
  {
   "cell_type": "markdown",
   "metadata": {},
   "source": [
    "Parameters are set using the known double-underscore notation, e.g.\n",
    "\n",
    "`'update__learning_rate': [0.1, 0.5]`.\n",
    "\n",
    "Note: Instead of having to write\n",
    "\n",
    "`'layer__incoming__num_units': [50, 100]`\n",
    "\n",
    "we can just write\n",
    "\n",
    "`'hidden__num_units': [50, 100]`\n",
    "\n",
    "because we have given the hidden layer a name, \"hidden\". This may safe a lot of writing and confusion."
   ]
  },
  {
   "cell_type": "code",
   "execution_count": 19,
   "metadata": {
    "collapsed": true
   },
   "outputs": [],
   "source": [
    "params = {\n",
    "    'update__learning_rate': [0.1, 0.5],\n",
    "    'max_epochs': [5, 10],\n",
    "    'hidden__num_units': [50, 100],\n",
    "}"
   ]
  },
  {
   "cell_type": "code",
   "execution_count": 20,
   "metadata": {
    "collapsed": false
   },
   "outputs": [],
   "source": [
    "cv = GridSearchCV(net, params, scoring='accuracy', refit=False, verbose=3)"
   ]
  },
  {
   "cell_type": "code",
   "execution_count": 21,
   "metadata": {
    "collapsed": false,
    "scrolled": true
   },
   "outputs": [
    {
     "name": "stdout",
     "output_type": "stream",
     "text": [
      "Fitting 3 folds for each of 8 candidates, totalling 24 fits\n",
      "[CV] update__learning_rate=0.1, max_epochs=5, hidden__num_units=50 ...\n",
      "[CV]  update__learning_rate=0.1, max_epochs=5, hidden__num_units=50, score=0.854829 -   0.2s\n",
      "[CV] update__learning_rate=0.1, max_epochs=5, hidden__num_units=50 ...\n",
      "[CV]  update__learning_rate=0.1, max_epochs=5, hidden__num_units=50, score=0.851230 -   0.3s\n",
      "[CV] update__learning_rate=0.1, max_epochs=5, hidden__num_units=50 ...\n",
      "[CV]  update__learning_rate=0.1, max_epochs=5, hidden__num_units=50, score=0.849940 -   0.3s\n",
      "[CV] update__learning_rate=0.5, max_epochs=5, hidden__num_units=50 ...\n",
      "[CV]  update__learning_rate=0.5, max_epochs=5, hidden__num_units=50, score=0.862028 -   0.3s\n",
      "[CV] update__learning_rate=0.5, max_epochs=5, hidden__num_units=50 ...\n",
      "[CV]  update__learning_rate=0.5, max_epochs=5, hidden__num_units=50, score=0.863827 -   0.4s\n",
      "[CV] update__learning_rate=0.5, max_epochs=5, hidden__num_units=50 ...\n",
      "[CV]  update__learning_rate=0.5, max_epochs=5, hidden__num_units=50, score=0.869148 -   0.4s\n",
      "[CV] update__learning_rate=0.1, max_epochs=10, hidden__num_units=50 ..\n",
      "[CV]  update__learning_rate=0.1, max_epochs=10, hidden__num_units=50, score=0.860228 -   0.5s\n",
      "[CV] update__learning_rate=0.1, max_epochs=10, hidden__num_units=50 ..\n",
      "[CV]  update__learning_rate=0.1, max_epochs=10, hidden__num_units=50, score=0.854829 -   0.6s\n",
      "[CV] update__learning_rate=0.1, max_epochs=10, hidden__num_units=50 ..\n",
      "[CV]  update__learning_rate=0.1, max_epochs=10, hidden__num_units=50, score=0.866747 -   0.7s\n",
      "[CV] update__learning_rate=0.5, max_epochs=10, hidden__num_units=50 ..\n",
      "[CV]  update__learning_rate=0.5, max_epochs=10, hidden__num_units=50, score=0.871026 -   0.6s\n",
      "[CV] update__learning_rate=0.5, max_epochs=10, hidden__num_units=50 ..\n",
      "[CV]  update__learning_rate=0.5, max_epochs=10, hidden__num_units=50, score=0.869826 -   0.6s\n",
      "[CV] update__learning_rate=0.5, max_epochs=10, hidden__num_units=50 ..\n",
      "[CV]  update__learning_rate=0.5, max_epochs=10, hidden__num_units=50, score=0.880552 -   0.7s\n",
      "[CV] update__learning_rate=0.1, max_epochs=5, hidden__num_units=100 ..\n",
      "[CV]  update__learning_rate=0.1, max_epochs=5, hidden__num_units=100, score=0.862627 -   0.6s\n",
      "[CV] update__learning_rate=0.1, max_epochs=5, hidden__num_units=100 ..\n",
      "[CV]  update__learning_rate=0.1, max_epochs=5, hidden__num_units=100, score=0.856629 -   0.7s\n",
      "[CV] update__learning_rate=0.1, max_epochs=5, hidden__num_units=100 ..\n",
      "[CV]  update__learning_rate=0.1, max_epochs=5, hidden__num_units=100, score=0.848139 -   0.7s\n",
      "[CV] update__learning_rate=0.5, max_epochs=5, hidden__num_units=100 ..\n",
      "[CV]  update__learning_rate=0.5, max_epochs=5, hidden__num_units=100, score=0.863827 -   0.8s\n",
      "[CV] update__learning_rate=0.5, max_epochs=5, hidden__num_units=100 ..\n",
      "[CV]  update__learning_rate=0.5, max_epochs=5, hidden__num_units=100, score=0.850630 -   0.9s\n",
      "[CV] update__learning_rate=0.5, max_epochs=5, hidden__num_units=100 ..\n",
      "[CV]  update__learning_rate=0.5, max_epochs=5, hidden__num_units=100, score=0.864946 -   0.9s\n",
      "[CV] update__learning_rate=0.1, max_epochs=10, hidden__num_units=100 .\n",
      "[CV]  update__learning_rate=0.1, max_epochs=10, hidden__num_units=100, score=0.864427 -   0.9s\n",
      "[CV] update__learning_rate=0.1, max_epochs=10, hidden__num_units=100 .\n",
      "[CV]  update__learning_rate=0.1, max_epochs=10, hidden__num_units=100, score=0.865627 -   1.0s\n",
      "[CV] update__learning_rate=0.1, max_epochs=10, hidden__num_units=100 .\n",
      "[CV]  update__learning_rate=0.1, max_epochs=10, hidden__num_units=100, score=0.864346 -   1.0s\n",
      "[CV] update__learning_rate=0.5, max_epochs=10, hidden__num_units=100 .\n",
      "[CV]  update__learning_rate=0.5, max_epochs=10, hidden__num_units=100, score=0.871026 -   1.0s\n",
      "[CV] update__learning_rate=0.5, max_epochs=10, hidden__num_units=100 .\n",
      "[CV]  update__learning_rate=0.5, max_epochs=10, hidden__num_units=100, score=0.871026 -   1.1s\n",
      "[CV] update__learning_rate=0.5, max_epochs=10, hidden__num_units=100 .\n",
      "[CV]  update__learning_rate=0.5, max_epochs=10, hidden__num_units=100, score=0.878752 -   1.1s\n"
     ]
    },
    {
     "name": "stderr",
     "output_type": "stream",
     "text": [
      "[Parallel(n_jobs=1)]: Done  24 out of  24 | elapsed:   16.5s finished\n"
     ]
    },
    {
     "data": {
      "text/plain": [
       "GridSearchCV(cv=None, error_score='raise',\n",
       "       estimator=NeuralNetClassifier(batch_iterator=<mink.nolearn.BatchIterator object at 0x7f6c74915940>,\n",
       "          encoder=LabelBinarizer(neg_label=0, pos_label=1, sparse_output=False),\n",
       "          layer=DenseLayer(W=GlorotUniform(c01b=False, gain=1.0), b=Constant(val=0.0),\n",
       "      incoming=DenseLayer(W=Glor...bjective=CrossEntropy(eps=1e-12), session=None,\n",
       "          update=SGD(learning_rate=0.01), verbose=0),\n",
       "       fit_params={}, iid=True, n_jobs=1,\n",
       "       param_grid={'max_epochs': [5, 10], 'update__learning_rate': [0.1, 0.5], 'hidden__num_units': [50, 100]},\n",
       "       pre_dispatch='2*n_jobs', refit=False, scoring='accuracy', verbose=3)"
      ]
     },
     "execution_count": 21,
     "metadata": {},
     "output_type": "execute_result"
    }
   ],
   "source": [
    "cv.fit(X, y)"
   ]
  },
  {
   "cell_type": "code",
   "execution_count": 22,
   "metadata": {
    "collapsed": false
   },
   "outputs": [
    {
     "data": {
      "text/plain": [
       "({'hidden__num_units': 50, 'max_epochs': 10, 'update__learning_rate': 0.5},\n",
       " 0.87380000000000002)"
      ]
     },
     "execution_count": 22,
     "metadata": {},
     "output_type": "execute_result"
    }
   ],
   "source": [
    "cv.best_params_, cv.best_score_"
   ]
  },
  {
   "cell_type": "markdown",
   "metadata": {
    "collapsed": true
   },
   "source": [
    "## Regression task"
   ]
  },
  {
   "cell_type": "markdown",
   "metadata": {},
   "source": [
    "As is known from sklearn, we have separate estimators for classification and regression."
   ]
  },
  {
   "cell_type": "markdown",
   "metadata": {},
   "source": [
    "### Data"
   ]
  },
  {
   "cell_type": "code",
   "execution_count": 23,
   "metadata": {
    "collapsed": true
   },
   "outputs": [],
   "source": [
    "X, y = make_regression(n_samples=5000)"
   ]
  },
  {
   "cell_type": "code",
   "execution_count": 24,
   "metadata": {
    "collapsed": true
   },
   "outputs": [],
   "source": [
    "y = y.reshape(-1, 1)  # should always be 2D"
   ]
  },
  {
   "cell_type": "markdown",
   "metadata": {},
   "source": [
    "Note that apart from using `NeuralNetRegressor` instead of `NeuralNetClassifier`, everything is the same. No need to adjust output nonlinearity or objective."
   ]
  },
  {
   "cell_type": "markdown",
   "metadata": {},
   "source": [
    "### Define neural network"
   ]
  },
  {
   "cell_type": "code",
   "execution_count": 25,
   "metadata": {
    "collapsed": false
   },
   "outputs": [],
   "source": [
    "l0 = InputLayer()\n",
    "l1 = DenseLayer(l0, num_units=200)\n",
    "l2 = DenseLayer(l1)"
   ]
  },
  {
   "cell_type": "code",
   "execution_count": 26,
   "metadata": {
    "collapsed": false
   },
   "outputs": [],
   "source": [
    "net = NeuralNetRegressor(l2, verbose=1)"
   ]
  },
  {
   "cell_type": "code",
   "execution_count": 27,
   "metadata": {
    "collapsed": false
   },
   "outputs": [
    {
     "data": {
      "text/plain": [
       "NeuralNetRegressor(batch_iterator=<mink.nolearn.BatchIterator object at 0x7f6c74915d30>,\n",
       "          encoder=None,\n",
       "          layer=DenseLayer(W=GlorotUniform(c01b=False, gain=1.0), b=Constant(val=0.0),\n",
       "      incoming=DenseLayer(W=GlorotUniform(c01b=False, gain=1.0), b=Constant(val=0.0),\n",
       "      incoming=InputLayer(Xs=None, name=None, ys=None), name=None,\n",
       "      nonlinearity=None, num_units=200),\n",
       "      name=None, nonlinearity=None, num_units=None),\n",
       "          max_epochs=10, objective=MeanSquaredError(), session=None,\n",
       "          update=SGD(learning_rate=0.001), verbose=1)"
      ]
     },
     "execution_count": 27,
     "metadata": {},
     "output_type": "execute_result"
    }
   ],
   "source": [
    "net.set_params(update__learning_rate=0.001)"
   ]
  },
  {
   "cell_type": "markdown",
   "metadata": {},
   "source": [
    "### Train"
   ]
  },
  {
   "cell_type": "code",
   "execution_count": 28,
   "metadata": {
    "collapsed": false
   },
   "outputs": [
    {
     "name": "stdout",
     "output_type": "stream",
     "text": [
      "epochs:    1 | loss: 3543.69019\n",
      "epochs:    2 | loss: 230.67401\n",
      "epochs:    3 | loss: 173.87079\n",
      "epochs:    4 | loss: 131.61575\n",
      "epochs:    5 | loss: 98.18998\n",
      "epochs:    6 | loss: 72.82103\n",
      "epochs:    7 | loss: 53.76473\n",
      "epochs:    8 | loss: 39.89501\n",
      "epochs:    9 | loss: 29.63145\n",
      "epochs:   10 | loss: 22.29911\n",
      "epochs:   11 | loss: 16.98507\n",
      "epochs:   12 | loss: 12.98714\n",
      "epochs:   13 | loss: 10.10332\n",
      "epochs:   14 | loss: 8.02698\n",
      "epochs:   15 | loss: 6.54984\n",
      "epochs:   16 | loss: 5.47682\n",
      "epochs:   17 | loss: 4.66838\n",
      "epochs:   18 | loss: 4.05618\n",
      "epochs:   19 | loss: 3.58627\n",
      "epochs:   20 | loss: 3.20913\n"
     ]
    },
    {
     "data": {
      "text/plain": [
       "NeuralNetRegressor(batch_iterator=<mink.nolearn.BatchIterator object at 0x7f6c74915d30>,\n",
       "          encoder=None,\n",
       "          layer=DenseLayer(W=GlorotUniform(c01b=False, gain=1.0), b=Constant(val=0.0),\n",
       "      incoming=DenseLayer(W=GlorotUniform(c01b=False, gain=1.0), b=Constant(val=0.0),\n",
       "      incoming=InputLayer(Xs=None, name=None, ys=None), name=None,\n",
       "      nonlinearity=None, num_units=200),\n",
       "      name=None, nonlinearity=Linear(), num_units=1),\n",
       "          max_epochs=10, objective=MeanSquaredError(), session=None,\n",
       "          update=SGD(learning_rate=0.001), verbose=1)"
      ]
     },
     "execution_count": 28,
     "metadata": {},
     "output_type": "execute_result"
    }
   ],
   "source": [
    "net.fit(X, y, num_epochs=20)"
   ]
  },
  {
   "cell_type": "code",
   "execution_count": null,
   "metadata": {
    "collapsed": true
   },
   "outputs": [],
   "source": []
  }
 ],
 "metadata": {
  "kernelspec": {
   "display_name": "Python 3",
   "language": "python",
   "name": "python3"
  },
  "language_info": {
   "codemirror_mode": {
    "name": "ipython",
    "version": 3
   },
   "file_extension": ".py",
   "mimetype": "text/x-python",
   "name": "python",
   "nbconvert_exporter": "python",
   "pygments_lexer": "ipython3",
   "version": "3.4.4"
  }
 },
 "nbformat": 4,
 "nbformat_minor": 0
}
