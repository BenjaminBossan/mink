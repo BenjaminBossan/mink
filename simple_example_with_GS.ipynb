{
 "cells": [
  {
   "cell_type": "markdown",
   "metadata": {
    "collapsed": true
   },
   "source": [
    "# Mink usage examples"
   ]
  },
  {
   "cell_type": "markdown",
   "metadata": {},
   "source": [
    "This notebook demonstrates some examples of using mink and how it interacts with sklearn."
   ]
  },
  {
   "cell_type": "markdown",
   "metadata": {},
   "source": [
    "## Imports"
   ]
  },
  {
   "cell_type": "code",
   "execution_count": 1,
   "metadata": {
    "collapsed": true
   },
   "outputs": [],
   "source": [
    "import pickle"
   ]
  },
  {
   "cell_type": "code",
   "execution_count": 2,
   "metadata": {
    "collapsed": false
   },
   "outputs": [],
   "source": [
    "import numpy as np\n",
    "from sklearn.grid_search import GridSearchCV\n",
    "from sklearn.datasets import make_classification\n",
    "from sklearn.datasets import make_regression\n",
    "from sklearn.metrics import mean_squared_error\n",
    "import tensorflow as tf"
   ]
  },
  {
   "cell_type": "code",
   "execution_count": 3,
   "metadata": {
    "collapsed": false
   },
   "outputs": [],
   "source": [
    "from mink import NeuralNetClassifier\n",
    "from mink import NeuralNetRegressor\n",
    "from mink.layers import DenseLayer\n",
    "from mink.layers import InputLayer\n",
    "from mink.updates import SGD"
   ]
  },
  {
   "cell_type": "markdown",
   "metadata": {},
   "source": [
    "## MNIST classification task"
   ]
  },
  {
   "cell_type": "markdown",
   "metadata": {},
   "source": [
    "### Data"
   ]
  },
  {
   "cell_type": "code",
   "execution_count": 4,
   "metadata": {
    "collapsed": false
   },
   "outputs": [],
   "source": [
    "X, y = make_classification(n_samples=5000)"
   ]
  },
  {
   "cell_type": "markdown",
   "metadata": {},
   "source": [
    "### Define neural net"
   ]
  },
  {
   "cell_type": "markdown",
   "metadata": {},
   "source": [
    "Note: No need to specify the shape of the training data, number of classes, or to set softmax nonlinearity. The `NeuralNetClassifier` class takes care of all of that, as is expected from an sklearn estimator."
   ]
  },
  {
   "cell_type": "code",
   "execution_count": 5,
   "metadata": {
    "collapsed": false
   },
   "outputs": [],
   "source": [
    "l0 = InputLayer()\n",
    "l1 = DenseLayer(l0, num_units=200)\n",
    "l2 = DenseLayer(l1)"
   ]
  },
  {
   "cell_type": "code",
   "execution_count": 6,
   "metadata": {
    "collapsed": false
   },
   "outputs": [],
   "source": [
    "net = NeuralNetClassifier(l2, verbose=1)"
   ]
  },
  {
   "cell_type": "markdown",
   "metadata": {},
   "source": [
    "If we want to change certain parameters after initialization, just use the `set_params` method and the double-underscore notation known from sklearn."
   ]
  },
  {
   "cell_type": "code",
   "execution_count": 7,
   "metadata": {
    "collapsed": false
   },
   "outputs": [
    {
     "data": {
      "text/plain": [
       "NeuralNetClassifier(batch_iterator=<mink.nolearn.BatchIterator object at 0x7fa0526824a8>,\n",
       "          encoder=LabelBinarizer(neg_label=0, pos_label=1, sparse_output=False),\n",
       "          layer=DenseLayer(W=GlorotUniform(c01b=False, gain=1.0), b=Constant(val=0.0),\n",
       "      incoming=DenseLayer(W=GlorotUniform(c01b=False, gain=1.0), b=Constant(val=0.0),\n",
       "      incoming=InputLayer(Xs=None, name=None, ys=None), name=None,\n",
       "      nonlinearity=None, num_units=200),\n",
       "      name=None, nonlinearity=None, num_units=None),\n",
       "          max_epochs=10, objective=CrossEntropy(eps=1e-12),\n",
       "          on_training_started=[<mink.handlers.PrintLayerInfo object at 0x7fa05262f780>],\n",
       "          session_kwargs=None, update=SGD(learning_rate=0.5), verbose=1)"
      ]
     },
     "execution_count": 7,
     "metadata": {},
     "output_type": "execute_result"
    }
   ],
   "source": [
    "net.set_params(update__learning_rate=0.5)"
   ]
  },
  {
   "cell_type": "markdown",
   "metadata": {},
   "source": [
    "### Train"
   ]
  },
  {
   "cell_type": "code",
   "execution_count": 8,
   "metadata": {
    "collapsed": false
   },
   "outputs": [
    {
     "name": "stdout",
     "output_type": "stream",
     "text": [
      "# Neural Network with 4602 learnable parameters\n",
      "\n",
      "## Layer information\n",
      "\n",
      "  #  name      size\n",
      "---  ------  ------\n",
      "  0  input       20\n",
      "  1  dense      200\n",
      "  2  dense        2\n",
      "\n"
     ]
    },
    {
     "data": {
      "text/plain": [
       "NeuralNetClassifier(batch_iterator=<mink.nolearn.BatchIterator object at 0x7fa0526824a8>,\n",
       "          encoder=LabelBinarizer(neg_label=0, pos_label=1, sparse_output=False),\n",
       "          layer=DenseLayer(W=GlorotUniform(c01b=False, gain=1.0), b=Constant(val=0.0),\n",
       "      incoming=DenseLayer(W=GlorotUniform(c01b=False, gain=1.0), b=Constant(val=0.0),\n",
       "      incoming=InputLayer(Xs=None, name=None, ys=None), name=None,\n",
       "      nonlinearity=None, num_units=200),\n",
       "      name=None, nonlinearity=Softmax(), num_units=2),\n",
       "          max_epochs=10, objective=CrossEntropy(eps=1e-12),\n",
       "          on_training_started=[<mink.handlers.PrintLayerInfo object at 0x7fa05262f780>],\n",
       "          session_kwargs=None, update=SGD(learning_rate=0.5), verbose=1)"
      ]
     },
     "execution_count": 8,
     "metadata": {},
     "output_type": "execute_result"
    }
   ],
   "source": [
    "net.fit(X, y, num_epochs=0)"
   ]
  },
  {
   "cell_type": "code",
   "execution_count": 9,
   "metadata": {
    "collapsed": false
   },
   "outputs": [],
   "source": [
    "y_proba = net.predict_proba(X)"
   ]
  },
  {
   "cell_type": "code",
   "execution_count": 10,
   "metadata": {
    "collapsed": false
   },
   "outputs": [
    {
     "data": {
      "text/plain": [
       "0.34300000000000003"
      ]
     },
     "execution_count": 10,
     "metadata": {},
     "output_type": "execute_result"
    }
   ],
   "source": [
    "(np.argmax(y_proba, 1) == y).mean()"
   ]
  },
  {
   "cell_type": "code",
   "execution_count": 11,
   "metadata": {
    "collapsed": false
   },
   "outputs": [
    {
     "name": "stdout",
     "output_type": "stream",
     "text": [
      "Automatic pdb calling has been turned ON\n"
     ]
    }
   ],
   "source": [
    "pdb on"
   ]
  },
  {
   "cell_type": "code",
   "execution_count": 12,
   "metadata": {
    "collapsed": false,
    "scrolled": true
   },
   "outputs": [
    {
     "name": "stdout",
     "output_type": "stream",
     "text": [
      "# Neural Network with 4602 learnable parameters\n",
      "\n",
      "## Layer information\n",
      "\n",
      "  #  name      size\n",
      "---  ------  ------\n",
      "  0  input       20\n",
      "  1  dense      200\n",
      "  2  dense        2\n",
      "\n",
      "epochs:    1 | loss: 0.43984\n",
      "epochs:    2 | loss: 0.41169\n",
      "epochs:    3 | loss: 0.38898\n",
      "epochs:    4 | loss: 0.36973\n",
      "epochs:    5 | loss: 0.35518\n",
      "epochs:    6 | loss: 0.34383\n",
      "epochs:    7 | loss: 0.33445\n",
      "epochs:    8 | loss: 0.32645\n",
      "epochs:    9 | loss: 0.31980\n",
      "epochs:   10 | loss: 0.31451\n",
      "epochs:   11 | loss: 0.30931\n",
      "epochs:   12 | loss: 0.30446\n",
      "epochs:   13 | loss: 0.29904\n",
      "epochs:   14 | loss: 0.29477\n",
      "epochs:   15 | loss: 0.29073\n",
      "epochs:   16 | loss: 0.28681\n",
      "epochs:   17 | loss: 0.28330\n",
      "epochs:   18 | loss: 0.27977\n",
      "epochs:   19 | loss: 0.27669\n",
      "epochs:   20 | loss: 0.27409\n"
     ]
    },
    {
     "data": {
      "text/plain": [
       "NeuralNetClassifier(batch_iterator=<mink.nolearn.BatchIterator object at 0x7fa0526824a8>,\n",
       "          encoder=LabelBinarizer(neg_label=0, pos_label=1, sparse_output=False),\n",
       "          layer=DenseLayer(W=GlorotUniform(c01b=False, gain=1.0), b=Constant(val=0.0),\n",
       "      incoming=DenseLayer(W=GlorotUniform(c01b=False, gain=1.0), b=Constant(val=0.0),\n",
       "      incoming=InputLayer(Xs=None, name=None, ys=None), name=None,\n",
       "      nonlinearity=None, num_units=200),\n",
       "      name=None, nonlinearity=Softmax(), num_units=2),\n",
       "          max_epochs=10, objective=CrossEntropy(eps=1e-12),\n",
       "          on_training_started=[<mink.handlers.PrintLayerInfo object at 0x7fa05262f780>],\n",
       "          session_kwargs=None, update=SGD(learning_rate=0.5), verbose=1)"
      ]
     },
     "execution_count": 12,
     "metadata": {},
     "output_type": "execute_result"
    }
   ],
   "source": [
    "net.fit(X, y, num_epochs=20)"
   ]
  },
  {
   "cell_type": "code",
   "execution_count": 13,
   "metadata": {
    "collapsed": false
   },
   "outputs": [
    {
     "data": {
      "text/plain": [
       "array([[ 0.54106098,  0.45893902],\n",
       "       [ 0.54056048,  0.45943949],\n",
       "       [ 0.62416959,  0.37583038],\n",
       "       ..., \n",
       "       [ 0.48155829,  0.51844168],\n",
       "       [ 0.41701135,  0.58298868],\n",
       "       [ 0.57692099,  0.42307904]], dtype=float32)"
      ]
     },
     "execution_count": 13,
     "metadata": {},
     "output_type": "execute_result"
    }
   ],
   "source": [
    "y_proba"
   ]
  },
  {
   "cell_type": "code",
   "execution_count": 14,
   "metadata": {
    "collapsed": false
   },
   "outputs": [
    {
     "data": {
      "text/plain": [
       "array([0, 0, 0, 1, 0, 1, 0, 0, 1, 0])"
      ]
     },
     "execution_count": 14,
     "metadata": {},
     "output_type": "execute_result"
    }
   ],
   "source": [
    "np.argmax(y_proba, 1)[:10]"
   ]
  },
  {
   "cell_type": "code",
   "execution_count": 15,
   "metadata": {
    "collapsed": false
   },
   "outputs": [],
   "source": [
    "y_proba = net.predict_proba(X)"
   ]
  },
  {
   "cell_type": "code",
   "execution_count": 16,
   "metadata": {
    "collapsed": false
   },
   "outputs": [
    {
     "data": {
      "text/plain": [
       "0.86160000000000003"
      ]
     },
     "execution_count": 16,
     "metadata": {},
     "output_type": "execute_result"
    }
   ],
   "source": [
    "(np.argmax(y_proba, 1) == y.flatten()).mean()"
   ]
  },
  {
   "cell_type": "markdown",
   "metadata": {},
   "source": [
    "### Grid search"
   ]
  },
  {
   "cell_type": "markdown",
   "metadata": {},
   "source": [
    "The neural net estimators can be used in conjunction with other sklearn features, such as `GridSearchCV`."
   ]
  },
  {
   "cell_type": "code",
   "execution_count": 17,
   "metadata": {
    "collapsed": false
   },
   "outputs": [],
   "source": [
    "l0 = InputLayer()\n",
    "l1 = DenseLayer(l0, name='hidden')\n",
    "l2 = DenseLayer(l1)"
   ]
  },
  {
   "cell_type": "code",
   "execution_count": 18,
   "metadata": {
    "collapsed": false
   },
   "outputs": [],
   "source": [
    "net = NeuralNetClassifier(l2, update=SGD())"
   ]
  },
  {
   "cell_type": "markdown",
   "metadata": {},
   "source": [
    "Parameters are set using the known double-underscore notation, e.g.\n",
    "\n",
    "`'update__learning_rate': [0.1, 0.5]`.\n",
    "\n",
    "Note: Instead of having to write\n",
    "\n",
    "`'layer__incoming__num_units': [50, 100]`\n",
    "\n",
    "we can just write\n",
    "\n",
    "`'hidden__num_units': [50, 100]`\n",
    "\n",
    "because we have given the hidden layer a name, \"hidden\". This may safe a lot of writing and confusion."
   ]
  },
  {
   "cell_type": "code",
   "execution_count": 19,
   "metadata": {
    "collapsed": true
   },
   "outputs": [],
   "source": [
    "params = {\n",
    "    'update__learning_rate': [0.1, 0.5],\n",
    "    'max_epochs': [5, 10],\n",
    "    'hidden__num_units': [50, 100],\n",
    "}"
   ]
  },
  {
   "cell_type": "code",
   "execution_count": 20,
   "metadata": {
    "collapsed": false
   },
   "outputs": [],
   "source": [
    "cv = GridSearchCV(net, params, scoring='accuracy', refit=False, verbose=3)"
   ]
  },
  {
   "cell_type": "code",
   "execution_count": 21,
   "metadata": {
    "collapsed": false,
    "scrolled": true
   },
   "outputs": [
    {
     "name": "stdout",
     "output_type": "stream",
     "text": [
      "Fitting 3 folds for each of 8 candidates, totalling 24 fits\n",
      "[CV] max_epochs=5, update__learning_rate=0.1, hidden__num_units=50 ...\n",
      "[CV]  max_epochs=5, update__learning_rate=0.1, hidden__num_units=50, score=0.806239 -   0.2s\n",
      "[CV] max_epochs=5, update__learning_rate=0.1, hidden__num_units=50 ...\n",
      "[CV]  max_epochs=5, update__learning_rate=0.1, hidden__num_units=50, score=0.791242 -   0.3s\n",
      "[CV] max_epochs=5, update__learning_rate=0.1, hidden__num_units=50 ...\n",
      "[CV]  max_epochs=5, update__learning_rate=0.1, hidden__num_units=50, score=0.821729 -   0.3s\n",
      "[CV] max_epochs=5, update__learning_rate=0.5, hidden__num_units=50 ...\n",
      "[CV]  max_epochs=5, update__learning_rate=0.5, hidden__num_units=50, score=0.816437 -   0.3s\n",
      "[CV] max_epochs=5, update__learning_rate=0.5, hidden__num_units=50 ...\n",
      "[CV]  max_epochs=5, update__learning_rate=0.5, hidden__num_units=50, score=0.820036 -   0.4s\n",
      "[CV] max_epochs=5, update__learning_rate=0.5, hidden__num_units=50 ...\n",
      "[CV]  max_epochs=5, update__learning_rate=0.5, hidden__num_units=50, score=0.813926 -   0.4s\n",
      "[CV] max_epochs=10, update__learning_rate=0.1, hidden__num_units=50 ..\n",
      "[CV]  max_epochs=10, update__learning_rate=0.1, hidden__num_units=50, score=0.817636 -   0.5s\n",
      "[CV] max_epochs=10, update__learning_rate=0.1, hidden__num_units=50 ..\n",
      "[CV]  max_epochs=10, update__learning_rate=0.1, hidden__num_units=50, score=0.806839 -   0.6s\n",
      "[CV] max_epochs=10, update__learning_rate=0.1, hidden__num_units=50 ..\n",
      "[CV]  max_epochs=10, update__learning_rate=0.1, hidden__num_units=50, score=0.816927 -   0.6s\n",
      "[CV] max_epochs=10, update__learning_rate=0.5, hidden__num_units=50 ..\n",
      "[CV]  max_epochs=10, update__learning_rate=0.5, hidden__num_units=50, score=0.826635 -   0.6s\n",
      "[CV] max_epochs=10, update__learning_rate=0.5, hidden__num_units=50 ..\n",
      "[CV]  max_epochs=10, update__learning_rate=0.5, hidden__num_units=50, score=0.813437 -   0.7s\n",
      "[CV] max_epochs=10, update__learning_rate=0.5, hidden__num_units=50 ..\n",
      "[CV]  max_epochs=10, update__learning_rate=0.5, hidden__num_units=50, score=0.830732 -   0.7s\n",
      "[CV] max_epochs=5, update__learning_rate=0.1, hidden__num_units=100 ..\n",
      "[CV]  max_epochs=5, update__learning_rate=0.1, hidden__num_units=100, score=0.807439 -   0.7s\n",
      "[CV] max_epochs=5, update__learning_rate=0.1, hidden__num_units=100 ..\n",
      "[CV]  max_epochs=5, update__learning_rate=0.1, hidden__num_units=100, score=0.799640 -   0.8s\n",
      "[CV] max_epochs=5, update__learning_rate=0.1, hidden__num_units=100 ..\n",
      "[CV]  max_epochs=5, update__learning_rate=0.1, hidden__num_units=100, score=0.820528 -   0.8s\n",
      "[CV] max_epochs=5, update__learning_rate=0.5, hidden__num_units=100 ..\n",
      "[CV]  max_epochs=5, update__learning_rate=0.5, hidden__num_units=100, score=0.817037 -   0.8s\n",
      "[CV] max_epochs=5, update__learning_rate=0.5, hidden__num_units=100 ..\n",
      "[CV]  max_epochs=5, update__learning_rate=0.5, hidden__num_units=100, score=0.817037 -   0.8s\n",
      "[CV] max_epochs=5, update__learning_rate=0.5, hidden__num_units=100 ..\n",
      "[CV]  max_epochs=5, update__learning_rate=0.5, hidden__num_units=100, score=0.820528 -   0.8s\n",
      "[CV] max_epochs=10, update__learning_rate=0.1, hidden__num_units=100 .\n",
      "[CV]  max_epochs=10, update__learning_rate=0.1, hidden__num_units=100, score=0.815837 -   0.9s\n",
      "[CV] max_epochs=10, update__learning_rate=0.1, hidden__num_units=100 .\n",
      "[CV]  max_epochs=10, update__learning_rate=0.1, hidden__num_units=100, score=0.803239 -   1.0s\n",
      "[CV] max_epochs=10, update__learning_rate=0.1, hidden__num_units=100 .\n",
      "[CV]  max_epochs=10, update__learning_rate=0.1, hidden__num_units=100, score=0.830132 -   1.0s\n",
      "[CV] max_epochs=10, update__learning_rate=0.5, hidden__num_units=100 .\n",
      "[CV]  max_epochs=10, update__learning_rate=0.5, hidden__num_units=100, score=0.816437 -   1.0s\n",
      "[CV] max_epochs=10, update__learning_rate=0.5, hidden__num_units=100 .\n",
      "[CV]  max_epochs=10, update__learning_rate=0.5, hidden__num_units=100, score=0.817636 -   1.1s\n",
      "[CV] max_epochs=10, update__learning_rate=0.5, hidden__num_units=100 .\n",
      "[CV]  max_epochs=10, update__learning_rate=0.5, hidden__num_units=100, score=0.825930 -   1.2s\n"
     ]
    },
    {
     "name": "stderr",
     "output_type": "stream",
     "text": [
      "[Parallel(n_jobs=1)]: Done  24 out of  24 | elapsed:   16.6s finished\n"
     ]
    },
    {
     "data": {
      "text/plain": [
       "GridSearchCV(cv=None, error_score='raise',\n",
       "       estimator=NeuralNetClassifier(batch_iterator=<mink.nolearn.BatchIterator object at 0x7fa0526824a8>,\n",
       "          encoder=LabelBinarizer(neg_label=0, pos_label=1, sparse_output=False),\n",
       "          layer=DenseLayer(W=GlorotUniform(c01b=False, gain=1.0), b=Constant(val=0.0),\n",
       "      incoming=DenseLayer(W=Glor...bject at 0x7fa05262f780>],\n",
       "          session_kwargs=None, update=SGD(learning_rate=0.01), verbose=0),\n",
       "       fit_params={}, iid=True, n_jobs=1,\n",
       "       param_grid={'update__learning_rate': [0.1, 0.5], 'max_epochs': [5, 10], 'hidden__num_units': [50, 100]},\n",
       "       pre_dispatch='2*n_jobs', refit=False, scoring='accuracy', verbose=3)"
      ]
     },
     "execution_count": 21,
     "metadata": {},
     "output_type": "execute_result"
    }
   ],
   "source": [
    "cv.fit(X, y)"
   ]
  },
  {
   "cell_type": "code",
   "execution_count": 22,
   "metadata": {
    "collapsed": false
   },
   "outputs": [
    {
     "data": {
      "text/plain": [
       "({'hidden__num_units': 50, 'max_epochs': 10, 'update__learning_rate': 0.5},\n",
       " 0.8236)"
      ]
     },
     "execution_count": 22,
     "metadata": {},
     "output_type": "execute_result"
    }
   ],
   "source": [
    "cv.best_params_, cv.best_score_"
   ]
  },
  {
   "cell_type": "markdown",
   "metadata": {
    "collapsed": true
   },
   "source": [
    "## Regression task"
   ]
  },
  {
   "cell_type": "markdown",
   "metadata": {},
   "source": [
    "As is known from sklearn, we have separate estimators for classification and regression."
   ]
  },
  {
   "cell_type": "markdown",
   "metadata": {},
   "source": [
    "### Data"
   ]
  },
  {
   "cell_type": "code",
   "execution_count": 23,
   "metadata": {
    "collapsed": true
   },
   "outputs": [],
   "source": [
    "X, y = make_regression(n_samples=5000)"
   ]
  },
  {
   "cell_type": "markdown",
   "metadata": {},
   "source": [
    "Note that apart from using `NeuralNetRegressor` instead of `NeuralNetClassifier`, everything is the same. No need to adjust output nonlinearity or objective."
   ]
  },
  {
   "cell_type": "markdown",
   "metadata": {},
   "source": [
    "### Define neural network"
   ]
  },
  {
   "cell_type": "code",
   "execution_count": 24,
   "metadata": {
    "collapsed": false
   },
   "outputs": [],
   "source": [
    "l0 = InputLayer()\n",
    "l1 = DenseLayer(l0, num_units=200)\n",
    "l2 = DenseLayer(l1)"
   ]
  },
  {
   "cell_type": "code",
   "execution_count": 25,
   "metadata": {
    "collapsed": false
   },
   "outputs": [],
   "source": [
    "net = NeuralNetRegressor(l2, verbose=1)"
   ]
  },
  {
   "cell_type": "code",
   "execution_count": 26,
   "metadata": {
    "collapsed": false
   },
   "outputs": [
    {
     "data": {
      "text/plain": [
       "NeuralNetRegressor(batch_iterator=<mink.nolearn.BatchIterator object at 0x7fa05262f978>,\n",
       "          encoder=None,\n",
       "          layer=DenseLayer(W=GlorotUniform(c01b=False, gain=1.0), b=Constant(val=0.0),\n",
       "      incoming=DenseLayer(W=GlorotUniform(c01b=False, gain=1.0), b=Constant(val=0.0),\n",
       "      incoming=InputLayer(Xs=None, name=None, ys=None), name=None,\n",
       "      nonlinearity=None, num_units=200),\n",
       "      name=None, nonlinearity=None, num_units=None),\n",
       "          max_epochs=10, objective=MeanSquaredError(),\n",
       "          on_training_started=[<mink.handlers.PrintLayerInfo object at 0x7fa05262f9b0>],\n",
       "          session_kwargs=None, update=SGD(learning_rate=0.001), verbose=1)"
      ]
     },
     "execution_count": 26,
     "metadata": {},
     "output_type": "execute_result"
    }
   ],
   "source": [
    "net.set_params(update__learning_rate=0.001)"
   ]
  },
  {
   "cell_type": "markdown",
   "metadata": {},
   "source": [
    "### Train"
   ]
  },
  {
   "cell_type": "code",
   "execution_count": 27,
   "metadata": {
    "collapsed": false
   },
   "outputs": [
    {
     "name": "stdout",
     "output_type": "stream",
     "text": [
      "# Neural Network with 20401 learnable parameters\n",
      "\n",
      "## Layer information\n",
      "\n",
      "  #  name      size\n",
      "---  ------  ------\n",
      "  0  input      100\n",
      "  1  dense      200\n",
      "  2  dense        1\n",
      "\n",
      "epochs:    1 | loss: 7652.36719\n",
      "epochs:    2 | loss: 107.46196\n",
      "epochs:    3 | loss: 78.80222\n",
      "epochs:    4 | loss: 63.64157\n",
      "epochs:    5 | loss: 52.32061\n",
      "epochs:    6 | loss: 43.18874\n",
      "epochs:    7 | loss: 35.97786\n",
      "epochs:    8 | loss: 30.09224\n",
      "epochs:    9 | loss: 25.29941\n",
      "epochs:   10 | loss: 21.33082\n",
      "epochs:   11 | loss: 18.05920\n",
      "epochs:   12 | loss: 15.31239\n",
      "epochs:   13 | loss: 13.05539\n",
      "epochs:   14 | loss: 11.20075\n",
      "epochs:   15 | loss: 9.65204\n",
      "epochs:   16 | loss: 8.36928\n",
      "epochs:   17 | loss: 7.29081\n",
      "epochs:   18 | loss: 6.39702\n",
      "epochs:   19 | loss: 5.65079\n",
      "epochs:   20 | loss: 5.03053\n"
     ]
    },
    {
     "data": {
      "text/plain": [
       "NeuralNetRegressor(batch_iterator=<mink.nolearn.BatchIterator object at 0x7fa05262f978>,\n",
       "          encoder=None,\n",
       "          layer=DenseLayer(W=GlorotUniform(c01b=False, gain=1.0), b=Constant(val=0.0),\n",
       "      incoming=DenseLayer(W=GlorotUniform(c01b=False, gain=1.0), b=Constant(val=0.0),\n",
       "      incoming=InputLayer(Xs=None, name=None, ys=None), name=None,\n",
       "      nonlinearity=None, num_units=200),\n",
       "      name=None, nonlinearity=Linear(), num_units=1),\n",
       "          max_epochs=10, objective=MeanSquaredError(),\n",
       "          on_training_started=[<mink.handlers.PrintLayerInfo object at 0x7fa05262f9b0>],\n",
       "          session_kwargs=None, update=SGD(learning_rate=0.001), verbose=1)"
      ]
     },
     "execution_count": 27,
     "metadata": {},
     "output_type": "execute_result"
    }
   ],
   "source": [
    "net.fit(X, y, num_epochs=20)"
   ]
  },
  {
   "cell_type": "markdown",
   "metadata": {
    "collapsed": true
   },
   "source": [
    "## Saving and restoring"
   ]
  },
  {
   "cell_type": "markdown",
   "metadata": {},
   "source": [
    "### Save previous net"
   ]
  },
  {
   "cell_type": "code",
   "execution_count": 28,
   "metadata": {
    "collapsed": false,
    "scrolled": true
   },
   "outputs": [
    {
     "name": "stdout",
     "output_type": "stream",
     "text": [
      "9.43870165903\n"
     ]
    }
   ],
   "source": [
    "score_before = mean_squared_error(y, net.predict(X))\n",
    "print(score_before)"
   ]
  },
  {
   "cell_type": "code",
   "execution_count": 29,
   "metadata": {
    "collapsed": false
   },
   "outputs": [],
   "source": [
    "with open('mynet.pkl', 'wb') as f:\n",
    "    pickle.dump(net, f)"
   ]
  },
  {
   "cell_type": "markdown",
   "metadata": {},
   "source": [
    "### Create a new net with same architecture"
   ]
  },
  {
   "cell_type": "code",
   "execution_count": 30,
   "metadata": {
    "collapsed": true
   },
   "outputs": [],
   "source": [
    "with open('mynet.pkl', 'rb') as f:\n",
    "    new_net = pickle.load(f)"
   ]
  },
  {
   "cell_type": "code",
   "execution_count": 31,
   "metadata": {
    "collapsed": true
   },
   "outputs": [],
   "source": [
    "new_net.initialize(X, y)"
   ]
  },
  {
   "cell_type": "code",
   "execution_count": 32,
   "metadata": {
    "collapsed": false,
    "scrolled": true
   },
   "outputs": [
    {
     "name": "stdout",
     "output_type": "stream",
     "text": [
      "9.43870165903\n"
     ]
    }
   ],
   "source": [
    "score_after = mean_squared_error(y, new_net.predict(X))\n",
    "print(score_after)\n",
    "assert np.isclose(score_before, score_after)"
   ]
  },
  {
   "cell_type": "code",
   "execution_count": null,
   "metadata": {
    "collapsed": true
   },
   "outputs": [],
   "source": []
  }
 ],
 "metadata": {
  "kernelspec": {
   "display_name": "Python 3",
   "language": "python",
   "name": "python3"
  },
  "language_info": {
   "codemirror_mode": {
    "name": "ipython",
    "version": 3
   },
   "file_extension": ".py",
   "mimetype": "text/x-python",
   "name": "python",
   "nbconvert_exporter": "python",
   "pygments_lexer": "ipython3",
   "version": "3.4.4"
  }
 },
 "nbformat": 4,
 "nbformat_minor": 0
}
