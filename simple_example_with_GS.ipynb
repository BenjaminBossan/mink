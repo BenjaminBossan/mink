{
 "cells": [
  {
   "cell_type": "markdown",
   "metadata": {
    "collapsed": true
   },
   "source": [
    "# Mink usage examples"
   ]
  },
  {
   "cell_type": "markdown",
   "metadata": {},
   "source": [
    "This notebook demonstrates some examples of using mink and how it interacts with sklearn."
   ]
  },
  {
   "cell_type": "markdown",
   "metadata": {},
   "source": [
    "## Imports"
   ]
  },
  {
   "cell_type": "code",
   "execution_count": 1,
   "metadata": {
    "collapsed": true
   },
   "outputs": [],
   "source": [
    "import pickle"
   ]
  },
  {
   "cell_type": "code",
   "execution_count": 2,
   "metadata": {
    "collapsed": false
   },
   "outputs": [],
   "source": [
    "import numpy as np\n",
    "from sklearn.grid_search import GridSearchCV\n",
    "from sklearn.datasets import make_classification\n",
    "from sklearn.datasets import make_regression\n",
    "from sklearn.metrics import mean_squared_error\n",
    "import tensorflow as tf"
   ]
  },
  {
   "cell_type": "code",
   "execution_count": 3,
   "metadata": {
    "collapsed": false
   },
   "outputs": [],
   "source": [
    "from mink import NeuralNetClassifier\n",
    "from mink import NeuralNetRegressor\n",
    "from mink.layers import DenseLayer\n",
    "from mink.layers import InputLayer\n",
    "from mink.updates import SGD"
   ]
  },
  {
   "cell_type": "markdown",
   "metadata": {},
   "source": [
    "## MNIST classification task"
   ]
  },
  {
   "cell_type": "markdown",
   "metadata": {},
   "source": [
    "### Data"
   ]
  },
  {
   "cell_type": "code",
   "execution_count": 4,
   "metadata": {
    "collapsed": false
   },
   "outputs": [],
   "source": [
    "X, y = make_classification(n_samples=5000)"
   ]
  },
  {
   "cell_type": "markdown",
   "metadata": {},
   "source": [
    "### Define neural net"
   ]
  },
  {
   "cell_type": "markdown",
   "metadata": {},
   "source": [
    "Note: No need to specify the shape of the training data, number of classes, or to set softmax nonlinearity. The `NeuralNetClassifier` class takes care of all of that, as is expected from an sklearn estimator."
   ]
  },
  {
   "cell_type": "code",
   "execution_count": 5,
   "metadata": {
    "collapsed": false
   },
   "outputs": [],
   "source": [
    "l0 = InputLayer()\n",
    "l1 = DenseLayer(l0, num_units=200)\n",
    "l2 = DenseLayer(l1)"
   ]
  },
  {
   "cell_type": "code",
   "execution_count": 6,
   "metadata": {
    "collapsed": false
   },
   "outputs": [],
   "source": [
    "net = NeuralNetClassifier(l2, verbose=1)"
   ]
  },
  {
   "cell_type": "markdown",
   "metadata": {},
   "source": [
    "If we want to change certain parameters after initialization, just use the `set_params` method and the double-underscore notation known from sklearn."
   ]
  },
  {
   "cell_type": "code",
   "execution_count": 7,
   "metadata": {
    "collapsed": false
   },
   "outputs": [
    {
     "data": {
      "text/plain": [
       "NeuralNetClassifier(batch_iterator_test=128, batch_iterator_train=128,\n",
       "          encoder=LabelBinarizer(neg_label=0, pos_label=1, sparse_output=False),\n",
       "          layer=DenseLayer(W=GlorotUniform(c01b=False, gain=1.0), b=Constant(value=0.0),\n",
       "      incoming=DenseLayer(W=GlorotUniform(c01b=False, gain=1.0), b=Constant(value=0.0),\n",
       "      incoming=InputLayer(Xs=None, make_logs=False, name=None, ys=None),\n",
       "      make_logs=False, name=None, nonlinearity=None, num_units=200),\n",
       "      make_logs=False, name=None, nonlinearity=None, num_units=None),\n",
       "          max_epochs=10, objective=CrossEntropy(eps=1e-12),\n",
       "          on_epoch_finished=(<mink.handlers.PrintTrainProgress object at 0x7fcf6ac58e48>,),\n",
       "          on_training_started=(<mink.handlers.PrintLayerInfo object at 0x7fcf6ac9f9b0>,),\n",
       "          session_kwargs=None, update=SGD(learning_rate=0.5), verbose=1)"
      ]
     },
     "execution_count": 7,
     "metadata": {},
     "output_type": "execute_result"
    }
   ],
   "source": [
    "net.set_params(update__learning_rate=0.5)"
   ]
  },
  {
   "cell_type": "markdown",
   "metadata": {},
   "source": [
    "### Train"
   ]
  },
  {
   "cell_type": "code",
   "execution_count": 8,
   "metadata": {
    "collapsed": false
   },
   "outputs": [
    {
     "name": "stdout",
     "output_type": "stream",
     "text": [
      "# Neural Network with 4602 learnable parameters\n",
      "\n",
      "## Layer information\n",
      "\n",
      "|   # | name   |   size |\n",
      "|----:|:-------|-------:|\n",
      "|   0 | input  |     20 |\n",
      "|   1 | dense  |    200 |\n",
      "|   2 | dense  |      2 |\n",
      "\n"
     ]
    },
    {
     "data": {
      "text/plain": [
       "NeuralNetClassifier(batch_iterator_test=128, batch_iterator_train=128,\n",
       "          encoder=LabelBinarizer(neg_label=0, pos_label=1, sparse_output=False),\n",
       "          layer=DenseLayer(W=GlorotUniform(c01b=False, gain=1.0), b=Constant(value=0.0),\n",
       "      incoming=DenseLayer(W=GlorotUniform(c01b=False, gain=1.0), b=Constant(value=0.0),\n",
       "      incoming=InputLayer(Xs=None, make_logs=False, name=None, ys=None),\n",
       "      make_logs=False, name=None, nonlinearity=None, num_units=200),\n",
       "      make_logs=False, name=None, nonlinearity=Softmax(), num_units=2),\n",
       "          max_epochs=10, objective=CrossEntropy(eps=1e-12),\n",
       "          on_epoch_finished=(<mink.handlers.PrintTrainProgress object at 0x7fcf6ac58e48>,),\n",
       "          on_training_started=(<mink.handlers.PrintLayerInfo object at 0x7fcf6ac9f9b0>,),\n",
       "          session_kwargs=None, update=SGD(learning_rate=0.5), verbose=1)"
      ]
     },
     "execution_count": 8,
     "metadata": {},
     "output_type": "execute_result"
    }
   ],
   "source": [
    "net.fit(X, y, epochs=0)"
   ]
  },
  {
   "cell_type": "code",
   "execution_count": 9,
   "metadata": {
    "collapsed": false
   },
   "outputs": [],
   "source": [
    "y_proba = net.predict_proba(X)"
   ]
  },
  {
   "cell_type": "code",
   "execution_count": 10,
   "metadata": {
    "collapsed": false
   },
   "outputs": [
    {
     "data": {
      "text/plain": [
       "0.60199999999999998"
      ]
     },
     "execution_count": 10,
     "metadata": {},
     "output_type": "execute_result"
    }
   ],
   "source": [
    "(np.argmax(y_proba, 1) == y).mean()"
   ]
  },
  {
   "cell_type": "code",
   "execution_count": 11,
   "metadata": {
    "collapsed": false,
    "scrolled": true
   },
   "outputs": [
    {
     "name": "stdout",
     "output_type": "stream",
     "text": [
      "# Neural Network with 4602 learnable parameters\n",
      "\n",
      "## Layer information\n",
      "\n",
      "|   # | name   |   size |\n",
      "|----:|:-------|-------:|\n",
      "|   0 | input  |     20 |\n",
      "|   1 | dense  |    200 |\n",
      "|   2 | dense  |      2 |\n",
      "\n",
      "|   epoch |   train loss |     dur |\n",
      "|--------:|-------------:|--------:|\n",
      "|       1 |      \u001b[36m0.18051\u001b[0m | 0.04445 |\n",
      "|       2 |      \u001b[36m0.13042\u001b[0m | 0.03675 |\n",
      "|       3 |      \u001b[36m0.12566\u001b[0m | 0.03759 |\n",
      "|       4 |      \u001b[36m0.12196\u001b[0m | 0.03696 |\n",
      "|       5 |      \u001b[36m0.11886\u001b[0m | 0.03512 |\n",
      "|       6 |      \u001b[36m0.11603\u001b[0m | 0.03827 |\n",
      "|       7 |      \u001b[36m0.11343\u001b[0m | 0.03691 |\n",
      "|       8 |      \u001b[36m0.11101\u001b[0m | 0.03551 |\n",
      "|       9 |      \u001b[36m0.10867\u001b[0m | 0.03741 |\n",
      "|      10 |      \u001b[36m0.10650\u001b[0m | 0.03952 |\n",
      "|      11 |      \u001b[36m0.10446\u001b[0m | 0.03928 |\n",
      "|      12 |      \u001b[36m0.10253\u001b[0m | 0.03901 |\n",
      "|      13 |      \u001b[36m0.10071\u001b[0m | 0.03611 |\n",
      "|      14 |      \u001b[36m0.09902\u001b[0m | 0.03718 |\n",
      "|      15 |      \u001b[36m0.09738\u001b[0m | 0.03837 |\n",
      "|      16 |      \u001b[36m0.09579\u001b[0m | 0.03829 |\n",
      "|      17 |      \u001b[36m0.09426\u001b[0m | 0.03807 |\n",
      "|      18 |      \u001b[36m0.09275\u001b[0m | 0.03787 |\n",
      "|      19 |      \u001b[36m0.09112\u001b[0m | 0.03831 |\n",
      "|      20 |      \u001b[36m0.08962\u001b[0m | 0.03693 |\n"
     ]
    },
    {
     "data": {
      "text/plain": [
       "NeuralNetClassifier(batch_iterator_test=128, batch_iterator_train=128,\n",
       "          encoder=LabelBinarizer(neg_label=0, pos_label=1, sparse_output=False),\n",
       "          layer=DenseLayer(W=GlorotUniform(c01b=False, gain=1.0), b=Constant(value=0.0),\n",
       "      incoming=DenseLayer(W=GlorotUniform(c01b=False, gain=1.0), b=Constant(value=0.0),\n",
       "      incoming=InputLayer(Xs=None, make_logs=False, name=None, ys=None),\n",
       "      make_logs=False, name=None, nonlinearity=None, num_units=200),\n",
       "      make_logs=False, name=None, nonlinearity=Softmax(), num_units=2),\n",
       "          max_epochs=10, objective=CrossEntropy(eps=1e-12),\n",
       "          on_epoch_finished=(<mink.handlers.PrintTrainProgress object at 0x7fcf6ac58e48>,),\n",
       "          on_training_started=(<mink.handlers.PrintLayerInfo object at 0x7fcf6ac9f9b0>,),\n",
       "          session_kwargs=None, update=SGD(learning_rate=0.5), verbose=1)"
      ]
     },
     "execution_count": 11,
     "metadata": {},
     "output_type": "execute_result"
    }
   ],
   "source": [
    "net.fit(X, y, epochs=20)"
   ]
  },
  {
   "cell_type": "code",
   "execution_count": 12,
   "metadata": {
    "collapsed": false
   },
   "outputs": [],
   "source": [
    "y_proba = net.predict_proba(X)"
   ]
  },
  {
   "cell_type": "code",
   "execution_count": 13,
   "metadata": {
    "collapsed": false
   },
   "outputs": [
    {
     "data": {
      "text/plain": [
       "0.97799999999999998"
      ]
     },
     "execution_count": 13,
     "metadata": {},
     "output_type": "execute_result"
    }
   ],
   "source": [
    "(np.argmax(y_proba, 1) == y.flatten()).mean()"
   ]
  },
  {
   "cell_type": "markdown",
   "metadata": {},
   "source": [
    "### Grid search"
   ]
  },
  {
   "cell_type": "markdown",
   "metadata": {},
   "source": [
    "The neural net estimators can be used in conjunction with other sklearn features, such as `GridSearchCV`."
   ]
  },
  {
   "cell_type": "code",
   "execution_count": 14,
   "metadata": {
    "collapsed": false
   },
   "outputs": [],
   "source": [
    "l0 = InputLayer()\n",
    "l1 = DenseLayer(l0, name='hidden')\n",
    "l2 = DenseLayer(l1)"
   ]
  },
  {
   "cell_type": "code",
   "execution_count": 15,
   "metadata": {
    "collapsed": false
   },
   "outputs": [],
   "source": [
    "net = NeuralNetClassifier(l2, update=SGD())"
   ]
  },
  {
   "cell_type": "markdown",
   "metadata": {},
   "source": [
    "Parameters are set using the known double-underscore notation, e.g.\n",
    "\n",
    "`'update__learning_rate': [0.1, 0.5]`.\n",
    "\n",
    "Note: Instead of having to write\n",
    "\n",
    "`'layer__incoming__num_units': [50, 100]`\n",
    "\n",
    "we can just write\n",
    "\n",
    "`'hidden__num_units': [50, 100]`\n",
    "\n",
    "because we have given the hidden layer a name, \"hidden\". This may safe a lot of writing and confusion."
   ]
  },
  {
   "cell_type": "code",
   "execution_count": 16,
   "metadata": {
    "collapsed": true
   },
   "outputs": [],
   "source": [
    "params = {\n",
    "    'update__learning_rate': [0.1, 0.5],\n",
    "    'max_epochs': [5, 10],\n",
    "    'hidden__num_units': [50, 100],\n",
    "}"
   ]
  },
  {
   "cell_type": "code",
   "execution_count": 17,
   "metadata": {
    "collapsed": false
   },
   "outputs": [],
   "source": [
    "cv = GridSearchCV(net, params, scoring='accuracy', refit=False, verbose=3)"
   ]
  },
  {
   "cell_type": "code",
   "execution_count": 18,
   "metadata": {
    "collapsed": false,
    "scrolled": true
   },
   "outputs": [
    {
     "name": "stdout",
     "output_type": "stream",
     "text": [
      "Fitting 3 folds for each of 8 candidates, totalling 24 fits\n",
      "[CV] max_epochs=5, update__learning_rate=0.1, hidden__num_units=50 ...\n",
      "[CV]  max_epochs=5, update__learning_rate=0.1, hidden__num_units=50, score=0.968206 -   0.3s\n",
      "[CV] max_epochs=5, update__learning_rate=0.1, hidden__num_units=50 ...\n",
      "[CV]  max_epochs=5, update__learning_rate=0.1, hidden__num_units=50, score=0.965207 -   0.3s\n",
      "[CV] max_epochs=5, update__learning_rate=0.1, hidden__num_units=50 ...\n",
      "[CV]  max_epochs=5, update__learning_rate=0.1, hidden__num_units=50, score=0.956783 -   0.4s\n",
      "[CV] max_epochs=5, update__learning_rate=0.5, hidden__num_units=50 ...\n",
      "[CV]  max_epochs=5, update__learning_rate=0.5, hidden__num_units=50, score=0.965807 -   0.4s\n",
      "[CV] max_epochs=5, update__learning_rate=0.5, hidden__num_units=50 ...\n",
      "[CV]  max_epochs=5, update__learning_rate=0.5, hidden__num_units=50, score=0.965207 -   0.5s\n",
      "[CV] max_epochs=5, update__learning_rate=0.5, hidden__num_units=50 ...\n",
      "[CV]  max_epochs=5, update__learning_rate=0.5, hidden__num_units=50, score=0.955582 -   0.4s\n",
      "[CV] max_epochs=10, update__learning_rate=0.1, hidden__num_units=50 ..\n",
      "[CV]  max_epochs=10, update__learning_rate=0.1, hidden__num_units=50, score=0.964607 -   0.6s\n",
      "[CV] max_epochs=10, update__learning_rate=0.1, hidden__num_units=50 ..\n",
      "[CV]  max_epochs=10, update__learning_rate=0.1, hidden__num_units=50, score=0.959808 -   0.6s\n",
      "[CV] max_epochs=10, update__learning_rate=0.1, hidden__num_units=50 ..\n",
      "[CV]  max_epochs=10, update__learning_rate=0.1, hidden__num_units=50, score=0.957383 -   0.7s\n",
      "[CV] max_epochs=10, update__learning_rate=0.5, hidden__num_units=50 ..\n",
      "[CV]  max_epochs=10, update__learning_rate=0.5, hidden__num_units=50, score=0.965207 -   0.7s\n",
      "[CV] max_epochs=10, update__learning_rate=0.5, hidden__num_units=50 ..\n",
      "[CV]  max_epochs=10, update__learning_rate=0.5, hidden__num_units=50, score=0.964007 -   0.8s\n",
      "[CV] max_epochs=10, update__learning_rate=0.5, hidden__num_units=50 ..\n",
      "[CV]  max_epochs=10, update__learning_rate=0.5, hidden__num_units=50, score=0.957383 -   0.8s\n",
      "[CV] max_epochs=5, update__learning_rate=0.1, hidden__num_units=100 ..\n",
      "[CV]  max_epochs=5, update__learning_rate=0.1, hidden__num_units=100, score=0.967007 -   0.6s\n",
      "[CV] max_epochs=5, update__learning_rate=0.1, hidden__num_units=100 ..\n",
      "[CV]  max_epochs=5, update__learning_rate=0.1, hidden__num_units=100, score=0.962208 -   0.7s\n",
      "[CV] max_epochs=5, update__learning_rate=0.1, hidden__num_units=100 ..\n",
      "[CV]  max_epochs=5, update__learning_rate=0.1, hidden__num_units=100, score=0.956783 -   0.8s\n",
      "[CV] max_epochs=5, update__learning_rate=0.5, hidden__num_units=100 ..\n",
      "[CV]  max_epochs=5, update__learning_rate=0.5, hidden__num_units=100, score=0.967606 -   0.8s\n",
      "[CV] max_epochs=5, update__learning_rate=0.5, hidden__num_units=100 ..\n",
      "[CV]  max_epochs=5, update__learning_rate=0.5, hidden__num_units=100, score=0.964007 -   0.8s\n",
      "[CV] max_epochs=5, update__learning_rate=0.5, hidden__num_units=100 ..\n",
      "[CV]  max_epochs=5, update__learning_rate=0.5, hidden__num_units=100, score=0.954982 -   0.8s\n",
      "[CV] max_epochs=10, update__learning_rate=0.1, hidden__num_units=100 .\n",
      "[CV]  max_epochs=10, update__learning_rate=0.1, hidden__num_units=100, score=0.968806 -   1.0s\n",
      "[CV] max_epochs=10, update__learning_rate=0.1, hidden__num_units=100 .\n",
      "[CV]  max_epochs=10, update__learning_rate=0.1, hidden__num_units=100, score=0.964007 -   1.1s\n",
      "[CV] max_epochs=10, update__learning_rate=0.1, hidden__num_units=100 .\n",
      "[CV]  max_epochs=10, update__learning_rate=0.1, hidden__num_units=100, score=0.956182 -   1.1s\n",
      "[CV] max_epochs=10, update__learning_rate=0.5, hidden__num_units=100 .\n",
      "[CV]  max_epochs=10, update__learning_rate=0.5, hidden__num_units=100, score=0.968806 -   1.1s\n",
      "[CV] max_epochs=10, update__learning_rate=0.5, hidden__num_units=100 .\n",
      "[CV]  max_epochs=10, update__learning_rate=0.5, hidden__num_units=100, score=0.962807 -   1.2s\n",
      "[CV] max_epochs=10, update__learning_rate=0.5, hidden__num_units=100 .\n",
      "[CV]  max_epochs=10, update__learning_rate=0.5, hidden__num_units=100, score=0.957383 -   1.2s\n"
     ]
    },
    {
     "name": "stderr",
     "output_type": "stream",
     "text": [
      "[Parallel(n_jobs=1)]: Done  24 out of  24 | elapsed:   18.1s finished\n"
     ]
    },
    {
     "data": {
      "text/plain": [
       "GridSearchCV(cv=None, error_score='raise',\n",
       "       estimator=NeuralNetClassifier(batch_iterator_test=128, batch_iterator_train=128,\n",
       "          encoder=LabelBinarizer(neg_label=0, pos_label=1, sparse_output=False),\n",
       "          layer=DenseLayer(W=GlorotUniform(c01b=False, gain=1.0), b=Constant(value=0.0),\n",
       "      incoming=DenseLayer(W=GlorotUniform(c01b=Fa...ject at 0x7fcf6ac9f9b0>,),\n",
       "          session_kwargs=None, update=SGD(learning_rate=0.01), verbose=0),\n",
       "       fit_params={}, iid=True, n_jobs=1,\n",
       "       param_grid={'max_epochs': [5, 10], 'update__learning_rate': [0.1, 0.5], 'hidden__num_units': [50, 100]},\n",
       "       pre_dispatch='2*n_jobs', refit=False, scoring='accuracy', verbose=3)"
      ]
     },
     "execution_count": 18,
     "metadata": {},
     "output_type": "execute_result"
    }
   ],
   "source": [
    "cv.fit(X, y)"
   ]
  },
  {
   "cell_type": "code",
   "execution_count": 19,
   "metadata": {
    "collapsed": false
   },
   "outputs": [
    {
     "data": {
      "text/plain": [
       "({'hidden__num_units': 50, 'max_epochs': 5, 'update__learning_rate': 0.1},\n",
       " 0.96340000000000003)"
      ]
     },
     "execution_count": 19,
     "metadata": {},
     "output_type": "execute_result"
    }
   ],
   "source": [
    "cv.best_params_, cv.best_score_"
   ]
  },
  {
   "cell_type": "markdown",
   "metadata": {
    "collapsed": true
   },
   "source": [
    "## Regression task"
   ]
  },
  {
   "cell_type": "markdown",
   "metadata": {},
   "source": [
    "As is known from sklearn, we have separate estimators for classification and regression."
   ]
  },
  {
   "cell_type": "markdown",
   "metadata": {},
   "source": [
    "### Data"
   ]
  },
  {
   "cell_type": "code",
   "execution_count": 20,
   "metadata": {
    "collapsed": true
   },
   "outputs": [],
   "source": [
    "X, y = make_regression(n_samples=5000)"
   ]
  },
  {
   "cell_type": "markdown",
   "metadata": {},
   "source": [
    "Note that apart from using `NeuralNetRegressor` instead of `NeuralNetClassifier`, everything is the same. No need to adjust output nonlinearity or objective."
   ]
  },
  {
   "cell_type": "markdown",
   "metadata": {},
   "source": [
    "### Define neural network"
   ]
  },
  {
   "cell_type": "code",
   "execution_count": 21,
   "metadata": {
    "collapsed": false
   },
   "outputs": [],
   "source": [
    "l0 = InputLayer()\n",
    "l1 = DenseLayer(l0, num_units=200)\n",
    "l2 = DenseLayer(l1)"
   ]
  },
  {
   "cell_type": "code",
   "execution_count": 22,
   "metadata": {
    "collapsed": false
   },
   "outputs": [],
   "source": [
    "net = NeuralNetRegressor(l2, verbose=1)"
   ]
  },
  {
   "cell_type": "code",
   "execution_count": 23,
   "metadata": {
    "collapsed": false
   },
   "outputs": [
    {
     "data": {
      "text/plain": [
       "NeuralNetRegressor(batch_iterator_test=128, batch_iterator_train=128,\n",
       "          encoder=None,\n",
       "          layer=DenseLayer(W=GlorotUniform(c01b=False, gain=1.0), b=Constant(value=0.0),\n",
       "      incoming=DenseLayer(W=GlorotUniform(c01b=False, gain=1.0), b=Constant(value=0.0),\n",
       "      incoming=InputLayer(Xs=None, make_logs=False, name=None, ys=None),\n",
       "      make_logs=False, name=None, nonlinearity=None, num_units=200),\n",
       "      make_logs=False, name=None, nonlinearity=None, num_units=None),\n",
       "          max_epochs=10, objective=MeanSquaredError(),\n",
       "          on_epoch_finished=(<mink.handlers.PrintTrainProgress object at 0x7fcf6ac65128>,),\n",
       "          on_training_started=(<mink.handlers.PrintLayerInfo object at 0x7fcf6ac650f0>,),\n",
       "          session_kwargs=None, update=SGD(learning_rate=0.0001), verbose=1)"
      ]
     },
     "execution_count": 23,
     "metadata": {},
     "output_type": "execute_result"
    }
   ],
   "source": [
    "net.set_params(update__learning_rate=0.0001)"
   ]
  },
  {
   "cell_type": "markdown",
   "metadata": {},
   "source": [
    "### Train"
   ]
  },
  {
   "cell_type": "code",
   "execution_count": 24,
   "metadata": {
    "collapsed": false
   },
   "outputs": [
    {
     "name": "stdout",
     "output_type": "stream",
     "text": [
      "# Neural Network with 20401 learnable parameters\n",
      "\n",
      "## Layer information\n",
      "\n",
      "|   # | name   |   size |\n",
      "|----:|:-------|-------:|\n",
      "|   0 | input  |    100 |\n",
      "|   1 | dense  |    200 |\n",
      "|   2 | dense  |      1 |\n",
      "\n",
      "|   epoch |   train loss |     dur |\n",
      "|--------:|-------------:|--------:|\n",
      "|       1 |  \u001b[36m35029.88281\u001b[0m | 0.05796 |\n",
      "|       2 |  \u001b[36m33615.28125\u001b[0m | 0.02884 |\n",
      "|       3 |  \u001b[36m27241.64453\u001b[0m | 0.02839 |\n",
      "|       4 |  \u001b[36m11396.54492\u001b[0m | 0.02905 |\n",
      "|       5 |   \u001b[36m1702.15271\u001b[0m | 0.02858 |\n",
      "|       6 |    \u001b[36m424.58511\u001b[0m | 0.02855 |\n",
      "|       7 |    \u001b[36m313.12628\u001b[0m | 0.02822 |\n",
      "|       8 |    \u001b[36m284.63565\u001b[0m | 0.02873 |\n",
      "|       9 |    \u001b[36m266.37469\u001b[0m | 0.02969 |\n",
      "|      10 |    \u001b[36m251.07422\u001b[0m | 0.02893 |\n",
      "|      11 |    \u001b[36m237.28922\u001b[0m | 0.03085 |\n",
      "|      12 |    \u001b[36m224.54858\u001b[0m | 0.02970 |\n",
      "|      13 |    \u001b[36m212.62373\u001b[0m | 0.02841 |\n",
      "|      14 |    \u001b[36m201.36955\u001b[0m | 0.02951 |\n",
      "|      15 |    \u001b[36m190.67888\u001b[0m | 0.02842 |\n",
      "|      16 |    \u001b[36m180.53098\u001b[0m | 0.02922 |\n",
      "|      17 |    \u001b[36m170.88676\u001b[0m | 0.02869 |\n",
      "|      18 |    \u001b[36m161.73845\u001b[0m | 0.02898 |\n",
      "|      19 |    \u001b[36m153.04208\u001b[0m | 0.02910 |\n",
      "|      20 |    \u001b[36m144.76909\u001b[0m | 0.02864 |\n"
     ]
    },
    {
     "data": {
      "text/plain": [
       "NeuralNetRegressor(batch_iterator_test=128, batch_iterator_train=128,\n",
       "          encoder=None,\n",
       "          layer=DenseLayer(W=GlorotUniform(c01b=False, gain=1.0), b=Constant(value=0.0),\n",
       "      incoming=DenseLayer(W=GlorotUniform(c01b=False, gain=1.0), b=Constant(value=0.0),\n",
       "      incoming=InputLayer(Xs=None, make_logs=False, name=None, ys=None),\n",
       "      make_logs=False, name=None, nonlinearity=None, num_units=200),\n",
       "      make_logs=False, name=None, nonlinearity=Linear(), num_units=1),\n",
       "          max_epochs=10, objective=MeanSquaredError(),\n",
       "          on_epoch_finished=(<mink.handlers.PrintTrainProgress object at 0x7fcf6ac65128>,),\n",
       "          on_training_started=(<mink.handlers.PrintLayerInfo object at 0x7fcf6ac650f0>,),\n",
       "          session_kwargs=None, update=SGD(learning_rate=0.0001), verbose=1)"
      ]
     },
     "execution_count": 24,
     "metadata": {},
     "output_type": "execute_result"
    }
   ],
   "source": [
    "net.fit(X, y, epochs=20)"
   ]
  },
  {
   "cell_type": "markdown",
   "metadata": {
    "collapsed": true
   },
   "source": [
    "## Saving and restoring"
   ]
  },
  {
   "cell_type": "markdown",
   "metadata": {},
   "source": [
    "### Save previous net"
   ]
  },
  {
   "cell_type": "code",
   "execution_count": 25,
   "metadata": {
    "collapsed": false,
    "scrolled": true
   },
   "outputs": [
    {
     "name": "stdout",
     "output_type": "stream",
     "text": [
      "139.113633187\n"
     ]
    }
   ],
   "source": [
    "score_before = mean_squared_error(y, net.predict(X))\n",
    "print(score_before)"
   ]
  },
  {
   "cell_type": "code",
   "execution_count": 26,
   "metadata": {
    "collapsed": false
   },
   "outputs": [],
   "source": [
    "with open('mynet.pkl', 'wb') as f:\n",
    "    pickle.dump(net, f)"
   ]
  },
  {
   "cell_type": "markdown",
   "metadata": {},
   "source": [
    "### Create a new net with same architecture"
   ]
  },
  {
   "cell_type": "code",
   "execution_count": 27,
   "metadata": {
    "collapsed": true
   },
   "outputs": [],
   "source": [
    "with open('mynet.pkl', 'rb') as f:\n",
    "    new_net = pickle.load(f)"
   ]
  },
  {
   "cell_type": "code",
   "execution_count": 28,
   "metadata": {
    "collapsed": false,
    "scrolled": true
   },
   "outputs": [
    {
     "name": "stdout",
     "output_type": "stream",
     "text": [
      "139.113633187\n"
     ]
    }
   ],
   "source": [
    "score_after = mean_squared_error(y, new_net.predict(X))\n",
    "print(score_after)\n",
    "assert np.isclose(score_before, score_after)"
   ]
  },
  {
   "cell_type": "code",
   "execution_count": null,
   "metadata": {
    "collapsed": true
   },
   "outputs": [],
   "source": []
  }
 ],
 "metadata": {
  "kernelspec": {
   "display_name": "Python 3",
   "language": "python",
   "name": "python3"
  },
  "language_info": {
   "codemirror_mode": {
    "name": "ipython",
    "version": 3
   },
   "file_extension": ".py",
   "mimetype": "text/x-python",
   "name": "python",
   "nbconvert_exporter": "python",
   "pygments_lexer": "ipython3",
   "version": "3.4.4"
  }
 },
 "nbformat": 4,
 "nbformat_minor": 0
}
