{
 "cells": [
  {
   "cell_type": "markdown",
   "metadata": {
    "collapsed": true
   },
   "source": [
    "# Mink CNN usage examples"
   ]
  },
  {
   "cell_type": "markdown",
   "metadata": {},
   "source": [
    "## Imports"
   ]
  },
  {
   "cell_type": "code",
   "execution_count": 1,
   "metadata": {
    "collapsed": false
   },
   "outputs": [
    {
     "name": "stdout",
     "output_type": "stream",
     "text": [
      "Populating the interactive namespace from numpy and matplotlib\n"
     ]
    }
   ],
   "source": [
    "%pylab inline\n",
    "import matplotlib.pyplot as plt\n",
    "import numpy as np\n",
    "from sklearn.cross_validation import train_test_split\n",
    "from sklearn.grid_search import GridSearchCV\n",
    "from sklearn.utils import shuffle\n",
    "import tensorflow as tf\n",
    "import pandas as pd"
   ]
  },
  {
   "cell_type": "code",
   "execution_count": 2,
   "metadata": {
    "collapsed": false
   },
   "outputs": [],
   "source": [
    "from mink import NeuralNetRegressor\n",
    "from mink.layers import DenseLayer\n",
    "from mink.layers import InputLayer\n",
    "from mink.layers import Conv2DLayer\n",
    "from mink.layers import DropoutLayer\n",
    "from mink.layers import MaxPool2DLayer\n",
    "from mink.layers import ImageResizeLayer\n",
    "from mink.layers import ConcatLayer\n",
    "from mink.nonlinearities import Softmax\n",
    "from mink import updates"
   ]
  },
  {
   "cell_type": "markdown",
   "metadata": {},
   "source": [
    "## Data"
   ]
  },
  {
   "cell_type": "code",
   "execution_count": 3,
   "metadata": {
    "collapsed": false
   },
   "outputs": [],
   "source": [
    "df = pd.read_csv('../../data/mnist/train.csv')"
   ]
  },
  {
   "cell_type": "code",
   "execution_count": 4,
   "metadata": {
    "collapsed": false
   },
   "outputs": [],
   "source": [
    "y = df.pop('label')"
   ]
  },
  {
   "cell_type": "code",
   "execution_count": 5,
   "metadata": {
    "collapsed": false
   },
   "outputs": [],
   "source": [
    "X = (df.values / 255.).astype(np.float32)"
   ]
  },
  {
   "cell_type": "code",
   "execution_count": 6,
   "metadata": {
    "collapsed": false
   },
   "outputs": [
    {
     "data": {
      "text/plain": [
       "(42000, 784)"
      ]
     },
     "execution_count": 6,
     "metadata": {},
     "output_type": "execute_result"
    }
   ],
   "source": [
    "X.shape"
   ]
  },
  {
   "cell_type": "code",
   "execution_count": 7,
   "metadata": {
    "collapsed": true
   },
   "outputs": [],
   "source": [
    "X = X.reshape(-1, 28, 28, 1)"
   ]
  },
  {
   "cell_type": "code",
   "execution_count": 8,
   "metadata": {
    "collapsed": false
   },
   "outputs": [
    {
     "data": {
      "text/plain": [
       "<matplotlib.image.AxesImage at 0x7fefaec6b438>"
      ]
     },
     "execution_count": 8,
     "metadata": {},
     "output_type": "execute_result"
    },
    {
     "data": {
      "image/png": "[encoded data removed]",
      "text/plain": [
       "<matplotlib.figure.Figure at 0x7fefaecadb00>"
      ]
     },
     "metadata": {},
     "output_type": "display_data"
    }
   ],
   "source": [
    "plt.imshow(X[0, :, :, 0], cmap='gray')"
   ]
  },
  {
   "cell_type": "code",
   "execution_count": 9,
   "metadata": {
    "collapsed": true
   },
   "outputs": [],
   "source": [
    "X, y = shuffle(X, y)"
   ]
  },
  {
   "cell_type": "code",
   "execution_count": 10,
   "metadata": {
    "collapsed": true
   },
   "outputs": [],
   "source": [
    "X_train, X_valid, y_train, y_valid = train_test_split(X, y, train_size=0.8)"
   ]
  },
  {
   "cell_type": "markdown",
   "metadata": {},
   "source": [
    "## Train"
   ]
  },
  {
   "cell_type": "code",
   "execution_count": 11,
   "metadata": {
    "collapsed": true
   },
   "outputs": [],
   "source": [
    "gpu_options = tf.GPUOptions(per_process_gpu_memory_fraction=0.5)\n",
    "session_kwargs = {'config': tf.ConfigProto(gpu_options=gpu_options)}"
   ]
  },
  {
   "cell_type": "code",
   "execution_count": 12,
   "metadata": {
    "collapsed": true
   },
   "outputs": [],
   "source": [
    "def sigmoid(x):\n",
    "    return 1 / (1 + tf.exp(-x))"
   ]
  },
  {
   "cell_type": "code",
   "execution_count": 13,
   "metadata": {
    "collapsed": false
   },
   "outputs": [],
   "source": [
    "l_inp = InputLayer(ys=tf.placeholder('float32', shape=(None, 28, 28, 1)))\n",
    "\n",
    "l_c01 = Conv2DLayer(l_inp, num_filters=32)\n",
    "l_c02 = Conv2DLayer(l_c01, num_filters=32)\n",
    "l_p03 = MaxPool2DLayer(l_c02)\n",
    "\n",
    "l_c11 = Conv2DLayer(l_p03, num_filters=64)\n",
    "l_c12 = Conv2DLayer(l_c11, num_filters=64)\n",
    "l_p13 = MaxPool2DLayer(l_c12)\n",
    "\n",
    "# bottom\n",
    "l_c20 = Conv2DLayer(l_p13, num_filters=64)\n",
    "l_c21 = Conv2DLayer(l_c20, num_filters=64)\n",
    "\n",
    "l_u14 = ImageResizeLayer(l_c21)\n",
    "l_m15 = ConcatLayer([l_u14, l_c12], axis=3)\n",
    "l_c16 = Conv2DLayer(l_m15, num_filters=64)\n",
    "l_c17 = Conv2DLayer(l_c16, num_filters=64)\n",
    "\n",
    "l_u04 = ImageResizeLayer(l_c17)\n",
    "l_m05 = ConcatLayer([l_u04, l_c02], axis=3)\n",
    "l_c06 = Conv2DLayer(l_m05, num_filters=32)\n",
    "l_c07 = Conv2DLayer(l_c06, num_filters=32)\n",
    "\n",
    "l_out = Conv2DLayer(l_c07, num_filters=1, filter_size=1, nonlinearity=sigmoid)"
   ]
  },
  {
   "cell_type": "code",
   "execution_count": 14,
   "metadata": {
    "collapsed": true
   },
   "outputs": [],
   "source": [
    "all_layers = [l_inp, l_c01, l_c02, l_p03, l_c11, l_c12, l_p13, l_c20, l_c21, l_u14,\n",
    "              l_m15, l_c16, l_c17, l_u04, l_m05, l_c06, l_c07, l_out]"
   ]
  },
  {
   "cell_type": "code",
   "execution_count": 15,
   "metadata": {
    "collapsed": false
   },
   "outputs": [],
   "source": [
    "net = NeuralNetRegressor(\n",
    "    layer=all_layers, \n",
    "    max_epochs=20, \n",
    "    verbose=1, \n",
    "    update=updates.Adam(4.0),\n",
    "    session_kwargs=session_kwargs,\n",
    ")"
   ]
  },
  {
   "cell_type": "code",
   "execution_count": 16,
   "metadata": {
    "collapsed": false
   },
   "outputs": [
    {
     "name": "stdout",
     "output_type": "stream",
     "text": [
      "# Neural Network with 286529 learnable parameters\n",
      "\n",
      "## Layer information\n",
      "\n",
      "|   # | name        | size      |\n",
      "|----:|:------------|:----------|\n",
      "|   0 | input       | 28x28x1   |\n",
      "|   1 | conv2d      | 28x28x32  |\n",
      "|   2 | conv2d      | 28x28x32  |\n",
      "|   3 | maxpool2d   | 14x14x32  |\n",
      "|   4 | conv2d      | 14x14x64  |\n",
      "|   5 | conv2d      | 14x14x64  |\n",
      "|   6 | maxpool2d   | 7x7x64    |\n",
      "|   7 | conv2d      | 7x7x64    |\n",
      "|   8 | conv2d      | 7x7x64    |\n",
      "|   9 | imageresize | 14x14x64  |\n",
      "|  10 | concat      | 14x14x128 |\n",
      "|  11 | conv2d      | 14x14x64  |\n",
      "|  12 | conv2d      | 14x14x64  |\n",
      "|  13 | imageresize | 28x28x64  |\n",
      "|  14 | concat      | 28x28x96  |\n",
      "|  15 | conv2d      | 28x28x32  |\n",
      "|  16 | conv2d      | 28x28x32  |\n",
      "|  17 | conv2d      | 28x28x1   |\n",
      "\n",
      "|   epoch |   train loss |      dur |\n",
      "|--------:|-------------:|---------:|\n",
      "|       1 |      \u001b[36m0.07859\u001b[0m | 59.08913 |\n",
      "|       2 |      \u001b[36m0.07034\u001b[0m | 58.83300 |\n",
      "|       3 |      \u001b[36m0.06837\u001b[0m | 58.89903 |\n",
      "|       4 |      \u001b[36m0.06778\u001b[0m | 58.83018 |\n",
      "|       5 |      \u001b[36m0.06738\u001b[0m | 59.23794 |\n",
      "|       6 |      \u001b[36m0.06712\u001b[0m | 58.65211 |\n",
      "|       7 |      \u001b[36m0.06585\u001b[0m | 58.60284 |\n",
      "|       8 |      \u001b[36m0.06176\u001b[0m | 58.46940 |\n",
      "|       9 |      \u001b[36m0.05689\u001b[0m | 58.26613 |\n",
      "|      10 |      \u001b[36m0.04704\u001b[0m | 58.20170 |\n",
      "|      11 |      \u001b[36m0.02896\u001b[0m | 58.26637 |\n",
      "|      12 |      \u001b[36m0.01743\u001b[0m | 58.12508 |\n",
      "|      13 |      \u001b[36m0.01201\u001b[0m | 58.15165 |\n",
      "|      14 |      \u001b[36m0.00936\u001b[0m | 58.26038 |\n",
      "|      15 |      \u001b[36m0.00783\u001b[0m | 58.23023 |\n",
      "|      16 |      \u001b[36m0.00677\u001b[0m | 58.10148 |\n",
      "|      17 |      \u001b[36m0.00608\u001b[0m | 58.00106 |\n",
      "|      18 |      \u001b[36m0.00555\u001b[0m | 58.11893 |\n",
      "|      19 |      \u001b[36m0.00515\u001b[0m | 58.00885 |\n",
      "|      20 |      \u001b[36m0.00477\u001b[0m | 58.13484 |\n"
     ]
    },
    {
     "data": {
      "text/plain": [
       "NeuralNetRegressor(batch_iterator_test=128, batch_iterator_train=128,\n",
       "          encoder=None,\n",
       "          layer=[InputLayer(Xs=None, make_logs=False, name=None,\n",
       "      ys=<tf.Tensor 'Placeholder:0' shape=(?, 28, 28, 1) dtype=float32>), Conv2DLayer(W=GlorotUniform(c01b=False, gain=1.0), b=Constant(value=0.0),\n",
       "      filter_size=3,\n",
       "      incoming=InputLayer(Xs=None, make_logs=False, name=None,\n",
       "      ys=<tf....  nonlinearity=<function sigmoid at 0x7fefaec30268>, num_filters=1,\n",
       "      padding='SAME', stride=1)],\n",
       "          max_epochs=20, objective=MeanSquaredError(),\n",
       "          on_epoch_finished=(<mink.handlers.PrintTrainProgress object at 0x7fefaeca5438>,),\n",
       "          on_training_started=(<mink.handlers.PrintLayerInfo object at 0x7fefaeca5400>,),\n",
       "          session_kwargs={'config': gpu_options {\n",
       "  per_process_gpu_memory_fraction: 0.5\n",
       "}\n",
       "},\n",
       "          update=Adam(learning_rate=4.0), verbose=1)"
      ]
     },
     "execution_count": 16,
     "metadata": {},
     "output_type": "execute_result"
    }
   ],
   "source": [
    "net.fit(X_train, X_train[:, ::-1])"
   ]
  },
  {
   "cell_type": "markdown",
   "metadata": {
    "collapsed": true
   },
   "source": [
    "## Validate"
   ]
  },
  {
   "cell_type": "code",
   "execution_count": 17,
   "metadata": {
    "collapsed": false,
    "scrolled": true
   },
   "outputs": [
    {
     "name": "stdout",
     "output_type": "stream",
     "text": [
      "CPU times: user 3.7 s, sys: 84 ms, total: 3.79 s\n",
      "Wall time: 4.35 s\n"
     ]
    }
   ],
   "source": [
    "%time y_pred = net.predict(X_valid)"
   ]
  },
  {
   "cell_type": "code",
   "execution_count": 18,
   "metadata": {
    "collapsed": false
   },
   "outputs": [
    {
     "data": {
      "text/plain": [
       "<matplotlib.image.AxesImage at 0x7fef9db05f60>"
      ]
     },
     "execution_count": 18,
     "metadata": {},
     "output_type": "execute_result"
    },
    {
     "data": {
      "image/png": "[encoded data removed]",
      "text/plain": [
       "<matplotlib.figure.Figure at 0x7ff0117b3a20>"
      ]
     },
     "metadata": {},
     "output_type": "display_data"
    }
   ],
   "source": [
    "plt.imshow(X_valid[0, :, :, 0], cmap='gray')"
   ]
  },
  {
   "cell_type": "code",
   "execution_count": 19,
   "metadata": {
    "collapsed": false
   },
   "outputs": [
    {
     "data": {
      "text/plain": [
       "<matplotlib.image.AxesImage at 0x7fefad3cf6a0>"
      ]
     },
     "execution_count": 19,
     "metadata": {},
     "output_type": "execute_result"
    },
    {
     "data": {
      "image/png": "[encoded data removed]",
      "text/plain": [
       "<matplotlib.figure.Figure at 0x7fef9db180f0>"
      ]
     },
     "metadata": {},
     "output_type": "display_data"
    }
   ],
   "source": [
    "plt.imshow(y_pred[0, :, :, 0], cmap='gray')"
   ]
  },
  {
   "cell_type": "code",
   "execution_count": 20,
   "metadata": {
    "collapsed": false
   },
   "outputs": [
    {
     "data": {
      "text/plain": [
       "<matplotlib.image.AxesImage at 0x7fefa8107208>"
      ]
     },
     "execution_count": 20,
     "metadata": {},
     "output_type": "execute_result"
    },
    {
     "data": {
      "image/png": "[encoded data removed]",
      "text/plain": [
       "<matplotlib.figure.Figure at 0x7fefa81498d0>"
      ]
     },
     "metadata": {},
     "output_type": "display_data"
    }
   ],
   "source": [
    "plt.imshow(X_valid[110, :, :, 0], cmap='gray')"
   ]
  },
  {
   "cell_type": "code",
   "execution_count": 21,
   "metadata": {
    "collapsed": false
   },
   "outputs": [
    {
     "data": {
      "text/plain": [
       "<matplotlib.image.AxesImage at 0x7fefa80e9c88>"
      ]
     },
     "execution_count": 21,
     "metadata": {},
     "output_type": "execute_result"
    },
    {
     "data": {
      "image/png": "[encoded data removed]",
      "text/plain": [
       "<matplotlib.figure.Figure at 0x7fefa812a4a8>"
      ]
     },
     "metadata": {},
     "output_type": "display_data"
    }
   ],
   "source": [
    "plt.imshow(y_pred[110, :, :, 0], cmap='gray')"
   ]
  },
  {
   "cell_type": "code",
   "execution_count": null,
   "metadata": {
    "collapsed": true
   },
   "outputs": [],
   "source": []
  }
 ],
 "metadata": {
  "kernelspec": {
   "display_name": "Python 3",
   "language": "python",
   "name": "python3"
  },
  "language_info": {
   "codemirror_mode": {
    "name": "ipython",
    "version": 3
   },
   "file_extension": ".py",
   "mimetype": "text/x-python",
   "name": "python",
   "nbconvert_exporter": "python",
   "pygments_lexer": "ipython3",
   "version": "3.4.4"
  }
 },
 "nbformat": 4,
 "nbformat_minor": 0
}
