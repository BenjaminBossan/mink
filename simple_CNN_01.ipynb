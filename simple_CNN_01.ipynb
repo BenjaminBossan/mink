{
 "cells": [
  {
   "cell_type": "markdown",
   "metadata": {
    "collapsed": true
   },
   "source": [
    "# Mink CNN usage examples"
   ]
  },
  {
   "cell_type": "markdown",
   "metadata": {},
   "source": [
    "## Imports"
   ]
  },
  {
   "cell_type": "code",
   "execution_count": 1,
   "metadata": {
    "collapsed": false
   },
   "outputs": [
    {
     "name": "stdout",
     "output_type": "stream",
     "text": [
      "Populating the interactive namespace from numpy and matplotlib\n"
     ]
    }
   ],
   "source": [
    "%pylab inline\n",
    "import matplotlib.pyplot as plt\n",
    "import numpy as np\n",
    "from sklearn.cross_validation import train_test_split\n",
    "from sklearn.grid_search import GridSearchCV\n",
    "from sklearn.utils import shuffle\n",
    "import tensorflow as tf\n",
    "import pandas as pd"
   ]
  },
  {
   "cell_type": "code",
   "execution_count": 2,
   "metadata": {
    "collapsed": false
   },
   "outputs": [],
   "source": [
    "from mink import NeuralNetClassifier\n",
    "from mink.layers import DenseLayer\n",
    "from mink.layers import InputLayer\n",
    "from mink.layers import Conv2DLayer\n",
    "from mink.layers import DropoutLayer\n",
    "from mink.layers import MaxPool2DLayer\n",
    "from mink.nonlinearities import Softmax\n",
    "from mink import updates"
   ]
  },
  {
   "cell_type": "code",
   "execution_count": 3,
   "metadata": {
    "collapsed": false
   },
   "outputs": [
    {
     "data": {
      "text/plain": [
       "True"
      ]
     },
     "execution_count": 3,
     "metadata": {},
     "output_type": "execute_result"
    }
   ],
   "source": [
    "# experimental logging support\n",
    "tf.app.flags.DEFINE_string('summaries_dir', '/home/vinh/work/mink/logs/', 'summaries directory')\n",
    "if tf.gfile.Exists(tf.app.flags.FLAGS.summaries_dir):\n",
    "    tf.gfile.DeleteRecursively(tf.app.flags.FLAGS.summaries_dir)\n",
    "tf.gfile.MakeDirs(tf.app.flags.FLAGS.summaries_dir)\n",
    "tf.gfile.Exists(tf.app.flags.FLAGS.summaries_dir)"
   ]
  },
  {
   "cell_type": "markdown",
   "metadata": {},
   "source": [
    "## Data"
   ]
  },
  {
   "cell_type": "code",
   "execution_count": 4,
   "metadata": {
    "collapsed": false
   },
   "outputs": [],
   "source": [
    "df = pd.read_csv('../../data/mnist/train.csv')"
   ]
  },
  {
   "cell_type": "code",
   "execution_count": 5,
   "metadata": {
    "collapsed": false
   },
   "outputs": [],
   "source": [
    "y = df.pop('label')"
   ]
  },
  {
   "cell_type": "code",
   "execution_count": 6,
   "metadata": {
    "collapsed": false
   },
   "outputs": [],
   "source": [
    "X = (df.values / 255.).astype(np.float32)"
   ]
  },
  {
   "cell_type": "code",
   "execution_count": 7,
   "metadata": {
    "collapsed": false
   },
   "outputs": [
    {
     "data": {
      "text/plain": [
       "(42000, 784)"
      ]
     },
     "execution_count": 7,
     "metadata": {},
     "output_type": "execute_result"
    }
   ],
   "source": [
    "X.shape"
   ]
  },
  {
   "cell_type": "code",
   "execution_count": 8,
   "metadata": {
    "collapsed": true
   },
   "outputs": [],
   "source": [
    "X = X.reshape(-1, 28, 28, 1)"
   ]
  },
  {
   "cell_type": "code",
   "execution_count": 9,
   "metadata": {
    "collapsed": false
   },
   "outputs": [
    {
     "data": {
      "text/plain": [
       "<matplotlib.image.AxesImage at 0x7fd14c5a3ac8>"
      ]
     },
     "execution_count": 9,
     "metadata": {},
     "output_type": "execute_result"
    },
    {
     "data": {
      "image/png": "[encoded data removed]",
      "text/plain": [
       "<matplotlib.figure.Figure at 0x7fd14c5db8d0>"
      ]
     },
     "metadata": {},
     "output_type": "display_data"
    }
   ],
   "source": [
    "plt.imshow(X[0, :, :, 0], cmap='gray')"
   ]
  },
  {
   "cell_type": "code",
   "execution_count": 10,
   "metadata": {
    "collapsed": true
   },
   "outputs": [],
   "source": [
    "X, y = shuffle(X, y)"
   ]
  },
  {
   "cell_type": "code",
   "execution_count": 11,
   "metadata": {
    "collapsed": true
   },
   "outputs": [],
   "source": [
    "X_train, X_valid, y_train, y_valid = train_test_split(X, y, train_size=0.8)"
   ]
  },
  {
   "cell_type": "markdown",
   "metadata": {},
   "source": [
    "## Train"
   ]
  },
  {
   "cell_type": "code",
   "execution_count": 12,
   "metadata": {
    "collapsed": true
   },
   "outputs": [],
   "source": [
    "gpu_options = tf.GPUOptions(per_process_gpu_memory_fraction=0.5)\n",
    "session_kwargs = {'config': tf.ConfigProto(gpu_options=gpu_options)}"
   ]
  },
  {
   "cell_type": "code",
   "execution_count": 13,
   "metadata": {
    "collapsed": false
   },
   "outputs": [],
   "source": [
    "l = InputLayer()\n",
    "l = Conv2DLayer(l)\n",
    "l = MaxPool2DLayer(l)\n",
    "l = Conv2DLayer(l, num_filters=64)\n",
    "l = MaxPool2DLayer(l)\n",
    "l = DenseLayer(l, num_units=64)\n",
    "l = DenseLayer(l)"
   ]
  },
  {
   "cell_type": "code",
   "execution_count": 14,
   "metadata": {
    "collapsed": false
   },
   "outputs": [],
   "source": [
    "net = NeuralNetClassifier(\n",
    "    layer=l, \n",
    "    max_epochs=20, \n",
    "    verbose=1, \n",
    "    update=updates.Momentum(learning_rate=0.02),\n",
    "    session_kwargs=session_kwargs,\n",
    ")"
   ]
  },
  {
   "cell_type": "code",
   "execution_count": 15,
   "metadata": {
    "collapsed": false
   },
   "outputs": [
    {
     "name": "stdout",
     "output_type": "stream",
     "text": [
      "# Neural Network with 220234 learnable parameters\n",
      "\n",
      "## Layer information\n",
      "\n",
      "|   # | name      | size     |\n",
      "|----:|:----------|:---------|\n",
      "|   0 | input     | 28x28x1  |\n",
      "|   1 | conv2d    | 28x28x32 |\n",
      "|   2 | maxpool2d | 14x14x32 |\n",
      "|   3 | conv2d    | 14x14x64 |\n",
      "|   4 | maxpool2d | 7x7x64   |\n",
      "|   5 | dense     | 64       |\n",
      "|   6 | dense     | 10       |\n",
      "\n",
      "|   epoch |   train loss |     dur |\n",
      "|--------:|-------------:|--------:|\n",
      "|       1 |      \u001b[36m0.49637\u001b[0m | 2.36970 |\n",
      "|       2 |      \u001b[36m0.10350\u001b[0m | 2.15165 |\n",
      "|       3 |      \u001b[36m0.06770\u001b[0m | 2.16544 |\n",
      "|       4 |      \u001b[36m0.05209\u001b[0m | 2.19027 |\n",
      "|       5 |      \u001b[36m0.04427\u001b[0m | 2.25290 |\n",
      "|       6 |      \u001b[36m0.03779\u001b[0m | 2.14942 |\n",
      "|       7 |      \u001b[36m0.03029\u001b[0m | 2.13868 |\n",
      "|       8 |      \u001b[36m0.02550\u001b[0m | 2.13690 |\n",
      "|       9 |      \u001b[36m0.02213\u001b[0m | 2.14301 |\n",
      "|      10 |      \u001b[36m0.01975\u001b[0m | 2.12599 |\n",
      "|      11 |      \u001b[36m0.01743\u001b[0m | 2.12940 |\n",
      "|      12 |      \u001b[36m0.01563\u001b[0m | 2.13086 |\n",
      "|      13 |      \u001b[36m0.01391\u001b[0m | 2.12404 |\n",
      "|      14 |      \u001b[36m0.01227\u001b[0m | 2.12878 |\n",
      "|      15 |      \u001b[36m0.01119\u001b[0m | 2.13253 |\n",
      "|      16 |      \u001b[36m0.01052\u001b[0m | 2.12368 |\n",
      "|      17 |      \u001b[36m0.00931\u001b[0m | 2.12070 |\n",
      "|      18 |      \u001b[36m0.00822\u001b[0m | 2.12636 |\n",
      "|      19 |      \u001b[36m0.00698\u001b[0m | 2.12403 |\n",
      "|      20 |      \u001b[36m0.00536\u001b[0m | 2.13136 |\n"
     ]
    },
    {
     "data": {
      "text/plain": [
       "NeuralNetClassifier(batch_iterator_test=128, batch_iterator_train=128,\n",
       "          encoder=LabelBinarizer(neg_label=0, pos_label=1, sparse_output=False),\n",
       "          layer=DenseLayer(W=GlorotUniform(c01b=False, gain=1.0), b=Constant(value=0.0),\n",
       "      incoming=DenseLayer(W=GlorotUniform(c01b=False, gain=1.0), b=Constant(value=0.0),\n",
       "      incoming=MaxPool2DLayer(incoming=Conv2DLayer(W=GlorotUniform(c01b=False, gain=1.0), b=Constant(value=0.0),\n",
       "      filter_size=3,...nearity=None, num_units=64),\n",
       "      make_logs=False, name=None, nonlinearity=Softmax(), num_units=10),\n",
       "          max_epochs=20, objective=CrossEntropy(eps=1e-12),\n",
       "          on_epoch_finished=(<mink.handlers.PrintTrainProgress object at 0x7fd14c5db278>,),\n",
       "          on_training_started=(<mink.handlers.PrintLayerInfo object at 0x7fd14c61ad68>,),\n",
       "          session_kwargs={'config': gpu_options {\n",
       "  per_process_gpu_memory_fraction: 0.5\n",
       "}\n",
       "},\n",
       "          update=Momentum(learning_rate=0.02, momentum=0.9), verbose=1)"
      ]
     },
     "execution_count": 15,
     "metadata": {},
     "output_type": "execute_result"
    }
   ],
   "source": [
    "net.fit(X_train, y_train)"
   ]
  },
  {
   "cell_type": "markdown",
   "metadata": {
    "collapsed": true
   },
   "source": [
    "## Validate"
   ]
  },
  {
   "cell_type": "code",
   "execution_count": 16,
   "metadata": {
    "collapsed": false,
    "scrolled": true
   },
   "outputs": [
    {
     "name": "stdout",
     "output_type": "stream",
     "text": [
      "CPU times: user 156 ms, sys: 24 ms, total: 180 ms\n",
      "Wall time: 160 ms\n"
     ]
    }
   ],
   "source": [
    "%time y_pred = net.predict(X_valid)"
   ]
  },
  {
   "cell_type": "code",
   "execution_count": 17,
   "metadata": {
    "collapsed": false
   },
   "outputs": [
    {
     "data": {
      "text/plain": [
       "0.98630952380952386"
      ]
     },
     "execution_count": 17,
     "metadata": {},
     "output_type": "execute_result"
    }
   ],
   "source": [
    "(y_pred == y_valid).mean()"
   ]
  },
  {
   "cell_type": "code",
   "execution_count": null,
   "metadata": {
    "collapsed": true
   },
   "outputs": [],
   "source": []
  }
 ],
 "metadata": {
  "kernelspec": {
   "display_name": "Python 3",
   "language": "python",
   "name": "python3"
  },
  "language_info": {
   "codemirror_mode": {
    "name": "ipython",
    "version": 3
   },
   "file_extension": ".py",
   "mimetype": "text/x-python",
   "name": "python",
   "nbconvert_exporter": "python",
   "pygments_lexer": "ipython3",
   "version": "3.4.4"
  }
 },
 "nbformat": 4,
 "nbformat_minor": 0
}
